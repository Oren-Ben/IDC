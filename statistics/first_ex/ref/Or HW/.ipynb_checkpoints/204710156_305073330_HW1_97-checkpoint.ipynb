{
 "cells": [
  {
   "cell_type": "markdown",
   "metadata": {},
   "source": [
    "### IDs:\n",
    "Insert yours IDs to the cell below"
   ]
  },
  {
   "cell_type": "markdown",
   "metadata": {},
   "source": [
    "ID #1: 305073330\n",
    "\n",
    "ID #2: 204710156\n"
   ]
  },
  {
   "cell_type": "markdown",
   "metadata": {},
   "source": [
    "## Read the following instructions carefully:\n",
    "\n",
    "1. This jupyter notebook contains all the step by step instructions needed for this exercise.\n",
    "1. You are free to add cells.\n",
    "1. Write your functions and your answers in this jupyter notebook only.\n",
    "1. Answers to theoretical questions should be written in **markdown cells (with $\\LaTeX$ support)**.\n",
    "1. Submit this jupyter notebook only using your ID as a filename. Not to use ZIP or RAR. For example, your Moodle submission file name should look like this (two id numbers): `123456789_987654321.ipynb`."
   ]
  },
  {
   "cell_type": "markdown",
   "metadata": {},
   "source": [
    "### Question 1 - Defective products"
   ]
  },
  {
   "cell_type": "markdown",
   "metadata": {},
   "source": [
    "In a manufacturing pipeline products are 3% defective. We are interested in examining a defective product to see what goes wrong on the belt. We need to ask the facility manager to send us a set of independent samples for examination."
   ]
  },
  {
   "cell_type": "markdown",
   "metadata": {},
   "source": [
    "#### 1.A\n",
    "\n",
    "How many independent samples should we ask for in order to have a 85% probability of having at least one defective product in the batch sent? You should write a function."
   ]
  },
  {
   "cell_type": "code",
   "execution_count": 1,
   "metadata": {},
   "outputs": [],
   "source": [
    "import pandas as pd\n",
    "import numpy as np\n",
    "import matplotlib.pyplot as plt\n",
    "from scipy import stats\n",
    "import seaborn as sns\n",
    "\n",
    "%matplotlib inline"
   ]
  },
  {
   "cell_type": "code",
   "execution_count": 10,
   "metadata": {},
   "outputs": [
    {
     "data": {
      "text/plain": [
       "63"
      ]
     },
     "execution_count": 10,
     "metadata": {},
     "output_type": "execute_result"
    }
   ],
   "source": [
    "\"compute the inverse of cdf - find number of samples from a given probaility\"\n",
    "num_samples = int(stats.geom.ppf(0.85, 0.03))\n",
    "num_samples"
   ]
  },
  {
   "cell_type": "markdown",
   "metadata": {},
   "source": [
    "#### 1.B\n",
    "Answer this part again with the following changes: products are 4% defective and we want a 95% probability of at least one defective product in the batch."
   ]
  },
  {
   "cell_type": "code",
   "execution_count": 11,
   "metadata": {},
   "outputs": [
    {
     "data": {
      "text/plain": [
       "74"
      ]
     },
     "execution_count": 11,
     "metadata": {},
     "output_type": "execute_result"
    }
   ],
   "source": [
    "num_samples = int(stats.geom.ppf(0.95, 0.04))\n",
    "num_samples"
   ]
  },
  {
   "cell_type": "markdown",
   "metadata": {},
   "source": [
    "#### 1.C \n",
    "\n",
    "Consider the following cases and calculate how many independent samples are required: \n",
    "\n",
    "1. Products are 10% defective and we want a 90% probability of at least 5 defective products in the batch.\n",
    "1. Products are 30% defective and we want a 90% probability of at least 15 defective products in the batch.\n",
    "\n",
    "Explain the difference between the two results. You should use mathematical reasoning based on the properties of distributions you saw in class and visualizations in your answer."
   ]
  },
  {
   "cell_type": "code",
   "execution_count": 12,
   "metadata": {},
   "outputs": [
    {
     "data": {
      "text/plain": [
       "(78, 64)"
      ]
     },
     "execution_count": 12,
     "metadata": {},
     "output_type": "execute_result"
    }
   ],
   "source": [
    "\"compute the inverse of cdf - find number of samples from a given probaility and from a given num of successes\"\n",
    "\"loc should be set to the minimum desired number of successes \"\n",
    "num_samples1 = int(stats.nbinom.ppf(0.90, 5, 0.1, loc=5))\n",
    "num_samples2 = int(stats.nbinom.ppf(0.90, 15, 0.3, loc=15))\n",
    "\n",
    "num_samples1, num_samples2"
   ]
  },
  {
   "cell_type": "code",
   "execution_count": 13,
   "metadata": {},
   "outputs": [
    {
     "data": {
      "text/plain": [
       "<matplotlib.legend.Legend at 0x17f0096b460>"
      ]
     },
     "execution_count": 13,
     "metadata": {},
     "output_type": "execute_result"
    },
    {
     "data": {
      "image/png": "[encoded data removed]",
      "text/plain": [
       "<Figure size 1800x432 with 1 Axes>"
      ]
     },
     "metadata": {
      "needs_background": "light"
     },
     "output_type": "display_data"
    }
   ],
   "source": [
    "r1, r2 = 5, 15\n",
    "p1, p2 = 0.1, 0.3\n",
    "\n",
    "z1 = stats.nbinom(r1,p1, loc=5)\n",
    "z2 = stats.nbinom(r2,p2, loc=15)\n",
    "\n",
    "i = range(0,int(np.round(2*r1/p1,0)), 1)\n",
    "p_z1 = z1.pmf([xx for xx in i])\n",
    "p_z2 = z2.pmf([xx for xx in i])\n",
    "\n",
    "plt.figure(figsize=(25,6))\n",
    "plt.subplot(1,2,1)\n",
    "plt.plot(p_z1, 'v', label=\"$Z1\\sim NB({{{0}}},{{{1}}})$\".format(p1,r1))\n",
    "plt.plot(p_z2, 'x', label=\"$Z2\\sim NB({{{0}}},{{{1}}})$\".format(p2,r2))\n",
    "plt.xlabel(\"number of samples\", fontsize=16)\n",
    "plt.ylabel(\"prob of number of samples\", fontsize=16)\n",
    "plt.legend()"
   ]
  },
  {
   "cell_type": "markdown",
   "metadata": {},
   "source": [
    "##### The main diffrences between the results:<br>\n",
    "Although both scenarios have the same expected value, their variances are different, which leads to different results.<br> \n",
    "From the graph above and from our results, we can conclude that situation 2 (Z2 in the figure) Will need fewer samples to perform his task (if the probability(the task) is 90%).<br>\n",
    "If we will perform an integral on the area on the graph above until we are reaching cdf of 90%, situation 1 will reach 78 samples while situation 2 will reach only 64 samples."
   ]
  },
  {
   "cell_type": "markdown",
   "metadata": {},
   "source": [
    "### Question 2 - Rent distributions in Randomistan"
   ]
  },
  {
   "cell_type": "markdown",
   "metadata": {},
   "source": [
    "The state of Randomistan conducted a survey to study the distribution of rent paid in two neighboring towns, Stochastic Heights and Random Grove, to be denoted SH and RG.<br> \n",
    "\n",
    "Here are some findings of the survey:\n",
    "* The population of SH and RG is 16,000 and 22,000 respectively. <br>\n",
    "* The mean rent in SH and RG is 6300RCU and 4200RCU respectively.\n",
    "* The median rent is 4600RCU in both towns.\n",
    "* The IQR of the rent is smaller in SH than in RG.\n",
    "\n",
    "All data generated in this question needs to be consistent with these findings."
   ]
  },
  {
   "cell_type": "markdown",
   "metadata": {},
   "source": [
    "#### 2.A\n",
    "Draw histograms that describe 2 different scenarii of possible distributions of rent in the two towns.\u000b",
    "Your histograms should:<br>\n",
    "* Use bins of 100RCU each.\n",
    "* Have at least 10 non zero bins."
   ]
  },
  {
   "cell_type": "code",
   "execution_count": 14,
   "metadata": {},
   "outputs": [],
   "source": [
    "#first, we will create a function that compute the relevant statistics parameters\n",
    "def compute_statistics_param(town_name, data):\n",
    "    mean = np.mean(data)\n",
    "    median = np.median(data)\n",
    "    var = np.var(data)\n",
    "    iqr = stats.iqr(data)\n",
    "    print (\"{} parameters:\\n mean: {}\\n median: {}\\n var: {}\\n IQR: {}\".format(town_name, mean, median, var, iqr))"
   ]
  },
  {
   "cell_type": "code",
   "execution_count": 15,
   "metadata": {},
   "outputs": [
    {
     "name": "stdout",
     "output_type": "stream",
     "text": [
      "SH1 parameters:\n",
      " mean: 6303.875\n",
      " median: 4600.0\n",
      " var: 38842747.484375\n",
      " IQR: 6400.0\n",
      "RG1 parameters:\n",
      " mean: 4198.636363636364\n",
      " median: 4600.0\n",
      " var: 8082134.504132232\n",
      " IQR: 6500.0\n"
     ]
    },
    {
     "data": {
      "image/png": "[encoded data removed]",
      "text/plain": [
       "<Figure size 1296x432 with 2 Axes>"
      ]
     },
     "metadata": {
      "needs_background": "light"
     },
     "output_type": "display_data"
    }
   ],
   "source": [
    "# SH first scenarii\n",
    "sh_frequency1 = [3000, 1010, 1000, 2000, 2000, 1000, 500, 1000, 510, 480, 1500, 2000]\n",
    "sh_rent_cost1 = [500, 1500, 2000, 2200, 4600, 5000, 5500, 7000, 7900, 9100, 13000, 19800]\n",
    "sh_rent_with_frequency1 = []\n",
    "for i in range(len(sh_frequency1)):\n",
    "    for j in range(sh_frequency1[i]):\n",
    "        sh_rent_with_frequency1.append(sh_rent_cost1[i])\n",
    "compute_statistics_param('SH1', sh_rent_with_frequency1)\n",
    "sh1_data = pd.DataFrame(sh_rent_with_frequency1)\n",
    "bins_sh = np.arange(min(sh_rent_cost1)-500, max(sh_rent_cost1) + 500, 100)\n",
    "\n",
    "\n",
    "# RG first scenarii\n",
    "rg_frequency1 = [3000, 3000, 3700, 4000, 500, 500, 500, 500, 300, 300, 2700, 3000]\n",
    "rg_rent_cost1 = [500, 1500, 2000, 4600, 4800, 5000, 5200, 5400, 5600, 5800, 8500, 8000]\n",
    "rg_rent_with_frequency1 = []\n",
    "for i in range(len(rg_frequency1)):\n",
    "    for j in range(rg_frequency1[i]):\n",
    "        rg_rent_with_frequency1.append(rg_rent_cost1[i])\n",
    "compute_statistics_param('RG1', rg_rent_with_frequency1)\n",
    "rg1_data = pd.DataFrame(rg_rent_with_frequency1)\n",
    "bins_rg = np.arange(min(rg_rent_cost1)-500, max(rg_rent_cost1) + 500, 100)\n",
    "\n",
    "#plot\n",
    "fig, ax = plt.subplots(nrows=1, ncols=2, figsize=(18,6))\n",
    "\n",
    "sns.histplot(data=sh1_data, ax=ax[0], bins=bins_sh)\n",
    "ax[0].set_title('SH rent cost')\n",
    "ax[0].set(xlabel='SH rent', ylabel='Number of people')\n",
    "ax[0].get_legend().remove()\n",
    "\n",
    "sns.histplot(data=rg1_data, ax=ax[1], bins=bins_rg, color='red')\n",
    "ax[1].set_title('RG rent cost')\n",
    "ax[1].set(xlabel='RG rent', ylabel='Number of people')\n",
    "ax[1].get_legend().remove()\n",
    "plt.show()"
   ]
  },
  {
   "cell_type": "code",
   "execution_count": 16,
   "metadata": {},
   "outputs": [
    {
     "name": "stdout",
     "output_type": "stream",
     "text": [
      "SH2 parameters:\n",
      " mean: 6300.625\n",
      " median: 4600.0\n",
      " var: 20382812.109375\n",
      " IQR: 1400.0\n",
      "RG2 parameters:\n",
      " mean: 4200.0\n",
      " median: 4600.0\n",
      " var: 6839090.909090909\n",
      " IQR: 6000.0\n"
     ]
    },
    {
     "data": {
      "image/png": "[encoded data removed]",
      "text/plain": [
       "<Figure size 1296x432 with 2 Axes>"
      ]
     },
     "metadata": {
      "needs_background": "light"
     },
     "output_type": "display_data"
    }
   ],
   "source": [
    "# SH second scenarii\n",
    "sh_frequency2 = [1300, 1400, 1400, 1200, 1300, 1300, 1300, 1300, 1300, 1400, 1400, 1400]\n",
    "sh_rent_cost2 = [500, 4000, 4200, 4300, 4400, 4500, 4600, 5400, 5500, 5600, 15000, 16400]\n",
    "sh_rent_with_frequency2 = []\n",
    "for i in range(len(sh_frequency2)):\n",
    "    for j in range(sh_frequency2[i]):\n",
    "        sh_rent_with_frequency2.append(sh_rent_cost2[i])\n",
    "compute_statistics_param('SH2', sh_rent_with_frequency2)\n",
    "sh2_data = pd.DataFrame(sh_rent_with_frequency2)\n",
    "bins_sh2 = np.arange(min(sh_rent_cost2)-500, max(sh_rent_cost2) + 500, 100)\n",
    "\n",
    "# RG second scenarii\n",
    "rg_frequency2 = [3000, 2000, 1000, 2000, 4000, 1000, 1000, 1000, 3000, 1000, 2000, 1000]\n",
    "rg_rent_cost2 = [600, 800, 1000, 2000, 4600, 4800, 5000, 5100, 7000, 7500, 7800, 6600]\n",
    "rg_rent_with_frequency2 = []\n",
    "for i in range(len(rg_frequency2)):\n",
    "    for j in range(rg_frequency2[i]):\n",
    "        rg_rent_with_frequency2.append(rg_rent_cost2[i])\n",
    "compute_statistics_param('RG2', rg_rent_with_frequency2)\n",
    "rg2_data = pd.DataFrame(rg_rent_with_frequency2)\n",
    "bins_rg2 = np.arange(min(rg_rent_cost2)-500, max(rg_rent_cost2) + 500, 100)\n",
    "\n",
    "#plot\n",
    "fig, ax = plt.subplots(nrows=1, ncols=2, figsize=(18,6))\n",
    "\n",
    "sns.histplot(data=sh2_data, ax=ax[0], bins=bins_sh2)\n",
    "ax[0].set_title('SH2 rent cost')\n",
    "ax[0].set(xlabel='SH2 rent', ylabel='Number of people')\n",
    "ax[0].get_legend().remove()\n",
    "\n",
    "sns.histplot(data=rg2_data, ax=ax[1], bins=bins_rg2, color='red')\n",
    "ax[1].set_title('RG2 rent cost')\n",
    "ax[1].set(xlabel='RG2 rent', ylabel='Number of people')\n",
    "ax[1].get_legend().remove()\n",
    "plt.show()\n"
   ]
  },
  {
   "cell_type": "markdown",
   "metadata": {},
   "source": [
    "#### 2.B\n",
    "Draw a histogram of a third scenario with the same properties. <br>\n",
    "In addition, in this scenario the rent in SH should have a higher variance than the rent in RG."
   ]
  },
  {
   "cell_type": "code",
   "execution_count": 20,
   "metadata": {},
   "outputs": [
    {
     "name": "stdout",
     "output_type": "stream",
     "text": [
      "SH3 parameters:\n",
      " mean: 6300.0\n",
      " median: 4600.0\n",
      " var: 23745000.0\n",
      " IQR: 4600.0\n",
      "RG3 parameters:\n",
      " mean: 4200.909090909091\n",
      " median: 4600.0\n",
      " var: 10025280.991735537\n",
      " IQR: 4610.0\n"
     ]
    },
    {
     "data": {
      "image/png": "[encoded data removed]",
      "text/plain": [
       "<Figure size 1296x432 with 2 Axes>"
      ]
     },
     "metadata": {
      "needs_background": "light"
     },
     "output_type": "display_data"
    }
   ],
   "source": [
    "# SH third scenarii\n",
    "sh_frequency3 = [2500, 2500, 2500, 2500, 500, 250, 250, 250, 250, 1500, 1500, 1500]\n",
    "sh_rent_cost3 = [500, 4000, 4200, 4600, 4800, 5000, 5500, 6000, 6500, 8600, 15000, 16000]\n",
    "sh_rent_with_frequency3 = []\n",
    "for i in range(len(sh_frequency3)):\n",
    "    for j in range(sh_frequency3[i]):\n",
    "        sh_rent_with_frequency3.append(sh_rent_cost3[i])\n",
    "compute_statistics_param('SH3', sh_rent_with_frequency3)\n",
    "sh3_data = pd.DataFrame(sh_rent_with_frequency3)\n",
    "bins_sh3 = np.arange(min(sh_rent_cost3)-500, max(sh_rent_cost3) + 500, 100)\n",
    "\n",
    "# RG third scenarii\n",
    "rg_frequency3 = [2000, 2000, 2000, 2000, 2500, 2000, 2500, 2000, 2000, 1000, 1000, 1000]\n",
    "rg_rent_cost3 = [600, 800, 1000, 1500, 3000, 4600, 5000, 5610, 7000, 8000, 10200, 12000]\n",
    "rg_rent_with_frequency3 = []\n",
    "for i in range(len(rg_frequency3)):\n",
    "    for j in range(rg_frequency3[i]):\n",
    "        rg_rent_with_frequency3.append(rg_rent_cost3[i])\n",
    "compute_statistics_param('RG3', rg_rent_with_frequency3)\n",
    "rg3_data = pd.DataFrame(rg_rent_with_frequency3)\n",
    "bins_rg3 = np.arange(min(rg_rent_cost3)-500, max(rg_rent_cost3) + 500, 100)\n",
    "\n",
    "#plot\n",
    "fig, ax = plt.subplots(nrows=1, ncols=2, figsize=(18,6))\n",
    "\n",
    "sns.histplot(data=sh3_data, ax=ax[0], bins=bins_sh3)\n",
    "ax[0].set_title('SH3 rent cost')\n",
    "ax[0].set(xlabel='SH3 rent', ylabel='Number of people')\n",
    "ax[0].get_legend().remove()\n",
    "\n",
    "sns.histplot(data=rg3_data, ax=ax[1], bins=bins_rg3, color='red')\n",
    "ax[1].set_title('RG3 rent cost')\n",
    "ax[1].set(xlabel='RG3 rent', ylabel='Number of people')\n",
    "ax[1].get_legend().remove()\n",
    "plt.show()"
   ]
  },
  {
   "cell_type": "markdown",
   "metadata": {},
   "source": [
    "The survey also examined the per household income (PHI) in these two places.<br>\n",
    "\n",
    "It found that:<br>\n",
    "* The mean of PHI in SH is 12500 and in RG is 8500.\n",
    "* The median is 12000 in SH and 8000 in RG.\n",
    "* The covariance of the rent and the PHI was observed to be as in the formula below with $\\alpha=97\\%$ and $\\alpha=89\\%$ in SH and in RG respectively.<br><br>\n",
    "$$Cov(rent, PHI) = \\alpha * \\sqrt{Var(rent)} * \\sqrt{Var(PHI)}$$\n",
    "\n",
    "#### 2.C\n",
    "\n",
    "Produce rent and PHI data for the two cities, that is consistent with these findings. The covariances in your data can deviate by up to 1% from the numbers given $\\alpha$."
   ]
  },
  {
   "cell_type": "code",
   "execution_count": 24,
   "metadata": {},
   "outputs": [
    {
     "name": "stdout",
     "output_type": "stream",
     "text": [
      "SH_RENT parameters:\n",
      " mean: 6305.0\n",
      " median: 4600.0\n",
      " var: 33471256.25\n",
      " IQR: 3100.0\n",
      "SH_PHI parameters:\n",
      " mean: 12509.375\n",
      " median: 12000.0\n",
      " var: 124368099.609375\n",
      " IQR: 11000.0\n",
      "the cov of sh is: 62583844.72328362\n",
      "the real cov of sh is: 61997577.97362335\n",
      "the ratio is: 0.9906322989223103\n",
      "\n",
      "\n",
      "RG_RENT parameters:\n",
      " mean: 4200.0\n",
      " median: 4600.0\n",
      " var: 9695454.545454545\n",
      " IQR: 4100.0\n",
      "RG_PHI parameters:\n",
      " mean: 8500.0\n",
      " median: 8000.0\n",
      " var: 73006704.54545455\n",
      " IQR: 5000.0\n",
      "the cov of rg is: 62583844.72328362\n",
      "the real cov of rg is: 23800172.735124324\n",
      "the ratio is: 1.005135570683785\n"
     ]
    }
   ],
   "source": [
    "# SH PHI scenarii\n",
    "sh_rent_frequency = [1300, 1400, 1400, 1200, 1300, 1300, 1300, 1300, 1300, 1400, 1400, 1400]\n",
    "sh_rent_cost = [500, 600, 2500, 4300, 4400, 4500, 4600, 5400, 5500, 5600, 17000, 19550]\n",
    "sh_rent_with_frequency = []\n",
    "for i in range(len(sh_rent_frequency)):\n",
    "    for j in range(sh_rent_frequency[i]):\n",
    "        sh_rent_with_frequency.append(sh_rent_cost[i])\n",
    "compute_statistics_param('SH_RENT', sh_rent_with_frequency)\n",
    "\n",
    "sh_phi_frequency = [1300, 1400, 1400, 1200, 1300, 1300, 1300, 1300, 1300, 1400, 1400, 1400]\n",
    "sh_phi = [3000, 3300, 4000, 4200, 4800, 5500, 12000, 13000, 14000, 15000, 28500, 40000]\n",
    "sh_phi_with_frequency = []\n",
    "for i in range(len(sh_phi_frequency)):\n",
    "    for j in range(sh_phi_frequency[i]):\n",
    "        sh_phi_with_frequency.append(sh_phi[i])\n",
    "compute_statistics_param('SH_PHI', sh_phi_with_frequency)\n",
    "\n",
    "#cov calculations\n",
    "cov_sh = 0.97*np.sqrt(np.var(sh_rent_with_frequency))*np.sqrt(np.var(sh_phi_with_frequency))\n",
    "print(\"the cov of sh is: {}\".format(cov_sh))\n",
    "cov_sh_real = np.cov(sh_rent_with_frequency,sh_phi_with_frequency)[0,1]\n",
    "print(\"the real cov of sh is: {}\".format(cov_sh_real))\n",
    "ratio = cov_sh_real/cov_sh\n",
    "print(\"the ratio is: {}\".format(ratio)) #needs to be under 1% deviation\n",
    "\n",
    "print(\"\\n\")\n",
    "\n",
    "# RG PHI scenarii\n",
    "rg_rent_frequency = [2000, 2000, 2000, 2000, 2500, 2000, 2500, 2000, 2000, 1000, 1000, 1000]\n",
    "rg_rent_cost = [600, 800, 1000, 2000, 3000, 4600, 5000, 5100, 7000, 8000, 10200, 12000]\n",
    "rg_rent_with_frequency = []\n",
    "for i in range(len(rg_rent_frequency)):\n",
    "    for j in range(rg_rent_frequency[i]):\n",
    "        rg_rent_with_frequency.append(rg_rent_cost[i])\n",
    "compute_statistics_param('RG_RENT', rg_rent_with_frequency)\n",
    "\n",
    "rg_phi_frequency = [2000, 2000, 2000, 2000, 2500, 2000, 2500, 2000, 2000, 1000, 1000, 1000]\n",
    "rg_phi = [1000, 2300, 4000, 4200, 4800, 8000, 8500, 9000, 9500, 12000, 25750, 40000]\n",
    "rg_phi_with_frequency = []\n",
    "for i in range(len(rg_phi_frequency)):\n",
    "    for j in range(rg_phi_frequency[i]):\n",
    "        rg_phi_with_frequency.append(rg_phi[i])\n",
    "compute_statistics_param('RG_PHI', rg_phi_with_frequency)\n",
    "\n",
    "#cov calculations\n",
    "cov_rg = 0.89*np.sqrt(np.var(rg_rent_with_frequency))*np.sqrt(np.var(rg_phi_with_frequency))\n",
    "print(\"the cov of rg is: {}\".format(cov_sh))\n",
    "cov_rg_real = np.cov(rg_rent_with_frequency,rg_phi_with_frequency)[0,1]\n",
    "print(\"the real cov of rg is: {}\".format(cov_rg_real))\n",
    "ratio = cov_rg_real/cov_rg\n",
    "print(\"the ratio is: {}\".format(ratio)) #needs to be under 1% deviation\n"
   ]
  },
  {
   "cell_type": "markdown",
   "metadata": {},
   "source": [
    "#### 2.D\n",
    "Produce two heatmaps that describe these two bivariate joint distributions. Make sure you carefully consider the selected binning resolution."
   ]
  },
  {
   "cell_type": "code",
   "execution_count": 561,
   "metadata": {},
   "outputs": [
    {
     "data": {
      "text/plain": [
       "<matplotlib.colorbar.Colorbar at 0x1ff4dc32790>"
      ]
     },
     "execution_count": 561,
     "metadata": {},
     "output_type": "execute_result"
    },
    {
     "data": {
      "image/png": "[encoded data removed]",
      "text/plain": [
       "<Figure size 576x432 with 2 Axes>"
      ]
     },
     "metadata": {
      "needs_background": "light"
     },
     "output_type": "display_data"
    }
   ],
   "source": [
    "# SH Heatmap\n",
    "fig, ax = plt.subplots(figsize=(8, 6))\n",
    "heatmap = ax.hist2d(x=sh_rent_with_frequency, y=sh_phi_with_frequency,cmap='magma', bins=30)\n",
    "ax.set_xlabel('RENT')\n",
    "ax.set_ylabel('PHI')\n",
    "ax.set_title(\"SH Rent/Phi correlation\")\n",
    "fig.colorbar(heatmap[3], ax=ax)"
   ]
  },
  {
   "cell_type": "code",
   "execution_count": 562,
   "metadata": {},
   "outputs": [
    {
     "data": {
      "text/plain": [
       "<matplotlib.colorbar.Colorbar at 0x1ff51616460>"
      ]
     },
     "execution_count": 562,
     "metadata": {},
     "output_type": "execute_result"
    },
    {
     "data": {
      "image/png": "[encoded data removed]",
      "text/plain": [
       "<Figure size 576x432 with 2 Axes>"
      ]
     },
     "metadata": {
      "needs_background": "light"
     },
     "output_type": "display_data"
    }
   ],
   "source": [
    "# RG Heatmap\n",
    "fig, ax = plt.subplots(figsize=(8, 6))\n",
    "heatmap = ax.hist2d(x=rg_rent_with_frequency, y=rg_phi_with_frequency,cmap='magma', bins=30)\n",
    "ax.set_xlabel('RENT')\n",
    "ax.set_ylabel('PHI')\n",
    "ax.set_title(\"RG Rent/Phi correlation\")\n",
    "fig.colorbar(heatmap[3], ax=ax)"
   ]
  },
  {
   "cell_type": "markdown",
   "metadata": {},
   "source": [
    "### Question 3 - Covariance and independence"
   ]
  },
  {
   "cell_type": "markdown",
   "metadata": {},
   "source": [
    "What is the variance of the sum X +Y + Z of three random variables in terms of the variances of X, Y and Z and the covariances between each pair of random variables? What happens if X,Y,Z are pairwise independent? If X,Y,Z are pairwise independent, are they necessarily collectively independent? Prove your answer."
   ]
  },
  {
   "cell_type": "markdown",
   "metadata": {},
   "source": [
    "Answer:\n",
    "\n",
    "First, we will prove that:\n",
    "\n",
    "$$Var(X+Y)=Var(X)+Var(Y)+2Cov(X,Y)$$\n",
    "\n",
    "$$\n",
    "Var(X+Y)=E{[X+Y-E(X+Y)]^2}\\\\\n",
    "=E[(X-\\mu_x+Y-\\mu_y)^2]\\\\\n",
    "=E[(X-\\mu_x)^2+(Y-\\mu_y)^2+2(X-\\mu_x)(Y-\\mu_y)]\\\\\n",
    "=E{[X-E(X)]^2}+E{[Y-E(Y)]^2}+2E[(X-\\mu_x)(Y-\\mu_y)]\\\\\n",
    "Var(X)+Var(Y)+2Cov(X,Y)\n",
    "$$\n",
    "\n",
    "And also that:\n",
    "$$Cov((X+Y),Z)=Cov(X,Z)+Cov(Y,Z)$$\n",
    "\n",
    "$$Cov((X+Y),Z)=E[(X+Y-(\\mu_x+\\mu_y))(Z-\\mu_z)]\\\\\n",
    "=E[((X-\\mu_x)+(Y-\\mu_y))(Z-\\mu_z)]\\\\\n",
    "=E[(X-\\mu_x)(Z-\\mu_z)+(Y-\\mu_y))(Z-\\mu_z)]\\\\\n",
    "=E[(X-\\mu_x)(Z-\\mu_z)]+E[(Y-\\mu_y)(Z-\\mu_z)]\\\\\n",
    "=Cov(X,Z)+Cov(Y,Z)$$\n",
    "\n",
    "So,\n",
    "$$Var(X+Y+Z)\\\\\n",
    "=Var((X+Y)+Z)\\\\\n",
    "=Var(X+Y)+Var(Z)+2Cov((X+Y),Z)\\\\\n",
    "=Var(X)+Var(Y)+2Cov(X,Y)+Var(Z)+2(Cov(X,Z)+Cov(Y,Z))\\\\\n",
    "=Var(X)+Var(Y)+Var(Z)+2[Cov(X,Y)+Cov(X,Z)+Cov(Y,Z)]$$\n",
    "\n",
    "\n",
    "\n",
    "If X,Y,Z are pairwise independent:\n",
    "$$Cov(X,Y)=Cov(X,Z)=Cov(Y,Z)=0$$\n",
    "\n",
    "So,\n",
    "$$Var(X+Y+Z)=\\\\\n",
    "=Var(X)+Var(Y)+Var(Z)+2[Cov(X,Y)+Cov(X,Z)+Cov(Y,Z)]\\\\\n",
    "=Var(X)+Var(Y)+Var(Z)$$\n",
    "\n",
    "\n",
    "If X,Y,Z are pairwise independent they are NOT necessarily collectively independent.\n",
    "For Example:\n",
    "Let X and Y two independent Bernoulli with $$p=1/2$$\n",
    "Let $$Z=XOR(X,Y)$$\n",
    "We work in $$\\Omega=\\{0,1\\}^3$$\n",
    "\n",
    "We have the following joint probabillity mass function:\n",
    "$$\\begin{align*}\n",
    "&0&  &0&  &0&   &0.25\\\\\n",
    "&0&  &1&  &1&   &0.25\\\\\n",
    "&1&  &0&  &1&   &0.25\\\\\n",
    "&1&  &1&  &0&   &0.25\\\\\n",
    "\\end{align*}$$\n",
    "So, for example, if $$X=0$$ and $$Y=0$$ $$\\Rightarrow Z=0.$$\n",
    "Hence - Z is not collectively independent with X and Y."
   ]
  },
  {
   "cell_type": "markdown",
   "metadata": {},
   "source": [
    "### Question 4 - Convolutions"
   ]
  },
  {
   "cell_type": "markdown",
   "metadata": {},
   "source": [
    "#### 4.A\n",
    "Write a program, `Q = NFoldConv(P , n)`, that takes as input:\n",
    "* A distribution, P, of a random variable that takes finitely many integer values\n",
    "* An integer n\n",
    "\n",
    "and produces the distribution, Q, of the sum of n independent repeats of random variables, each of which has the distribution P."
   ]
  },
  {
   "cell_type": "code",
   "execution_count": 25,
   "metadata": {},
   "outputs": [],
   "source": [
    "def find_index_of(l, arr):\n",
    "    for index, pair in enumerate(arr):\n",
    "        if pair[0] == l:\n",
    "            return  index\n",
    "\n",
    "def probcalc(j , Q , P):\n",
    "    prob=0\n",
    "    if Q==P:\n",
    "        minl=np.min(Q[0])\n",
    "        maxl=np.max(Q[0])+1\n",
    "    else:\n",
    "        minl=Q[0][0]\n",
    "        maxl=Q[len(Q)-1][0]+1\n",
    "    for k in range(np.min(P[0]),np.max(P[0])+1):\n",
    "        for l in range(minl,maxl):\n",
    "            if k+l==j:\n",
    "                if Q==P:\n",
    "                    indexl=Q[0].index(l)\n",
    "                    probl=Q[1][indexl]\n",
    "                else:\n",
    "                    probl=Q[find_index_of(l,Q)][1]\n",
    "                indexk=P[0].index(k)\n",
    "                probk=P[1][indexk]\n",
    "                prob+=probk*probl\n",
    "    return prob\n",
    "        \n",
    "    \n",
    "def runP(P,Q,i):\n",
    "    newQ=[]\n",
    "    for j in range(np.min(P[0])*i , np.max(P[0])*i + 1):\n",
    "        prob = probcalc(j , Q , P)\n",
    "        newQ.append([j,prob])\n",
    "    return newQ\n",
    "    \n",
    "    \n",
    "def NFoldConv(P , n):\n",
    "    if n==0:\n",
    "        return []\n",
    "    if n==1:\n",
    "        return P\n",
    "    Q=P\n",
    "    for i in range(2,n+1):\n",
    "        Q=runP(P,Q,i)\n",
    "    return Q"
   ]
  },
  {
   "cell_type": "markdown",
   "metadata": {},
   "source": [
    "#### 4.B\n",
    "Compute the distribution of the sum of the results of rolling a fair octahedron 17 times.\n",
    "\n",
    "<img src=\"https://upload.wikimedia.org/wikipedia/commons/2/27/Octahedron.jpg\" width=\"200\">\n"
   ]
  },
  {
   "cell_type": "code",
   "execution_count": 26,
   "metadata": {},
   "outputs": [
    {
     "data": {
      "image/png": "[encoded data removed]",
      "text/plain": [
       "<Figure size 1440x576 with 1 Axes>"
      ]
     },
     "metadata": {
      "needs_background": "light"
     },
     "output_type": "display_data"
    }
   ],
   "source": [
    "answer = NFoldConv([[1,2,3,4,5,6,7,8],[1/8,1/8,1/8,1/8,1/8,1/8,1/8,1/8]], 17)\n",
    "\n",
    "probability = []\n",
    "for i in range(len(answer)):\n",
    "    probability += [answer[i][0]] * int(answer[i][1] * 10000000)\n",
    "\n",
    "fig, ax = plt.subplots(figsize=(20, 8))\n",
    "ax.set_title('Sum of the results of rolling a fair octahedron 17 times')\n",
    "ax.set_ylabel('Probability')\n",
    "ax.set_xlabel('The sum')\n",
    "w = np.ones(len(probability)) / len(probability)\n",
    "_ = ax.hist(probability, bins=200, weights=w)"
   ]
  },
  {
   "cell_type": "markdown",
   "metadata": {},
   "source": [
    "#### 4.C\n",
    "Assume that the price of a stock changes in any given day according to (in NIS):\n",
    "\n",
    "$$P=\\begin{pmatrix}\n",
    "-1 & 0 & 1 & 2 & 3 \\\\\n",
    "0.3 & 0.15 & 0.15 & 0.15 & 0.25\n",
    "\\end{pmatrix}$$\n",
    "\n",
    "1. What is the distribution of the change in stock after 2 consecutive days of (independent) changes? After 5 consecutive days? "
   ]
  },
  {
   "cell_type": "code",
   "execution_count": 27,
   "metadata": {},
   "outputs": [],
   "source": [
    "P = [[-1,0,1,2,3],[0.3,0.15,0.15,0.15,0.25]]\n",
    "days2 = NFoldConv(P, 2)\n",
    "days5 = NFoldConv(P, 5)"
   ]
  },
  {
   "cell_type": "code",
   "execution_count": 28,
   "metadata": {},
   "outputs": [
    {
     "data": {
      "image/png": "[encoded data removed]",
      "text/plain": [
       "<Figure size 1440x576 with 1 Axes>"
      ]
     },
     "metadata": {
      "needs_background": "light"
     },
     "output_type": "display_data"
    }
   ],
   "source": [
    "#distribution of the change in stock after 2 consecutive days of (independent) changes\n",
    "probability2 = []\n",
    "for i in range(len(days2)):\n",
    "    probability2 += [days2[i][0]] * int(days2[i][1] * 10000000)\n",
    "\n",
    "fig, ax = plt.subplots(figsize=(20, 8))\n",
    "ax.set_title('2 consecutive days')\n",
    "ax.set_ylabel('Probability')\n",
    "ax.set_xlabel('Stock change')\n",
    "w = np.ones(len(probability2)) / len(probability2)\n",
    "_ = ax.hist(probability2, bins=50, weights=w)"
   ]
  },
  {
   "cell_type": "code",
   "execution_count": 29,
   "metadata": {},
   "outputs": [
    {
     "data": {
      "image/png": "[encoded data removed]",
      "text/plain": [
       "<Figure size 1440x576 with 1 Axes>"
      ]
     },
     "metadata": {
      "needs_background": "light"
     },
     "output_type": "display_data"
    }
   ],
   "source": [
    "#distribution of the change in stock after 5 consecutive days of (independent) changes\n",
    "probability5 = []\n",
    "for i in range(len(days5)):\n",
    "    probability5 += [days5[i][0]] * int(days5[i][1] * 10000000)\n",
    "\n",
    "fig, ax = plt.subplots(figsize=(20, 8))\n",
    "ax.set_title('5 consecutive days')\n",
    "ax.set_ylabel('Probability')\n",
    "ax.set_xlabel('Stock change')\n",
    "w = np.ones(len(probability5)) / len(probability5)\n",
    "_ = ax.hist(probability5, bins=50, weights=w)"
   ]
  },
  {
   "cell_type": "markdown",
   "metadata": {},
   "source": [
    "2. What is the probability that the stock has gained strictly more than 7NIS after 5 days? Has lost strictly more than 4NIS? Explain your answers."
   ]
  },
  {
   "cell_type": "code",
   "execution_count": 30,
   "metadata": {},
   "outputs": [
    {
     "name": "stdout",
     "output_type": "stream",
     "text": [
      "Probability that the stock has gained strictly more than 7 NIS after 5 days is 0.202211875\n"
     ]
    }
   ],
   "source": [
    "#each pair[0] represents the change in stock and each pair[1] represents the probability of the matching change. We simply sum the probabilities.\n",
    "more=0\n",
    "for pair in days5:\n",
    "    if pair[0]>7:\n",
    "        more+=pair[1]\n",
    "print('Probability that the stock has gained strictly more than 7 NIS after 5 days is '+str(more))"
   ]
  },
  {
   "cell_type": "code",
   "execution_count": 31,
   "metadata": {},
   "outputs": [
    {
     "name": "stdout",
     "output_type": "stream",
     "text": [
      "Probability that the stock has lost strictly more than 4 NIS after 5 days is 0.00243\n"
     ]
    }
   ],
   "source": [
    "less=0\n",
    "for pair in days5:\n",
    "    if pair[0]<-4:\n",
    "        less+=pair[1]\n",
    "print('Probability that the stock has lost strictly more than 4 NIS after 5 days is '+str(less))"
   ]
  },
  {
   "cell_type": "code",
   "execution_count": null,
   "metadata": {},
   "outputs": [],
   "source": []
  }
 ],
 "metadata": {
  "kernelspec": {
   "display_name": "Python 3",
   "language": "python",
   "name": "python3"
  },
  "language_info": {
   "codemirror_mode": {
    "name": "ipython",
    "version": 3
   },
   "file_extension": ".py",
   "mimetype": "text/x-python",
   "name": "python",
   "nbconvert_exporter": "python",
   "pygments_lexer": "ipython3",
   "version": "3.8.5"
  }
 },
 "nbformat": 4,
 "nbformat_minor": 2
}
