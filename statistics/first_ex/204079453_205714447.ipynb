{
 "cells": [
  {
   "cell_type": "markdown",
   "metadata": {},
   "source": [
    "### IDs:\n",
    "Insert yours IDs to the cell below"
   ]
  },
  {
   "cell_type": "markdown",
   "metadata": {},
   "source": [
    "ID #1: 204079453\n",
    "\n",
    "ID #2: 205714447\n"
   ]
  },
  {
   "cell_type": "markdown",
   "metadata": {},
   "source": [
    "## Read the following instructions carefully:\n",
    "\n",
    "1. This jupyter notebook contains all the step by step instructions needed for this exercise.\n",
    "1. You are free to add cells.\n",
    "1. Write your functions and your answers in this jupyter notebook only.\n",
    "1. Answers to theoretical questions should be written in **markdown cells (with $\\LaTeX$ support)**.\n",
    "1. Submit this jupyter notebook only using your ID as a filename. Not to use ZIP or RAR. For example, your Moodle submission file name should look like this (two id numbers): `123456789_987654321.ipynb`."
   ]
  },
  {
   "cell_type": "code",
   "execution_count": 71,
   "metadata": {},
   "outputs": [],
   "source": [
    "from scipy import stats\n",
    "import numpy as np\n",
    "import matplotlib.pyplot as plt\n",
    "import math\n",
    "import seaborn as sns\n",
    "import pandas as pd\n",
    "from numpy.linalg import matrix_power"
   ]
  },
  {
   "cell_type": "markdown",
   "metadata": {},
   "source": [
    "### Question 1 - Defective products"
   ]
  },
  {
   "cell_type": "markdown",
   "metadata": {},
   "source": [
    "In a manufacturing pipeline products are 3% defective. We are interested in examining a defective product to see what goes wrong on the belt. We need to ask the facility manager to send us a set of independent samples for examination."
   ]
  },
  {
   "cell_type": "markdown",
   "metadata": {},
   "source": [
    "#### 1.A\n",
    "\n",
    "How many independent samples should we ask for in order to have a 85% probability of having at least one defective product in the batch sent? You should write a function."
   ]
  },
  {
   "cell_type": "code",
   "execution_count": 73,
   "metadata": {},
   "outputs": [],
   "source": [
    "# following the requirements to calculate the number of attempts given the probability and the number of successes, \n",
    "# we choosed a negative binomial distribution."
   ]
  },
  {
   "cell_type": "code",
   "execution_count": 74,
   "metadata": {},
   "outputs": [],
   "source": [
    "def get_samples_size(p, min_def_products, x_prob):\n",
    "    sum_prob = 0\n",
    "    n = min_def_products\n",
    "    p_x = stats.nbinom(n, p, loc=min_def_products)\n",
    "    while True: \n",
    "        prob = p_x.cdf(n)\n",
    "        if prob >= x_prob:\n",
    "            return n\n",
    "        n += 1    "
   ]
  },
  {
   "cell_type": "code",
   "execution_count": 75,
   "metadata": {},
   "outputs": [],
   "source": [
    "p = 0.03\n",
    "min_def_products = 1\n",
    "x_prob = 0.85"
   ]
  },
  {
   "cell_type": "code",
   "execution_count": 76,
   "metadata": {},
   "outputs": [
    {
     "name": "stdout",
     "output_type": "stream",
     "text": [
      "The number of independent samples in order to have 85.0% probability of having at least one defective product are 63\n"
     ]
    }
   ],
   "source": [
    "n = get_samples_size(p ,min_def_products , x_prob)\n",
    "result_in_prec = x_prob*100\n",
    "\n",
    "print(f\"The number of independent samples in order to have {result_in_prec}% probability of having at least one defective product are {n}\")\n"
   ]
  },
  {
   "cell_type": "markdown",
   "metadata": {},
   "source": [
    "#### 1.B\n",
    "Answer this part again with the following changes: products are 4% defective and we want a 95% probability of at least one defective product in the batch."
   ]
  },
  {
   "cell_type": "code",
   "execution_count": 77,
   "metadata": {},
   "outputs": [],
   "source": [
    "p = 0.04\n",
    "min_def_products = 1\n",
    "x_prob = 0.95"
   ]
  },
  {
   "cell_type": "code",
   "execution_count": 78,
   "metadata": {},
   "outputs": [
    {
     "name": "stdout",
     "output_type": "stream",
     "text": [
      "The number of independent samples in order to have 95.0% probability of having at least one defective product are 74\n"
     ]
    }
   ],
   "source": [
    "n = get_samples_size(p ,min_def_products , x_prob)\n",
    "result_in_prec = x_prob*100\n",
    "\n",
    "print(f\"The number of independent samples in order to have {result_in_prec}% probability of having at least one defective product are {n}\")\n"
   ]
  },
  {
   "cell_type": "markdown",
   "metadata": {},
   "source": [
    "#### 1.C \n",
    "\n",
    "Consider the following cases and calculate how many independent samples are required: \n",
    "\n",
    "1. Products are 10% defective and we want a 90% probability of at least 5 defective products in the batch.\n",
    "1. Products are 30% defective and we want a 90% probability of at least 15 defective products in the batch.\n",
    "\n",
    "Explain the difference between the two results. You should use mathematical reasoning based on the properties of distributions you saw in class and visualizations in your answer."
   ]
  },
  {
   "cell_type": "code",
   "execution_count": 79,
   "metadata": {},
   "outputs": [],
   "source": [
    "## We need to add visualization ##"
   ]
  },
  {
   "cell_type": "code",
   "execution_count": 80,
   "metadata": {},
   "outputs": [],
   "source": [
    "#1:\n",
    "p = 0.1\n",
    "min_def_products = 5\n",
    "x_prob = 0.9"
   ]
  },
  {
   "cell_type": "code",
   "execution_count": 81,
   "metadata": {},
   "outputs": [
    {
     "name": "stdout",
     "output_type": "stream",
     "text": [
      "The number of independent samples in order to have 90.0% probability of having at least one defective product are 78\n"
     ]
    }
   ],
   "source": [
    "n1 = get_samples_size(p ,min_def_products , x_prob)\n",
    "result_in_prec = x_prob*100\n",
    "\n",
    "print(f\"The number of independent samples in order to have {result_in_prec}% probability of having at least one defective product are {n1}\")\n"
   ]
  },
  {
   "cell_type": "code",
   "execution_count": 82,
   "metadata": {},
   "outputs": [],
   "source": [
    "#2:\n",
    "p = 0.3\n",
    "min_def_products = 15\n",
    "x_prob = 0.9"
   ]
  },
  {
   "cell_type": "code",
   "execution_count": 83,
   "metadata": {},
   "outputs": [
    {
     "name": "stdout",
     "output_type": "stream",
     "text": [
      "The number of independent samples in order to have 90.0% probability of having at least one defective product are 64\n"
     ]
    }
   ],
   "source": [
    "n2 = get_samples_size(p ,min_def_products , x_prob)\n",
    "result_in_prec = x_prob*100\n",
    "\n",
    "print(f\"The number of independent samples in order to have {result_in_prec}% probability of having at least one defective product are {n2}\")\n"
   ]
  },
  {
   "cell_type": "code",
   "execution_count": 84,
   "metadata": {},
   "outputs": [],
   "source": [
    "p_1, p_2 = 0.1, 0.3\n",
    "r_1, r_2 = 5, 15 \n",
    "\n",
    "prob_target = 0.9\n",
    "\n",
    "X1 = stats.nbinom(r_1, p_1, loc=r_1)\n",
    "X2 = stats.nbinom(r_2, p_2, loc=r_2)\n",
    "\n",
    "i = np.arange(0,100)"
   ]
  },
  {
   "cell_type": "markdown",
   "metadata": {},
   "source": [
    "## mathematical and visualization explanation:"
   ]
  },
  {
   "cell_type": "markdown",
   "metadata": {},
   "source": [
    "$Var(X) = \\frac{r(1-p)}{p^2}$ \n",
    "<br><br>$Var(X_1) = \\frac{5(0.9)}{0.1^2} =$ <b>449.99</b> $>Var(X_2) = \\frac{15(0.7)}{0.3^2} = $<b>116.66</b> "
   ]
  },
  {
   "cell_type": "code",
   "execution_count": 85,
   "metadata": {},
   "outputs": [],
   "source": [
    "#v_x1 = (r_1*(1-p_1))/((p_1)**2)\n",
    "#v_x2 = (r_2*(1-p_2))/((p_2)**2)"
   ]
  },
  {
   "cell_type": "code",
   "execution_count": 86,
   "metadata": {},
   "outputs": [],
   "source": [
    "excpected_value = r_1/p_1"
   ]
  },
  {
   "cell_type": "code",
   "execution_count": 87,
   "metadata": {},
   "outputs": [
    {
     "data": {
      "image/png": "[encoded data removed]",
      "text/plain": [
       "<Figure size 864x576 with 1 Axes>"
      ]
     },
     "metadata": {
      "needs_background": "light"
     },
     "output_type": "display_data"
    }
   ],
   "source": [
    "fig, axes = plt.subplots(figsize=(12,8))\n",
    "\n",
    "plt.plot(i, X1.pmf(i),'o')\n",
    "plt.plot(i, X2.pmf(i),'v')\n",
    "\n",
    "plt.xlabel(\"Number Of Samples\" ,fontsize = 14)\n",
    "plt.ylabel(\"Probabilty($X_i$)\", fontsize = 14)\n",
    "\n",
    "plt.title(\"Negeative Binom PMF For $X_1$ and $X_2$\", fontsize = 16, fontweight='bold')\n",
    "\n",
    "ax = plt.gca()\n",
    "ax.axvline(excpected_value, c='black',linestyle='--')\n",
    "\n",
    "ax.annotate('$E(X_1)=E(X_2)$='+str(excpected_value), xy=(excpected_value,0.015), xytext=(35,0.01),size=15, arrowprops=dict(width=1, fc='black',lw=2.5))\n",
    "\n",
    "\n",
    "plt.legend([\"$X_1$~NB(5, 0.1)\", \"$X_2$~NB(15,0.3)\"])\n",
    "\n",
    "plt.show()"
   ]
  },
  {
   "cell_type": "markdown",
   "metadata": {},
   "source": [
    "Following the mathematical explanation, it can be seen that the values' distribution of $X_1$ is wider than $X_2$"
   ]
  },
  {
   "cell_type": "code",
   "execution_count": 88,
   "metadata": {
    "scrolled": false
   },
   "outputs": [
    {
     "data": {
      "image/png": "[encoded data removed]",
      "text/plain": [
       "<Figure size 864x576 with 1 Axes>"
      ]
     },
     "metadata": {
      "needs_background": "light"
     },
     "output_type": "display_data"
    }
   ],
   "source": [
    "fig, axes = plt.subplots(figsize=(12,8))\n",
    "\n",
    "plt.plot(i, X1.cdf(i),'o')\n",
    "plt.plot(i, X2.cdf(i),'v')\n",
    "\n",
    "plt.xlabel(\"Number Of Samples\" ,fontsize = 14)\n",
    "plt.ylabel(\"Probabilty($X_i$)\", fontsize = 14)\n",
    "\n",
    "plt.title(\"Negeative Binom CDF For $X_1$ and $X_2$\", fontsize = 16, fontweight='bold')\n",
    "\n",
    "plt.legend([\"$X_1$~NB(5, 0.1)\", \"$X_2$~NB(15,0.3)\"])\n",
    "\n",
    "ax = plt.gca()\n",
    "ax.axhline(prob_target, c='r')\n",
    "\n",
    "ax.annotate('$n_1$='+str(n1), xy=(n1,prob_target), xytext=(n1,0.8),size=15, arrowprops=dict(width=1, fc='black',lw=1))\n",
    "\n",
    "ax.annotate('$n_2$='+str(n2), xy=(n2,prob_target), xytext=(50,0.83),size=15, arrowprops=dict(width=1, fc='black',lw=1))\n",
    "\n",
    "plt.show()"
   ]
  },
  {
   "cell_type": "markdown",
   "metadata": {},
   "source": [
    "<b>Conclusions:</b>\n",
    "<br>To explain the difference between the results, \n",
    "<br>we examined the negative binomial distribution parameters:\n",
    "<br>E(X) - As expected, both are equal since the ratio between r and p remains the same.\n",
    "<br>V(X) - V($X_1$) is higher than V($X_2$). It means that the distribution of $X_1$ is more centralized around the mean. Thus, $X_2$ will reach 90% earlier."
   ]
  },
  {
   "cell_type": "code",
   "execution_count": null,
   "metadata": {},
   "outputs": [],
   "source": []
  },
  {
   "cell_type": "markdown",
   "metadata": {},
   "source": [
    "### Question 2 - Rent distributions in Randomistan"
   ]
  },
  {
   "cell_type": "markdown",
   "metadata": {},
   "source": [
    "The state of Randomistan conducted a survey to study the distribution of rent paid in two neighboring towns, Stochastic Heights and Random Grove, to be denoted SH and RG.<br> \n",
    "\n",
    "Here are some findings of the survey:\n",
    "* The population of SH and RG is 16,000 and 22,000 respectively. <br>\n",
    "* The mean rent in SH and RG is 6300RCU and 4200RCU respectively.\n",
    "* The median rent is 4600RCU in both towns.\n",
    "* The IQR of the rent is smaller in SH than in RG.\n",
    "\n",
    "All data generated in this question needs to be consistent with these findings."
   ]
  },
  {
   "cell_type": "markdown",
   "metadata": {},
   "source": [
    "#### 2.A\n",
    "Draw histograms that describe 2 different scenarii of possible distributions of rent in the two towns.\u000b",
    "Your histograms should:<br>\n",
    "* Use bins of 100RCU each.\n",
    "* Have at least 10 non zero bins."
   ]
  },
  {
   "cell_type": "code",
   "execution_count": 89,
   "metadata": {},
   "outputs": [],
   "source": [
    "def get_statistics_values (town_data):\n",
    "    \n",
    "    town_pop = len(town_data)\n",
    "    mean = np.mean(town_data)\n",
    "    median = np.median(town_data)\n",
    "    iqr = stats.iqr(town_data)\n",
    "    var = np.var(town_data)\n",
    "\n",
    "    return town_pop, mean, median, iqr, var"
   ]
  },
  {
   "cell_type": "code",
   "execution_count": 90,
   "metadata": {},
   "outputs": [],
   "source": [
    "def print_descreptive (pop, mean, median, iqr, var):\n",
    "    print (f\"The population is: {pop} \\nrent mean: {mean} RCU \\nrent median: {median} RCU \\nIQR: {iqr} \\nVariance: {var}\")"
   ]
  },
  {
   "cell_type": "code",
   "execution_count": 91,
   "metadata": {},
   "outputs": [],
   "source": [
    "def create_hist_plot(array_1, array_2, x_label:str, y_label_1:str, y_label_2:str, plot_title:str):\n",
    "    \n",
    "    min_x_axis = min(np.min(array_1), np.min(array_2))-100\n",
    "    max_x_axis = max(np.max(array_1), np.max(array_2))+100\n",
    "    bins_list = np.arange(min_x_axis, max_x_axis, 100)\n",
    "    \n",
    "    fig, axes = plt.subplots(nrows=2, ncols=1,figsize=(14,12))\n",
    "    \n",
    "    axes[0].hist(array_1, bins = bins_list, color = \"teal\",  ec=\"white\")\n",
    "    axes[1].hist(array_2, bins = bins_list, color = \"lightblue\",  ec=\"white\")\n",
    "    \n",
    "    axes[1].set_xlabel(x_label)\n",
    "    \n",
    "    axes[0].set_ylabel(y_label_1)\n",
    "    axes[1].set_ylabel(y_label_2)\n",
    "    \n",
    "    \n",
    "    fig.suptitle(plot_title, fontsize=14, fontweight='bold')\n",
    "    axes[0].set_title(y_label_1, fontsize=12, fontweight='bold')\n",
    "    axes[1].set_title(y_label_2, fontsize=12, fontweight='bold')\n",
    "        \n",
    "    plt.show()"
   ]
  },
  {
   "cell_type": "code",
   "execution_count": 92,
   "metadata": {},
   "outputs": [],
   "source": [
    "#first scenario\n",
    "\n",
    "### Give explanation why we used 10 values: \n",
    "\n",
    "# Generating SH data:\n",
    "\n",
    "sh_rent_cost_1 = np.array([3900,4200,4350,4400,4500,4700,7650,8500,9800,11000])\n",
    "sh_rent_cost_all_pop_1 = np.repeat(sh_rent_cost_1, 1600)\n"
   ]
  },
  {
   "cell_type": "code",
   "execution_count": 93,
   "metadata": {},
   "outputs": [],
   "source": [
    "sh_pop_1, sh_mean_1, sh_median_1, sh_iqr_1 , sh_var_1= get_statistics_values(sh_rent_cost_all_pop_1)"
   ]
  },
  {
   "cell_type": "code",
   "execution_count": 94,
   "metadata": {},
   "outputs": [
    {
     "name": "stdout",
     "output_type": "stream",
     "text": [
      "In the first scenario SH sttistics descreptive:\n",
      "The population is: 16000 \n",
      "rent mean: 6300.0 RCU \n",
      "rent median: 4600.0 RCU \n",
      "IQR: 4150.0 \n",
      "Variance: 6438500.0\n"
     ]
    }
   ],
   "source": [
    "print(\"In the first scenario SH sttistics descreptive:\")\n",
    "print_descreptive(sh_pop_1, sh_mean_1, sh_median_1, sh_iqr_1, sh_var_1)"
   ]
  },
  {
   "cell_type": "code",
   "execution_count": 95,
   "metadata": {},
   "outputs": [],
   "source": [
    "# Generating RG data:\n",
    "\n",
    "rg_rent_cost_1 = np.array([100,300,900,1000,4500,4700,5500,7000,8000,10000])\n",
    "rg_rent_cost_all_pop_1 = np.repeat(rg_rent_cost_1, 2200)"
   ]
  },
  {
   "cell_type": "code",
   "execution_count": 96,
   "metadata": {},
   "outputs": [],
   "source": [
    "rg_pop_1, rg_mean_1, rg_median_1, rg_iqr_1, rg_var_1= get_statistics_values(rg_rent_cost_all_pop_1)"
   ]
  },
  {
   "cell_type": "code",
   "execution_count": 97,
   "metadata": {},
   "outputs": [
    {
     "name": "stdout",
     "output_type": "stream",
     "text": [
      "In the first scenario RG sttistics descreptive:\n",
      "The population is: 22000 \n",
      "rent mean: 4200.0 RCU \n",
      "rent median: 4600.0 RCU \n",
      "IQR: 6100.0 \n",
      "Variance: 11110000.0\n"
     ]
    }
   ],
   "source": [
    "print(\"In the first scenario RG sttistics descreptive:\")\n",
    "print_descreptive(rg_pop_1, rg_mean_1, rg_median_1, rg_iqr_1, rg_var_1)"
   ]
  },
  {
   "cell_type": "code",
   "execution_count": 98,
   "metadata": {},
   "outputs": [
    {
     "data": {
      "image/png": "[encoded data removed]",
      "text/plain": [
       "<Figure size 1008x864 with 2 Axes>"
      ]
     },
     "metadata": {
      "needs_background": "light"
     },
     "output_type": "display_data"
    }
   ],
   "source": [
    "create_hist_plot(sh_rent_cost_all_pop_1, rg_rent_cost_all_pop_1, \"Rental expenses [RCU]\",\"SH pop\", \"RG pop\", \"Scenario 1\\nRental expenses Histograms\")\n",
    "\n"
   ]
  },
  {
   "cell_type": "code",
   "execution_count": 99,
   "metadata": {},
   "outputs": [],
   "source": [
    "#second scenario\n",
    "### Give explanation why we used 10 values: \n",
    "\n",
    "# Generating SH data:\n",
    "\n",
    "sh_rent_cost_2 = np.array([3800,4250,4300,4450,4500,4700,7700,7800,10000,11500])\n",
    "sh_rent_cost_all_pop_2 = np.repeat(sh_rent_cost_2, 1600)"
   ]
  },
  {
   "cell_type": "code",
   "execution_count": 100,
   "metadata": {},
   "outputs": [],
   "source": [
    "sh_pop_2, sh_mean_2, sh_median_2, sh_iqr_2, sh_var_2 = get_statistics_values(sh_rent_cost_all_pop_2)"
   ]
  },
  {
   "cell_type": "code",
   "execution_count": 101,
   "metadata": {},
   "outputs": [
    {
     "name": "stdout",
     "output_type": "stream",
     "text": [
      "In the second scenario SH sttistics descreptive:\n",
      "The population is: 16000 \n",
      "rent mean: 6300.0 RCU \n",
      "rent median: 4600.0 RCU \n",
      "IQR: 3500.0 \n",
      "Variance: 6861500.0\n"
     ]
    }
   ],
   "source": [
    "print(\"In the second scenario SH sttistics descreptive:\")\n",
    "print_descreptive(sh_pop_2, sh_mean_2, sh_median_2, sh_iqr_2, sh_var_2)"
   ]
  },
  {
   "cell_type": "code",
   "execution_count": 102,
   "metadata": {},
   "outputs": [],
   "source": [
    "# Generating RG data:\n",
    "\n",
    "rg_rent_cost_2 = np.array([1000,2000,3100,4300,4400,4800,6000,9000,11400,17000])\n",
    "rg_rent_cost_all_pop_2 = np.repeat(rg_rent_cost_2, 2200)"
   ]
  },
  {
   "cell_type": "code",
   "execution_count": 103,
   "metadata": {},
   "outputs": [],
   "source": [
    "rg_pop_2, rg_mean_2, rg_median_2, rg_iqr_2, rg_var_2 = get_statistics_values(rg_rent_cost_all_pop_2)"
   ]
  },
  {
   "cell_type": "code",
   "execution_count": 104,
   "metadata": {},
   "outputs": [
    {
     "name": "stdout",
     "output_type": "stream",
     "text": [
      "In the second scenario RG sttistics descreptive:\n",
      "The population is: 22000 \n",
      "rent mean: 6300.0 RCU \n",
      "rent median: 4600.0 RCU \n",
      "IQR: 5900.0 \n",
      "Variance: 21456000.0\n"
     ]
    }
   ],
   "source": [
    "print(\"In the second scenario RG sttistics descreptive:\")\n",
    "print_descreptive(rg_pop_2, rg_mean_2, rg_median_2, rg_iqr_2, rg_var_2)"
   ]
  },
  {
   "cell_type": "code",
   "execution_count": 105,
   "metadata": {},
   "outputs": [
    {
     "data": {
      "image/png": "[encoded data removed]",
      "text/plain": [
       "<Figure size 1008x864 with 2 Axes>"
      ]
     },
     "metadata": {
      "needs_background": "light"
     },
     "output_type": "display_data"
    }
   ],
   "source": [
    "create_hist_plot(sh_rent_cost_all_pop_2, rg_rent_cost_all_pop_2, \"Rental expenses [RCU]\",\"SH pop\", \"RG pop\", \"Scenario 2\\nRental expenses Histograms\")\n"
   ]
  },
  {
   "cell_type": "markdown",
   "metadata": {},
   "source": [
    "#### 2.B\n",
    "Draw a histogram of a third scenario with the same properties. <br>\n",
    "In addition, in this scenario the rent in SH should have a higher variance than the rent in RG."
   ]
  },
  {
   "cell_type": "code",
   "execution_count": 106,
   "metadata": {},
   "outputs": [],
   "source": [
    "# Third scenario\n",
    "### Give explanation why we used 10 values: \n",
    "\n",
    "# Generating SH data:\n",
    "\n",
    "sh_rent_cost_3 = np.array([50,150,2000,2100,4500,4700,7000,7500,11000,24000])\n",
    "sh_rent_cost_all_pop_3 = np.repeat(sh_rent_cost_3, 1600)"
   ]
  },
  {
   "cell_type": "code",
   "execution_count": 107,
   "metadata": {},
   "outputs": [],
   "source": [
    "sh_pop_3, sh_mean_3, sh_median_3, sh_iqr_3, sh_var_3 = get_statistics_values(sh_rent_cost_all_pop_3)"
   ]
  },
  {
   "cell_type": "code",
   "execution_count": 108,
   "metadata": {},
   "outputs": [
    {
     "name": "stdout",
     "output_type": "stream",
     "text": [
      "In the second scenario SH sttistics descreptive:\n",
      "The population is: 16000 \n",
      "rent mean: 6300.0 RCU \n",
      "rent median: 4600.0 RCU \n",
      "IQR: 5500.0 \n",
      "Variance: 45612500.0\n"
     ]
    }
   ],
   "source": [
    "print(\"In the second scenario SH sttistics descreptive:\")\n",
    "print_descreptive(sh_pop_3, sh_mean_3, sh_median_3, sh_iqr_3, sh_var_3)"
   ]
  },
  {
   "cell_type": "code",
   "execution_count": 109,
   "metadata": {},
   "outputs": [],
   "source": [
    "# Generating RG data:\n",
    "\n",
    "rg_rent_cost_3 = np.array([100,200,500,600,4400,4800,6000,8000,8400,9000])\n",
    "rg_rent_cost_all_pop_3 = np.repeat(rg_rent_cost_3, 2200)"
   ]
  },
  {
   "cell_type": "code",
   "execution_count": 110,
   "metadata": {},
   "outputs": [],
   "source": [
    "rg_pop_3, rg_mean_3, rg_median_3, rg_iqr_3, rg_var_3 = get_statistics_values(rg_rent_cost_all_pop_3)"
   ]
  },
  {
   "cell_type": "code",
   "execution_count": 111,
   "metadata": {},
   "outputs": [
    {
     "name": "stdout",
     "output_type": "stream",
     "text": [
      "In the second scenario RG sttistics descreptive:\n",
      "The population is: 22000 \n",
      "rent mean: 4200.0 RCU \n",
      "rent median: 4600.0 RCU \n",
      "IQR: 7500.0 \n",
      "Variance: 11822000.0\n"
     ]
    }
   ],
   "source": [
    "print(\"In the second scenario RG sttistics descreptive:\")\n",
    "print_descreptive(rg_pop_3, rg_mean_3, rg_median_3, rg_iqr_3, rg_var_3)"
   ]
  },
  {
   "cell_type": "code",
   "execution_count": 112,
   "metadata": {},
   "outputs": [
    {
     "data": {
      "image/png": "[encoded data removed]",
      "text/plain": [
       "<Figure size 1008x864 with 2 Axes>"
      ]
     },
     "metadata": {
      "needs_background": "light"
     },
     "output_type": "display_data"
    }
   ],
   "source": [
    "create_hist_plot(sh_rent_cost_all_pop_3, rg_rent_cost_all_pop_3, \"Rental expenses [RCU]\",\"SH pop\", \"RG pop\", \"Scenario 3\\nRental expenses Histograms\")\n",
    "\n"
   ]
  },
  {
   "cell_type": "markdown",
   "metadata": {},
   "source": [
    "The survey also examined the per household income (PHI) in these two places.<br>\n",
    "\n",
    "It found that:<br>\n",
    "* The mean of PHI in SH is 12500 and in RG is 8500.\n",
    "* The median is 12000 in SH and 8000 in RG.\n",
    "* The covariance of the rent and the PHI was observed to be as in the formula below with $\\alpha=97\\%$ and $\\alpha=89\\%$ in SH and in RG respectively.<br><br>\n",
    "$$Cov(rent, PHI) = \\alpha * \\sqrt{Var(rent)} * \\sqrt{Var(PHI)}$$\n",
    "\n",
    "#### 2.C\n",
    "Produce rent and PHI data for the two cities, that is consistent with these findings. The covariances in your data can deviate by up to 1% from the numbers given $\\alpha$."
   ]
  },
  {
   "cell_type": "code",
   "execution_count": 113,
   "metadata": {},
   "outputs": [],
   "source": [
    "def get_cov_ratio (phi_data:float, rent_data:float, alpha:float):\n",
    "    \n",
    "    phi_var = np.var(phi_data)\n",
    "    rent_var = np.var(rent_data)\n",
    "    \n",
    "    expected_cov = alpha*np.sqrt(phi_var)*np.sqrt(rent_var)\n",
    "    observed_cov = np.cov(phi_data,rent_data)[0,1]\n",
    "    \n",
    "    deviation_from_expected = (observed_cov/expected_cov)*100\n",
    "    \n",
    "    return abs(np.round(deviation_from_expected-100,3)) "
   ]
  },
  {
   "cell_type": "code",
   "execution_count": null,
   "metadata": {},
   "outputs": [],
   "source": []
  },
  {
   "cell_type": "code",
   "execution_count": 114,
   "metadata": {},
   "outputs": [],
   "source": [
    "sh_rent_cost_all_pop_2c = sh_rent_cost_all_pop_1\n",
    "sh_pop, sh_rent_mean, sh_rent_median, sh_rent_iqr, sh_rent_var = get_statistics_values(sh_rent_cost_all_pop_2c)"
   ]
  },
  {
   "cell_type": "code",
   "execution_count": 115,
   "metadata": {},
   "outputs": [
    {
     "name": "stdout",
     "output_type": "stream",
     "text": [
      "SH-rent sttistics descreptive:\n",
      "The population is: 16000 \n",
      "rent mean: 6300.0 RCU \n",
      "rent median: 4600.0 RCU \n",
      "IQR: 4150.0 \n",
      "Variance: 6438500.0\n"
     ]
    }
   ],
   "source": [
    "print(\"SH-rent sttistics descreptive:\")\n",
    "print_descreptive(sh_pop, sh_rent_mean, sh_rent_median, sh_rent_iqr, sh_rent_var)"
   ]
  },
  {
   "cell_type": "code",
   "execution_count": 116,
   "metadata": {},
   "outputs": [],
   "source": [
    "sh_phi_cost = np.array([11100,11200,11300,11400,11500,12500,13400,13600,14300,14700])\n",
    "sh_phi_cost_all_pop = np.repeat(sh_phi_cost, 1600)"
   ]
  },
  {
   "cell_type": "code",
   "execution_count": 117,
   "metadata": {},
   "outputs": [],
   "source": [
    "sh_pop, sh_phi_mean, sh_phi_median, sh_phi_iqr, sh_phi_var = get_statistics_values(sh_phi_cost_all_pop)"
   ]
  },
  {
   "cell_type": "code",
   "execution_count": 118,
   "metadata": {},
   "outputs": [
    {
     "name": "stdout",
     "output_type": "stream",
     "text": [
      "SH-PHI sttistics descreptive:\n",
      "The population is: 16000 \n",
      "rent mean: 12500.0 RCU \n",
      "rent median: 12000.0 RCU \n",
      "IQR: 2300.0 \n",
      "Variance: 1740000.0\n"
     ]
    }
   ],
   "source": [
    "print(\"SH-PHI sttistics descreptive:\")\n",
    "print_descreptive(sh_pop, sh_phi_mean, sh_phi_median, sh_phi_iqr, sh_phi_var)"
   ]
  },
  {
   "cell_type": "code",
   "execution_count": 119,
   "metadata": {},
   "outputs": [],
   "source": [
    "rg_rent_cost_all_pop_2c = rg_rent_cost_all_pop_1\n",
    "rg_pop, rg_rent_mean, rg_rent_median, rg_rent_iqr, rg_rent_var = get_statistics_values(rg_rent_cost_all_pop_2c)"
   ]
  },
  {
   "cell_type": "code",
   "execution_count": 120,
   "metadata": {},
   "outputs": [
    {
     "name": "stdout",
     "output_type": "stream",
     "text": [
      "RG-rent sttistics descreptive:\n",
      "The population is: 22000 \n",
      "rent mean: 4200.0 RCU \n",
      "rent median: 4600.0 RCU \n",
      "IQR: 6100.0 \n",
      "Variance: 11110000.0\n"
     ]
    }
   ],
   "source": [
    "print(\"RG-rent sttistics descreptive:\")\n",
    "print_descreptive(rg_pop, rg_rent_mean, rg_rent_median, rg_rent_iqr, rg_rent_var)"
   ]
  },
  {
   "cell_type": "code",
   "execution_count": 121,
   "metadata": {},
   "outputs": [],
   "source": [
    "rg_phi_cost = np.array([2300,6700,6900,7000,7000,9000,9800,10000,11000,15300])\n",
    "rg_phi_cost_all_pop = np.repeat(rg_phi_cost, 2200)"
   ]
  },
  {
   "cell_type": "code",
   "execution_count": 122,
   "metadata": {},
   "outputs": [],
   "source": [
    "rg_pop, rg_phi_mean, rg_phi_median, rg_phi_iqr, rg_phi_var = get_statistics_values(rg_phi_cost_all_pop)"
   ]
  },
  {
   "cell_type": "code",
   "execution_count": 123,
   "metadata": {
    "scrolled": true
   },
   "outputs": [
    {
     "name": "stdout",
     "output_type": "stream",
     "text": [
      "RG-PHI sttistics descreptive:\n",
      "The population is: 22000 \n",
      "rent mean: 8500.0 RCU \n",
      "rent median: 8000.0 RCU \n",
      "IQR: 3100.0 \n",
      "Variance: 10542000.0\n"
     ]
    }
   ],
   "source": [
    "print(\"RG-PHI sttistics descreptive:\")\n",
    "print_descreptive(rg_pop, rg_phi_mean, rg_phi_median, rg_phi_iqr, rg_phi_var )"
   ]
  },
  {
   "cell_type": "code",
   "execution_count": 124,
   "metadata": {},
   "outputs": [],
   "source": [
    "# SH:"
   ]
  },
  {
   "cell_type": "code",
   "execution_count": 125,
   "metadata": {},
   "outputs": [],
   "source": [
    "sh_cov_ratio = get_cov_ratio(sh_phi_cost_all_pop,sh_rent_cost_all_pop_2c, 0.97)"
   ]
  },
  {
   "cell_type": "code",
   "execution_count": 126,
   "metadata": {},
   "outputs": [
    {
     "name": "stdout",
     "output_type": "stream",
     "text": [
      "The deviation of SH covariance is 0.401%\n"
     ]
    }
   ],
   "source": [
    "print(f\"The deviation of SH covariance is {sh_cov_ratio}%\")"
   ]
  },
  {
   "cell_type": "code",
   "execution_count": 127,
   "metadata": {},
   "outputs": [],
   "source": [
    "# RG:"
   ]
  },
  {
   "cell_type": "code",
   "execution_count": 128,
   "metadata": {},
   "outputs": [],
   "source": [
    "rg_cov_ratio = get_cov_ratio(rg_phi_cost_all_pop,rg_rent_cost_all_pop_2c, 0.89)"
   ]
  },
  {
   "cell_type": "code",
   "execution_count": 129,
   "metadata": {},
   "outputs": [
    {
     "name": "stdout",
     "output_type": "stream",
     "text": [
      "The deviation of RG covariance is 0.868%\n"
     ]
    }
   ],
   "source": [
    "print(f\"The deviation of RG covariance is {rg_cov_ratio}%\")"
   ]
  },
  {
   "cell_type": "markdown",
   "metadata": {},
   "source": [
    "#### 2.D\n",
    "Produce two heatmaps that describe these two bivariate joint distributions. Make sure you carefully consider the selected binning resolution."
   ]
  },
  {
   "cell_type": "code",
   "execution_count": 130,
   "metadata": {},
   "outputs": [],
   "source": [
    "sh_rent_cost_all_pop = sh_rent_cost_all_pop_1"
   ]
  },
  {
   "cell_type": "code",
   "execution_count": 131,
   "metadata": {},
   "outputs": [],
   "source": [
    "sh_rent_cost = sh_rent_cost_1"
   ]
  },
  {
   "cell_type": "markdown",
   "metadata": {},
   "source": [
    "Bins size were chosen to represnet the deciles in the 2D-dimensions (Rental and PHI), \n",
    "<br>Through this division it is possible to identify a trend in the various deciles. \n",
    "<br>For example, whether in the low decile of phi the rent is also the lowest (as can be seen in SH heatmap)"
   ]
  },
  {
   "cell_type": "code",
   "execution_count": 132,
   "metadata": {
    "scrolled": true
   },
   "outputs": [
    {
     "data": {
      "image/png": "[encoded data removed]",
      "text/plain": [
       "<Figure size 432x288 with 2 Axes>"
      ]
     },
     "metadata": {
      "needs_background": "light"
     },
     "output_type": "display_data"
    }
   ],
   "source": [
    "hist_sh_rent_phi = plt.hist2d(x = sh_rent_cost_all_pop, y = sh_phi_cost_all_pop, range = [[np.min(sh_rent_cost_all_pop),np.max(sh_rent_cost_all_pop)]\n",
    "                                                                                      ,[np.min(sh_phi_cost_all_pop),np.max(sh_phi_cost_all_pop)]])\n",
    "plt.xlabel(\"Rental Expenses\")\n",
    "plt.ylabel(\"PHI\")\n",
    "plt.title(\"SH - Heatmap\\nRental expenses VS PHI\")\n",
    "plt.colorbar(hist_sh_rent_phi[3])\n",
    "\n",
    "plt.show()\n",
    "\n",
    "\n"
   ]
  },
  {
   "cell_type": "code",
   "execution_count": 133,
   "metadata": {},
   "outputs": [],
   "source": [
    "rg_rent_cost_all_pop = rg_rent_cost_all_pop_1"
   ]
  },
  {
   "cell_type": "code",
   "execution_count": 134,
   "metadata": {},
   "outputs": [
    {
     "data": {
      "image/png": "[encoded data removed]",
      "text/plain": [
       "<Figure size 432x288 with 2 Axes>"
      ]
     },
     "metadata": {
      "needs_background": "light"
     },
     "output_type": "display_data"
    }
   ],
   "source": [
    "hist_rg_rent_phi = plt.hist2d(x = rg_rent_cost_all_pop, y = rg_phi_cost_all_pop, range = [[np.min(rg_rent_cost_all_pop),np.max(rg_rent_cost_all_pop)]\n",
    "                                                                                      ,[np.min(rg_phi_cost_all_pop),np.max(rg_phi_cost_all_pop)]])\n",
    "plt.xlabel(\"Rental Expenses\")\n",
    "plt.ylabel(\"PHI\")\n",
    "plt.title(\"RG - Heatmap\\nRental expenses VS PHI\")\n",
    "plt.colorbar(hist_sh_rent_phi[3])\n",
    "plt.show()\n"
   ]
  },
  {
   "cell_type": "markdown",
   "metadata": {},
   "source": [
    "### Question 3 - Multinomial Distributions\n",
    "\n",
    "1. Let $X \\sim Multinomial(n,\\vec{p})$ be a multinomial random variable where $n=20$ and $\\vec{p} = (0.2,  0.1,  0.1,  0.1,  0.2,  0.3)$. Note that X is a vector of counts.\n",
    "\n",
    "\n",
    "2. Let $Y = X_2 + X_3 + X_4$ be a random variable.\n",
    "\n",
    "\n",
    "3. Create $k=100$ experiments where $X$ is sampled using Python. Calculate the empirical centralized third moment of $Y$ based on your $k$ experiments.\n",
    "\n",
    "\n",
    "4. Compare your result to the calculation in class for the centralized third moment of the **binomial** distribution and explain your observation."
   ]
  },
  {
   "cell_type": "code",
   "execution_count": 135,
   "metadata": {},
   "outputs": [
    {
     "name": "stdout",
     "output_type": "stream",
     "text": [
      "1.4583359999999976\n"
     ]
    }
   ],
   "source": [
    "p = [0.2,0.1,0.1,0.1,0.2,0.3]\n",
    "n = 20\n",
    "k =100\n",
    "experiments = stats.multinomial(n,p).rvs(k) # create 100 samples for Xi\n",
    "\n",
    "yi =experiments[:,1:4].sum(axis=1) # sum over rows= sum(yi = X1+X2+X3) how many time we saw Yi in each experiment\n",
    "\n",
    "expected = ((yi-yi.mean())**3).mean() # subsract the mean elementwise \n",
    "print(expected)"
   ]
  },
  {
   "cell_type": "code",
   "execution_count": 136,
   "metadata": {},
   "outputs": [
    {
     "data": {
      "text/plain": [
       "1.6799999999999997"
      ]
     },
     "execution_count": 136,
     "metadata": {},
     "output_type": "execute_result"
    }
   ],
   "source": [
    "p_yi = 0.3 # x2+x3+x4 = 0.3\n",
    "n=20\n",
    "moment_from_class = n*p_yi*(1-p_yi)*(1-(2*p_yi))\n",
    "moment_from_class"
   ]
  },
  {
   "cell_type": "code",
   "execution_count": 141,
   "metadata": {},
   "outputs": [],
   "source": [
    "third_moment = []\n",
    "n_exp = np.arange(100,100000,500)\n",
    "\n",
    "for i in range(100,100000,500):\n",
    "    \n",
    "    experiments = stats.multinomial(n,p).rvs(i) # create 100 samples for Xi\n",
    "\n",
    "    yi =experiments[:,1:4].sum(axis=1) # sum over rows= sum(yi = X1+X2+X3) how many time we saw Yi in each experiment\n",
    "\n",
    "    expected = ((yi-yi.mean())**3).mean() # subsract the mean elementwise \n",
    "    \n",
    "    third_moment.append(expected)   "
   ]
  },
  {
   "cell_type": "code",
   "execution_count": 161,
   "metadata": {},
   "outputs": [
    {
     "data": {
      "image/png": "[encoded data removed]",
      "text/plain": [
       "<Figure size 432x288 with 1 Axes>"
      ]
     },
     "metadata": {
      "needs_background": "light"
     },
     "output_type": "display_data"
    }
   ],
   "source": [
    "plt.plot(n_exp, third_moment)\n",
    "plt.title(\"Empirical Third Moment VS Binom Third moment computed at class\")\n",
    "\n",
    "ax = plt.gca()\n",
    "ax.axhline(moment_from_class, c='r')\n",
    "\n",
    "ax.annotate('BN third moment='+str(np.round(moment_from_class,3)), xy=(80000,moment_from_class), xytext=(20000,2.5),size=15, arrowprops=dict(width=1, fc='black',lw=1))\n",
    "\n",
    "plt.show()\n"
   ]
  },
  {
   "cell_type": "markdown",
   "metadata": {},
   "source": [
    "From the graph it can be seen that the more experiments we perform the empirical third moment convergent to the Binom moment computed at class."
   ]
  },
  {
   "cell_type": "code",
   "execution_count": null,
   "metadata": {},
   "outputs": [],
   "source": []
  },
  {
   "cell_type": "code",
   "execution_count": null,
   "metadata": {},
   "outputs": [],
   "source": []
  },
  {
   "cell_type": "markdown",
   "metadata": {},
   "source": [
    "### Question 4 - Covariance and independence"
   ]
  },
  {
   "cell_type": "markdown",
   "metadata": {},
   "source": [
    "What is the variance of the sum X +Y + Z of three random variables in terms of the variances of X, Y and Z and the covariances between each pair of random variables? What happens if X,Y,Z are pairwise independent? If X,Y,Z are pairwise independent, are they necessarily collectively independent? Prove your answer."
   ]
  },
  {
   "cell_type": "markdown",
   "metadata": {},
   "source": [
    "We will start with displaying the formula of variance:\n",
    "\n",
    "$V(X+Y+Z) = E{[(X+Y+Z)-E(X+Y+Z)]^2}$\n",
    "\n",
    "The sum of expections values is equal to the some of each expection value alone**\n",
    "\n",
    "$= E{[(X+Y+Z)-E(X)-E(Y)-E(Z)]^2}$\n",
    "\n",
    "$= E{[(X-E(X))+(Y-E(Y))+(Z-E(Z))]^2}$\n",
    "\n",
    "Using the definition of the following formula: \n",
    "$(a+b+c)^2 = a^2+2ab+2bc+b^2+2bc+c^2$\n",
    "$a = X-E(X)$\n",
    "$b = Y-E(Y)$\n",
    "$c = Z-E(Z)$\n",
    "\n",
    "Therfore: \n",
    "\n",
    "$= E[(X-E(X))^2]+2E[(X-E(X)(Y-E(Y)]+2E[(X-E(X)(Z-E(Z)]$\n",
    "$+E[(Y-E(Y))^2]+2E[(Y-E(Y)(Z-E(Z)]+E[(Z-E(Z))^2]$\n",
    "\n",
    "Using the variance definition: $V(T) = E[(T-E(T)^2]$\n",
    "\n",
    "$= V(X)+V(Y)+V(Z)+2COV(X,Y)+2COV(X,Z)+2COV(Y,Z)$\n"
   ]
  },
  {
   "cell_type": "markdown",
   "metadata": {},
   "source": [
    "We will start with proving that if X,Y are independent then the $COV(X,Y) = 0 $:\n",
    "\n",
    "$= COV(X,Y) = E[(X-E(X))(Y-E(Y))]$\n",
    "\n",
    "$= E[XY-XE(Y)-YE(X)+E(X)E(Y)]$\n",
    "\n",
    "$= E[XY]-E(X)E(Y)-E(Y)E(X)+E(X)E(Y)$\n",
    "\n",
    "$= E[XY]-E(X)E(Y)$\n",
    "\n",
    "Because X and Y are independent $E[XY] = E[X]E[Y]$\n",
    "\n",
    "$= E[X]E[Y]-E(X)E(Y) = -> 0$\n",
    "\n",
    "Meaning that the cov of 2 independent variables is 0. \n",
    "\n",
    "Using What we have proven in the first section and what we have proven above the Variance of X,Y,Z given that they are pairwise independent:\n",
    "\n",
    "$V(X+Y+Z) = V(X)+V(Y)+V(Z)+2COV(X,Y)+2COV(X,Z)+2COV(Y,Z)$\n",
    "\n",
    "$-> V(X+Y+Z) = V(X)+V(Y)+V(Z)$ <br><br>\n",
    "\n",
    "To prove that X,Y,Z are collectively independent the<b> all of the</b> following <b>conditions</b> needs to hold for all X,Y,Z: <br>\n",
    "<ol>\n",
    "<li>The events are pairwise independent:<br><br>\n",
    "    <ul>\n",
    "        <li>$P(x, y)= P(x)P(y)$</li>\n",
    "        <li>$P(x, z)= P(x)P(z)$</li>\n",
    "        <li>$P(z, y)= P(z)P(y)$</li>\n",
    "    </ul>\n",
    "    </li> <br>\n",
    "    <li>$P(x, y, z)= P(x)P(y)P(z)$ </li>\n",
    "</ol>\n",
    "We will check if the two conditions hold in the following example: <br><br>\n",
    "We define an experiment of two tosses of a fair coin.<br>  \n",
    "X, Y, Z are three random variables over the same sample space $\\Omega $ defined as:<br>\n",
    "X - The result of the first toss is 0 {01, 00} <br>\n",
    "Y - The result of the second toss is 0 {00, 10}. <br>\n",
    "Z - The two tosses had the same result  {00, 11}. <br>\n",
    "$\\Omega=$ {00,01,10,11} <br>\n",
    "<ul>\n",
    "    <li>$P(X=0) = 0.5$</li>\n",
    "    <li>$P(Y=0) = 0.5$</li>\n",
    "    <li>$P(Z=\\{00,11\\}) = 0.5$</li>\n",
    "</ul>\n",
    "Let's Check if the two condidtions holds:<br>\n",
    "<ol>\n",
    "    <li>\n",
    "        <ul>\n",
    "            <li>$P(X \\cap Y) = 0.25 = P(X)P(Y)$</li>\n",
    "            <li>$P(X \\cap Z) = 0.25 = P(X)P(Z)$</li>\n",
    "            <li>$P(Y \\cap Z) = 0.25 = P(Y)P(Z)$</li>\n",
    "        </ul>\n",
    "    </li>\n",
    "      <li>$P(X \\cap Y \\cap Z) = 0.25 \\neq P(X)P(Y)P(Z)=0.125$</li>\n",
    "</ol>\n",
    "Since one is violated, we can say that although the variables are pairwise independent, they are <b>not collectively independent</b>."
   ]
  },
  {
   "cell_type": "code",
   "execution_count": null,
   "metadata": {},
   "outputs": [],
   "source": []
  },
  {
   "cell_type": "markdown",
   "metadata": {},
   "source": [
    "### Question 5 - Convolutions"
   ]
  },
  {
   "cell_type": "markdown",
   "metadata": {},
   "source": [
    "#### 5.A\n",
    "Write a program, `Q = NFoldConv(P , n)`, that takes as input:\n",
    "* A distribution, P, of a random variable that takes finitely many integer values\n",
    "* An integer n\n",
    "\n",
    "and produces the distribution, Q, of the sum of n independent repeats of random variables, each of which has the distribution P."
   ]
  },
  {
   "cell_type": "code",
   "execution_count": 165,
   "metadata": {},
   "outputs": [],
   "source": [
    "def NFoldConv(P:pd.DataFrame , n:int):\n",
    "    values = P['values'].values\n",
    "    probs = P['probs'].values\n",
    "    initial_values = values\n",
    "    initial_probs = probs\n",
    "    \n",
    "    for i in range(n-1):\n",
    "        values, probs = np.add.outer(values, initial_values).reshape(-1), np.multiply.outer(probs, initial_probs).reshape(-1)\n",
    "        df_values_probs = pd.DataFrame({'values':values,'probs':probs})\n",
    "        Q = df_values_probs.groupby('values').agg('sum')\n",
    "        Q.reset_index(inplace=True) # need to reset index since the values turns to the index itself when using group by\n",
    "        values, probs = Q['values'].values, Q['probs'].values # create comulative values & probs\n",
    "    return Q\n"
   ]
  },
  {
   "cell_type": "markdown",
   "metadata": {},
   "source": [
    "#### 5.B\n",
    "Compute the distribution of the sum of the results of rolling a fair octahedron 17 times.\n",
    "\n",
    "<img src=\"https://upload.wikimedia.org/wikipedia/commons/2/27/Octahedron.jpg\" width=\"200\">\n"
   ]
  },
  {
   "cell_type": "code",
   "execution_count": 166,
   "metadata": {},
   "outputs": [],
   "source": [
    "oct_edges = 8\n",
    "n = 17\n",
    "\n",
    "values = np.arange(1, oct_edges+1)\n",
    "probs = (np.ones([oct_edges])/oct_edges)\n",
    "\n",
    "oct_df = pd.DataFrame({'values':values,'probs':probs})"
   ]
  },
  {
   "cell_type": "code",
   "execution_count": 169,
   "metadata": {},
   "outputs": [],
   "source": [
    "df_dist = NFoldConv(oct_df,n)"
   ]
  },
  {
   "cell_type": "code",
   "execution_count": 173,
   "metadata": {},
   "outputs": [
    {
     "data": {
      "text/html": [
       "<div>\n",
       "<style scoped>\n",
       "    .dataframe tbody tr th:only-of-type {\n",
       "        vertical-align: middle;\n",
       "    }\n",
       "\n",
       "    .dataframe tbody tr th {\n",
       "        vertical-align: top;\n",
       "    }\n",
       "\n",
       "    .dataframe thead th {\n",
       "        text-align: right;\n",
       "    }\n",
       "</style>\n",
       "<table border=\"1\" class=\"dataframe\">\n",
       "  <thead>\n",
       "    <tr style=\"text-align: right;\">\n",
       "      <th></th>\n",
       "      <th>values</th>\n",
       "      <th>probs</th>\n",
       "    </tr>\n",
       "  </thead>\n",
       "  <tbody>\n",
       "    <tr>\n",
       "      <th>0</th>\n",
       "      <td>17</td>\n",
       "      <td>4.440892e-16</td>\n",
       "    </tr>\n",
       "    <tr>\n",
       "      <th>1</th>\n",
       "      <td>18</td>\n",
       "      <td>7.549517e-15</td>\n",
       "    </tr>\n",
       "    <tr>\n",
       "      <th>2</th>\n",
       "      <td>19</td>\n",
       "      <td>6.794565e-14</td>\n",
       "    </tr>\n",
       "    <tr>\n",
       "      <th>3</th>\n",
       "      <td>20</td>\n",
       "      <td>4.303224e-13</td>\n",
       "    </tr>\n",
       "    <tr>\n",
       "      <th>4</th>\n",
       "      <td>21</td>\n",
       "      <td>2.151612e-12</td>\n",
       "    </tr>\n",
       "    <tr>\n",
       "      <th>...</th>\n",
       "      <td>...</td>\n",
       "      <td>...</td>\n",
       "    </tr>\n",
       "    <tr>\n",
       "      <th>115</th>\n",
       "      <td>132</td>\n",
       "      <td>2.151612e-12</td>\n",
       "    </tr>\n",
       "    <tr>\n",
       "      <th>116</th>\n",
       "      <td>133</td>\n",
       "      <td>4.303224e-13</td>\n",
       "    </tr>\n",
       "    <tr>\n",
       "      <th>117</th>\n",
       "      <td>134</td>\n",
       "      <td>6.794565e-14</td>\n",
       "    </tr>\n",
       "    <tr>\n",
       "      <th>118</th>\n",
       "      <td>135</td>\n",
       "      <td>7.549517e-15</td>\n",
       "    </tr>\n",
       "    <tr>\n",
       "      <th>119</th>\n",
       "      <td>136</td>\n",
       "      <td>4.440892e-16</td>\n",
       "    </tr>\n",
       "  </tbody>\n",
       "</table>\n",
       "<p>120 rows × 2 columns</p>\n",
       "</div>"
      ],
      "text/plain": [
       "     values         probs\n",
       "0        17  4.440892e-16\n",
       "1        18  7.549517e-15\n",
       "2        19  6.794565e-14\n",
       "3        20  4.303224e-13\n",
       "4        21  2.151612e-12\n",
       "..      ...           ...\n",
       "115     132  2.151612e-12\n",
       "116     133  4.303224e-13\n",
       "117     134  6.794565e-14\n",
       "118     135  7.549517e-15\n",
       "119     136  4.440892e-16\n",
       "\n",
       "[120 rows x 2 columns]"
      ]
     },
     "execution_count": 173,
     "metadata": {},
     "output_type": "execute_result"
    }
   ],
   "source": [
    "df_dist"
   ]
  },
  {
   "cell_type": "code",
   "execution_count": 177,
   "metadata": {},
   "outputs": [
    {
     "data": {
      "image/png": "[encoded data removed]",
      "text/plain": [
       "<Figure size 432x288 with 1 Axes>"
      ]
     },
     "metadata": {
      "needs_background": "light"
     },
     "output_type": "display_data"
    }
   ],
   "source": [
    "sns.scatterplot(x=df_dist['values'],y= df_dist['probs'])\n",
    "\n",
    "plt.show()"
   ]
  },
  {
   "cell_type": "markdown",
   "metadata": {},
   "source": []
  }
 ],
 "metadata": {
  "kernelspec": {
   "display_name": "Python 3",
   "language": "python",
   "name": "python3"
  },
  "language_info": {
   "codemirror_mode": {
    "name": "ipython",
    "version": 3
   },
   "file_extension": ".py",
   "mimetype": "text/x-python",
   "name": "python",
   "nbconvert_exporter": "python",
   "pygments_lexer": "ipython3",
   "version": "3.8.5"
  }
 },
 "nbformat": 4,
 "nbformat_minor": 4
}
