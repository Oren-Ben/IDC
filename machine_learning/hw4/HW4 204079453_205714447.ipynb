{
 "cells": [
  {
   "cell_type": "markdown",
   "metadata": {},
   "source": [
    "# Exercise 4: Logistic Regression, Bayes and EM\n",
    "\n",
    "In this assignment you will implement several algorithms as learned in class.\n",
    "\n",
    "## Read the following instructions carefully:\n",
    "\n",
    "1. This jupyter notebook contains all the step by step instructions needed for this exercise.\n",
    "2. Write **efficient vectorized** code whenever possible. Some calculations in this exercise take several minutes when implemented efficiently, and might take much longer otherwise. Unnecessary loops will result in point deduction.\n",
    "3. You are responsible for the correctness of your code and should add as many tests as you see fit. Tests will not be graded nor checked.\n",
    "4. Write your functions in this notebook only. **Do not create Python modules and import them**.\n",
    "5. You are allowed to use functions and methods from the [Python Standard Library](https://docs.python.org/3/library/) and [numpy](https://www.numpy.org/devdocs/reference/) and pandas. \n",
    "6. Your code must run without errors. During the environment setup, you were given a specific version of `numpy` to install (1.15.4). Changes of the configuration we provided are at your own risk. Any code that cannot run will not be graded.\n",
    "7. Write your own code. Cheating will not be tolerated.\n",
    "8. Submission includes this notebook only with the exercise number and your ID as the filename. For example: `hw4_123456789_987654321.ipynb` if you submitted in pairs and `hw4_123456789.ipynb` if you submitted the exercise alone.\n",
    "9. Answers to qualitative questions should be written in **markdown** cells (with $\\LaTeX$ support). Answers that will be written in commented code blocks will not be checked.\n",
    "\n",
    "## In this exercise you will perform the following:\n",
    "1. Implement Logistic Regression algorithm.\n",
    "1. Implement EM algorithm.\n",
    "1. Implement Navie Bayes algorithm that uses EM for calculating the likelihood.\n",
    "1. Visualize your results."
   ]
  },
  {
   "cell_type": "markdown",
   "metadata": {},
   "source": [
    "# I have read and understood the instructions: *** 204079453_205714447 ***"
   ]
  },
  {
   "cell_type": "code",
   "execution_count": 1,
   "metadata": {},
   "outputs": [],
   "source": [
    "import numpy as np\n",
    "import pandas as pd\n",
    "from matplotlib.colors import ListedColormap\n",
    "import matplotlib.pyplot as plt\n",
    "\n",
    "# make matplotlib figures appear inline in the notebook\n",
    "%matplotlib inline\n",
    "plt.rcParams['figure.figsize'] = (10.0, 8.0) # set default size of plots\n",
    "plt.rcParams['image.interpolation'] = 'nearest'\n",
    "plt.rcParams['image.cmap'] = 'gray'\n",
    "\n",
    "# Make the notebook automatically reload external python modules\n",
    "%load_ext autoreload\n",
    "%autoreload 2\n",
    "# Ignore warnings\n",
    "import warnings\n",
    "warnings.filterwarnings('ignore')"
   ]
  },
  {
   "cell_type": "code",
   "execution_count": 2,
   "metadata": {},
   "outputs": [],
   "source": [
    "# Function for ploting the decision boundaries of a model\n",
    "# You will use it later\n",
    "def plot_decision_regions(X, y, classifier, resolution=0.01):\n",
    "\n",
    "    # setup marker generator and color map\n",
    "    markers = ('.', '.')\n",
    "    colors = ('blue', 'red')\n",
    "    cmap = ListedColormap(colors[:len(np.unique(y))])\n",
    "    # plot the decision surface\n",
    "    x1_min, x1_max = X[:, 0].min() - 1, X[:, 0].max() + 1\n",
    "    x2_min, x2_max = X[:, 1].min() - 1, X[:, 1].max() + 1\n",
    "    xx1, xx2 = np.meshgrid(np.arange(x1_min, x1_max, resolution),\n",
    "                           np.arange(x2_min, x2_max, resolution))\n",
    "    Z = classifier.predict(np.array([xx1.ravel(), xx2.ravel()]).T)\n",
    "    Z = Z.reshape(xx1.shape)\n",
    "    plt.contourf(xx1, xx2, Z, alpha=0.3, cmap=cmap)\n",
    "    plt.xlim(xx1.min(), xx1.max())\n",
    "    plt.ylim(xx2.min(), xx2.max())\n",
    "\n",
    "    for idx, cl in enumerate(np.unique(y)):\n",
    "        plt.scatter(x=X[y == cl, 0], \n",
    "                    y=X[y == cl, 1],\n",
    "                    alpha=0.8, \n",
    "                    c=colors[idx],\n",
    "                    marker=markers[idx], \n",
    "                    label=cl, \n",
    "                    edgecolor='black')"
   ]
  },
  {
   "cell_type": "markdown",
   "metadata": {},
   "source": [
    "## Reading the data"
   ]
  },
  {
   "cell_type": "code",
   "execution_count": 3,
   "metadata": {},
   "outputs": [],
   "source": [
    "training_set = pd.read_csv('training_set.csv')\n",
    "test_set = pd.read_csv('test_set.csv')\n",
    "X_training, y_training = training_set[['x1', 'x2']].values, training_set['y'].values\n",
    "X_test, y_test = test_set[['x1', 'x2']].values, test_set['y'].values"
   ]
  },
  {
   "cell_type": "code",
   "execution_count": 4,
   "metadata": {},
   "outputs": [
    {
     "name": "stdout",
     "output_type": "stream",
     "text": [
      "(2000, 3)\n"
     ]
    },
    {
     "data": {
      "text/html": [
       "<div>\n",
       "<style scoped>\n",
       "    .dataframe tbody tr th:only-of-type {\n",
       "        vertical-align: middle;\n",
       "    }\n",
       "\n",
       "    .dataframe tbody tr th {\n",
       "        vertical-align: top;\n",
       "    }\n",
       "\n",
       "    .dataframe thead th {\n",
       "        text-align: right;\n",
       "    }\n",
       "</style>\n",
       "<table border=\"1\" class=\"dataframe\">\n",
       "  <thead>\n",
       "    <tr style=\"text-align: right;\">\n",
       "      <th></th>\n",
       "      <th>x1</th>\n",
       "      <th>x2</th>\n",
       "      <th>y</th>\n",
       "    </tr>\n",
       "  </thead>\n",
       "  <tbody>\n",
       "    <tr>\n",
       "      <th>0</th>\n",
       "      <td>-1.385789</td>\n",
       "      <td>9.131464</td>\n",
       "      <td>0</td>\n",
       "    </tr>\n",
       "    <tr>\n",
       "      <th>1</th>\n",
       "      <td>-2.236903</td>\n",
       "      <td>5.561178</td>\n",
       "      <td>0</td>\n",
       "    </tr>\n",
       "    <tr>\n",
       "      <th>2</th>\n",
       "      <td>-2.362524</td>\n",
       "      <td>5.215973</td>\n",
       "      <td>0</td>\n",
       "    </tr>\n",
       "    <tr>\n",
       "      <th>3</th>\n",
       "      <td>-0.499655</td>\n",
       "      <td>4.981781</td>\n",
       "      <td>0</td>\n",
       "    </tr>\n",
       "    <tr>\n",
       "      <th>4</th>\n",
       "      <td>-2.976062</td>\n",
       "      <td>6.236138</td>\n",
       "      <td>0</td>\n",
       "    </tr>\n",
       "  </tbody>\n",
       "</table>\n",
       "</div>"
      ],
      "text/plain": [
       "         x1        x2  y\n",
       "0 -1.385789  9.131464  0\n",
       "1 -2.236903  5.561178  0\n",
       "2 -2.362524  5.215973  0\n",
       "3 -0.499655  4.981781  0\n",
       "4 -2.976062  6.236138  0"
      ]
     },
     "execution_count": 4,
     "metadata": {},
     "output_type": "execute_result"
    }
   ],
   "source": [
    "print(training_set.shape)\n",
    "training_set.head()"
   ]
  },
  {
   "cell_type": "markdown",
   "metadata": {},
   "source": [
    "## Visualizing the data\n",
    "(2 points each - 8 points total)\n",
    "\n",
    "Plot the following graphs for the training set:\n",
    "\n",
    "For the first feature only:\n",
    "1. For the first 1000 data points plot a histogram for each class on the same graph (use bins=20, alpha=0.5).\n",
    "1. For all the data points plot a histogram for each class on the same graph (use bins=40, alpha=0.5).\n",
    "\n",
    "For both features:\n",
    "1. For the first 1000 data points plot a scatter plot where each class has different color\n",
    "1. For all the data points plot a scatter plot where each class has different color"
   ]
  },
  {
   "cell_type": "code",
   "execution_count": 5,
   "metadata": {},
   "outputs": [
    {
     "data": {
      "image/png": "[encoded data removed]",
      "text/plain": [
       "<Figure size 720x576 with 1 Axes>"
      ]
     },
     "metadata": {
      "needs_background": "light"
     },
     "output_type": "display_data"
    },
    {
     "data": {
      "image/png": "[encoded data removed]",
      "text/plain": [
       "<Figure size 720x576 with 1 Axes>"
      ]
     },
     "metadata": {
      "needs_background": "light"
     },
     "output_type": "display_data"
    },
    {
     "data": {
      "image/png": "[encoded data removed]",
      "text/plain": [
       "<Figure size 720x576 with 1 Axes>"
      ]
     },
     "metadata": {
      "needs_background": "light"
     },
     "output_type": "display_data"
    },
    {
     "data": {
      "image/png": "[encoded data removed]",
      "text/plain": [
       "<Figure size 720x576 with 1 Axes>"
      ]
     },
     "metadata": {
      "needs_background": "light"
     },
     "output_type": "display_data"
    }
   ],
   "source": [
    "# for first feature only\n",
    "\n",
    "# 1 - For the first 1000 data points plot a histogram for each class on the same graph\n",
    "train_1000_samples = training_set[:1000].values\n",
    "train_1000_samples_y0 = train_1000_samples[train_1000_samples[:,-1]==0]\n",
    "train_1000_samples_y1 = train_1000_samples[train_1000_samples[:,-1]==1]\n",
    "plt.hist(train_1000_samples_y0[:,0], bins=20, alpha=0.5, label='0')\n",
    "plt.hist(train_1000_samples_y1[:,0], bins=20, alpha=0.5, label='1')\n",
    "plt.title(\"Feature 1 - Histogram (first 1000 data points)\", fontweight='bold', fontsize=14)\n",
    "plt.xlabel(\"Feature Values\")\n",
    "plt.ylabel(\"Count\")\n",
    "plt.legend()\n",
    "plt.show()\n",
    "\n",
    "# 2 - For all the data points plot a histogram for each class on the same graph\n",
    "train_samples = training_set.values\n",
    "train_samples_y0 = train_samples[train_samples[:,-1]==0]\n",
    "train_samples_y1 = train_samples[train_samples[:,-1]==1]\n",
    "plt.hist(train_samples_y0[:,0], bins=40, alpha=0.5, label='0')\n",
    "plt.hist(train_samples_y1[:,0], bins=40, alpha=0.5, label='1')\n",
    "plt.title(\"Feature 1 - Histogram (all data points)\", fontweight='bold', fontsize=14)\n",
    "plt.xlabel(\"Feature Values\")\n",
    "plt.ylabel(\"Count\")\n",
    "plt.legend()\n",
    "plt.show()\n",
    "\n",
    "# For both features:\n",
    "# 1- For the first 1000 data points plot a scatter plot where each class has different color\n",
    "plt.scatter(x = train_1000_samples_y0[:,0], y= train_1000_samples_y0[:,1], label='0')\n",
    "plt.scatter(x = train_1000_samples_y1[:,0], y= train_1000_samples_y1[:,1], label='1')\n",
    "plt.title(\"Both Features - Scatter Plot (1000 data points)\", fontweight='bold', fontsize=14)\n",
    "plt.xlabel(\"Feature 1\")\n",
    "plt.ylabel(\"Feature 2\")\n",
    "plt.legend()\n",
    "plt.show()\n",
    "\n",
    "# 2 - For all the data points plot a scatter plot where each class has different color\n",
    "plt.scatter(x = train_samples_y0[:,0], y= train_samples_y0[:,1], label='0')\n",
    "plt.scatter(x = train_samples_y1[:,0], y= train_samples_y1[:,1], label='1')\n",
    "plt.title(\"Both Features - Scatter Plot (all data points)\", fontweight='bold', fontsize=14)\n",
    "plt.xlabel(\"Feature 1\")\n",
    "plt.ylabel(\"Feature 2\")\n",
    "plt.legend()\n",
    "plt.show()"
   ]
  },
  {
   "cell_type": "markdown",
   "metadata": {},
   "source": [
    "## Logistic Regression\n",
    "\n",
    "(15 Points)\n",
    "\n",
    "Implement the Logistic Regression algorithm that uses gradient descent for finding the optimal theta vector. \n",
    "\n",
    "Where:\n",
    "$$\n",
    "h_\\theta(x) = \\frac{1}{1 + e^{-\\theta^T x}}\n",
    "$$\n",
    "\n",
    "$$\n",
    "J(\\theta)=\\frac{1}{m} \\sum_{d=1}^{m} - y^{(d)}ln(h_\\theta(x^{(d)}) - (1 - y^{(d)})ln(1 - h_\\theta(x^{(d)})\n",
    "$$\n",
    "\n",
    "Your class should contain the following functions:\n",
    "1. fit - the learning function\n",
    "1. predict - the function for predicting an instance after the fit function was executed\n",
    "\n",
    "\\* You can add more functions if you think this is necessary\n",
    "\n",
    "Your model should also store a list of the costs that you've calculated in each iteration"
   ]
  },
  {
   "cell_type": "code",
   "execution_count": 6,
   "metadata": {},
   "outputs": [],
   "source": [
    "class LogisticRegressionGD(object):\n",
    "    \"\"\"\n",
    "    Logistic Regression Classifier using gradient descent.\n",
    "\n",
    "    Parameters\n",
    "    ------------\n",
    "    eta : float\n",
    "      Learning rate (between 0.0 and 1.0)\n",
    "    n_iter : int\n",
    "      Passes over the training dataset.\n",
    "    eps : float\n",
    "      minimal change in the cost to declare convergence\n",
    "    random_state : int\n",
    "      Random number generator seed for random weight\n",
    "      initialization.\n",
    "    \"\"\"\n",
    "    \n",
    "    def __init__(self, eta=0.00005, n_iter=10000, eps=0.000001, random_state=1):\n",
    "        self.eta = eta\n",
    "        self.n_iter = n_iter\n",
    "        self.eps = eps\n",
    "        self.random_state = random_state\n",
    "        self.J_history = []\n",
    "        self.theta_vec = None\n",
    "        \n",
    "        np.random.seed(self.random_state)\n",
    "    \n",
    "    def compute_cost(self,X,y,theta):\n",
    "        h_0 = 1/(1+np.exp(-X @ theta.T))\n",
    "        J = (1/X.shape[0]) * (np.sum(-1*y*np.log(h_0)-(1-y)*np.log(1-h_0)))\n",
    "        return J\n",
    "        \n",
    "    def fit(self, X, y):\n",
    "        \"\"\" \n",
    "        Fit training data (the learning phase).\n",
    "        Store the theta vector in an attribute of the LogisticRegressionGD object.\n",
    "        Stop the function when the difference between the previous cost and the current is less than eps\n",
    "        or when you reach n_iter.\n",
    "\n",
    "        Parameters\n",
    "        ----------\n",
    "        X : {array-like}, shape = [n_examples, n_features]\n",
    "          Training vectors, where n_examples is the number of examples and\n",
    "          n_features is the number of features.\n",
    "        y : array-like, shape = [n_examples]\n",
    "          Target values.\n",
    "\n",
    "        \"\"\"\n",
    "  \n",
    "        # bias trick:\n",
    "        bias = np.ones((X.shape[0],1))\n",
    "        X = np.hstack((bias, X))\n",
    "        \n",
    "        # row vector \n",
    "        self.theta_vec = np.random.random(size=X.shape[1])#.reshape([1,-1])\n",
    "        \n",
    "        \n",
    "        for i in range(self.n_iter):\n",
    "            h_0 = 1/(1+np.exp(-1*(X @ self.theta_vec.T)))\n",
    "            grad = (self.eta*(h_0-y))@X\n",
    "            self.theta_vec = self.theta_vec - grad\n",
    "            \n",
    "            J=self.compute_cost(X,y,self.theta_vec)\n",
    "            self.J_history.append(J)\n",
    "            \n",
    "            if (self.J_history[i-1]-J<self.eps) and (i>0):\n",
    "                break\n",
    "            \n",
    "        \n",
    "    \n",
    "    def predict(self, X):\n",
    "        \"\"\"Return the predicted class label\"\"\"\n",
    "        # bias trick:\n",
    "        bias = np.ones((X.shape[0],1))\n",
    "        X = np.hstack((bias, X))\n",
    "        h_0 = 1/(1+np.exp(-1*(X @ self.theta_vec.T)))\n",
    "        h_0 = np.where(h_0>=0.5,1,0)\n",
    "        return h_0\n"
   ]
  },
  {
   "cell_type": "code",
   "execution_count": 7,
   "metadata": {},
   "outputs": [],
   "source": [
    "def compute_accuracy(testset, classifier):\n",
    "    \n",
    "    tp_tn_counter = 0\n",
    "    \n",
    "    prediction = classifier.predict(testset[:,:-1])\n",
    "    for inst, pred in zip(testset, prediction):\n",
    "        \n",
    "        if pred == inst[-1]:\n",
    "            tp_tn_counter +=1\n",
    "            \n",
    "    accuracy = tp_tn_counter/len(testset)\n",
    "    return accuracy"
   ]
  },
  {
   "cell_type": "code",
   "execution_count": 8,
   "metadata": {},
   "outputs": [
    {
     "name": "stdout",
     "output_type": "stream",
     "text": [
      "811\n"
     ]
    },
    {
     "data": {
      "text/plain": [
       "(array([0, 1]), array([1490,  510]))"
      ]
     },
     "execution_count": 8,
     "metadata": {},
     "output_type": "execute_result"
    }
   ],
   "source": [
    "# Tests:\n",
    "L = LogisticRegressionGD()\n",
    "L.fit(X_training,y_training)\n",
    "print(len(L.J_history))\n",
    "np.unique(L.predict(X_training), return_counts=True)"
   ]
  },
  {
   "cell_type": "code",
   "execution_count": 9,
   "metadata": {},
   "outputs": [
    {
     "data": {
      "text/plain": [
       "0.6495223341347297"
      ]
     },
     "execution_count": 9,
     "metadata": {},
     "output_type": "execute_result"
    }
   ],
   "source": [
    "L.J_history[-1]"
   ]
  },
  {
   "cell_type": "markdown",
   "metadata": {},
   "source": [
    "## Cross Validation\n",
    "\n",
    "(5 points)\n",
    "\n",
    "Use 5-fold cross validation in order to find the best eps and eta params from the given lists.\n",
    "\n",
    "Shuffle the training set before you split the data to the folds."
   ]
  },
  {
   "cell_type": "code",
   "execution_count": 10,
   "metadata": {},
   "outputs": [],
   "source": [
    "#Note! -  Need to validate this: "
   ]
  },
  {
   "cell_type": "code",
   "execution_count": 11,
   "metadata": {
    "scrolled": true
   },
   "outputs": [
    {
     "name": "stdout",
     "output_type": "stream",
     "text": [
      "CPU times: user 45.6 s, sys: 159 ms, total: 45.8 s\n",
      "Wall time: 46 s\n"
     ]
    }
   ],
   "source": [
    "%%time\n",
    "#### Your code here ####\n",
    "\n",
    "# Need to compare the accuracy result somwthing is weird......! \n",
    "\n",
    "etas = [0.05, 0.005, 0.0005, 0.00005, 0.000005]\n",
    "epss = [0.01, 0.001, 0.0001, 0.00001, 0.000001]\n",
    "\n",
    "np.random.seed(10)\n",
    "\n",
    "n_fold = 5\n",
    "data = training_set.values\n",
    "np.random.shuffle(data)\n",
    "split_data_list = np.vsplit(data,n_fold)\n",
    "\n",
    "best_acc=0\n",
    "best_eta=0\n",
    "best_eps=0\n",
    "\n",
    "\n",
    "for et in etas:\n",
    "    for ep in epss:\n",
    "        \n",
    "        acc_list_per_group = []\n",
    "        \n",
    "        for i, fold_data in enumerate(split_data_list):\n",
    "            \n",
    "            # Generating the train group:\n",
    "            k = int(data.shape[0]/n_fold)\n",
    "            train_data = np.concatenate((data[:k*(i),:], data[k*(i+1):,:]))\n",
    "            X_train, y_train = train_data[:,:-1], train_data[:,-1]\n",
    "            \n",
    "            # generating LogReg object:\n",
    "            logreg = LogisticRegressionGD(eta=et, eps=ep)\n",
    "            logreg.fit(X_train,y_train)\n",
    "            \n",
    "            # Generating the val gorup:\n",
    "            val_data = fold_data.copy()\n",
    "            acc = compute_accuracy(val_data,logreg)\n",
    "            acc_list_per_group.append(acc)\n",
    "            \n",
    "        mean_acc = np.mean(acc_list_per_group)\n",
    "        \n",
    "        # Chosing the best acc, ep and eta: \n",
    "        if mean_acc > best_acc:\n",
    "            best_acc = mean_acc\n",
    "            best_eta = et\n",
    "            best_eps = ep"
   ]
  },
  {
   "cell_type": "code",
   "execution_count": 12,
   "metadata": {},
   "outputs": [
    {
     "name": "stdout",
     "output_type": "stream",
     "text": [
      "The best accuracy:0.792, was recived with eta: 5e-05 and eps: 1e-06\n"
     ]
    }
   ],
   "source": [
    "print(f\"The best accuracy:{best_acc}, was recived with eta: {best_eta} and eps: {best_eps}\")"
   ]
  },
  {
   "cell_type": "markdown",
   "metadata": {},
   "source": [
    "## Normal distribution pdf\n",
    "\n",
    "(2 Points)\n",
    "\n",
    "Implement the normal distribution pdf \n",
    "$$\n",
    "f(x;\\mu,\\sigma) = \\frac{1}{\\sigma\\sqrt{2\\pi}}e^{-\\frac{1}{2}\\big{(}\\frac{x-\\mu}{\\sigma}\\big{)}^2}\n",
    "$$\n",
    "Write an efficient vectorized code"
   ]
  },
  {
   "cell_type": "code",
   "execution_count": 13,
   "metadata": {},
   "outputs": [],
   "source": [
    "#### Your code here ####\n",
    "# calc normal pdf    \n",
    "def norm_pdf(data, mu, sigma):\n",
    "    norm_pdf = (1 / (sigma * np.sqrt(2 * np.pi)))*np.exp(-0.5*(np.power(((data-mu)/sigma),2)))\n",
    "    return norm_pdf"
   ]
  },
  {
   "cell_type": "code",
   "execution_count": 14,
   "metadata": {},
   "outputs": [
    {
     "data": {
      "text/plain": [
       "array([-2.16861236,  5.2395884 ,  3.52881574, ...,  3.53623624,\n",
       "        5.19739529,  3.11352664])"
      ]
     },
     "execution_count": 14,
     "metadata": {},
     "output_type": "execute_result"
    }
   ],
   "source": [
    "# Tests:\n",
    "X_train[:,0]"
   ]
  },
  {
   "cell_type": "code",
   "execution_count": 15,
   "metadata": {},
   "outputs": [
    {
     "data": {
      "text/plain": [
       "array([0.09653556, 0.03401274, 0.06264522, ..., 0.06250946, 0.03462132,\n",
       "       0.07026292])"
      ]
     },
     "execution_count": 15,
     "metadata": {},
     "output_type": "execute_result"
    }
   ],
   "source": [
    "# Tests:\n",
    "norm_pdf(X_train[:,0],-0.32,3.63)"
   ]
  },
  {
   "cell_type": "markdown",
   "metadata": {},
   "source": [
    "## Expectation Maximization\n",
    "\n",
    "(15 Points)\n",
    "\n",
    "Implement the Expectation Maximization algorithm for gaussian mixture model.\n",
    "\n",
    "The class should hold the distribution params.\n",
    "\n",
    "Use -log likelihood as the cost function:\n",
    "$$\n",
    "cost(x) = \\sum_{d=1}^{m}-log(w * pdf(x; \\mu, \\sigma))\n",
    "$$\n",
    "\n",
    "\\* The above is the cost of one gaussian. Think how to use the cost function for gaussian mixture.\n",
    "\n",
    "Your class should contain the following functions:\n",
    "1. init_params - initialize distribution params\n",
    "1. expectation - calculating responsibilities\n",
    "1. maximization - updating distribution params\n",
    "1. fit - the learning function\n",
    "1. get_dist_params - return the distribution params\n",
    "\n",
    "\\* You can add more functions if you think this is necessary\n",
    "\n",
    "Don't change the eps params (eps=0.01)\n",
    "\n",
    "When you need to calculate the pdf of a normal distribution use the function `norm_pdf` that you implemented above."
   ]
  },
  {
   "cell_type": "code",
   "execution_count": 16,
   "metadata": {},
   "outputs": [
    {
     "data": {
      "text/plain": [
       "3.295428958371983"
      ]
     },
     "execution_count": 16,
     "metadata": {},
     "output_type": "execute_result"
    }
   ],
   "source": [
    "np.vsplit(X_train,2)[0].mean()"
   ]
  },
  {
   "cell_type": "code",
   "execution_count": 17,
   "metadata": {},
   "outputs": [
    {
     "data": {
      "text/plain": [
       "3.295428958371983"
      ]
     },
     "execution_count": 17,
     "metadata": {},
     "output_type": "execute_result"
    }
   ],
   "source": [
    "np.mean(np.vsplit(X_train,2)[0])"
   ]
  },
  {
   "cell_type": "code",
   "execution_count": 18,
   "metadata": {},
   "outputs": [
    {
     "data": {
      "text/plain": [
       "3.388991968632244"
      ]
     },
     "execution_count": 18,
     "metadata": {},
     "output_type": "execute_result"
    }
   ],
   "source": [
    "np.vsplit(X_train,2)[1].mean()"
   ]
  },
  {
   "cell_type": "code",
   "execution_count": 19,
   "metadata": {},
   "outputs": [],
   "source": [
    "class EM(object):\n",
    "    \"\"\"\n",
    "    Naive Bayes Classifier using Gauusian Mixture Model (EM) for calculating the likelihood.\n",
    "\n",
    "    Parameters\n",
    "    ------------\n",
    "    k : int\n",
    "      Number of gaussians in each dimension\n",
    "    n_iter : int\n",
    "      Passes over the training dataset in the EM proccess\n",
    "    eps: float\n",
    "      minimal change in the cost to declare convergence\n",
    "    random_state : int\n",
    "      Random number generator seed for random params initialization.\n",
    "    \"\"\"\n",
    "    \n",
    "    def __init__(self, k=1, n_iter=1000, eps=0.01, random_state=1):\n",
    "        self.k = k\n",
    "        self.n_iter = n_iter\n",
    "        self.eps = eps\n",
    "        self.mus = []\n",
    "        self.sigmas = []\n",
    "        self.weights = []\n",
    "        self.responsibilties = []\n",
    "        self.J_history = []\n",
    "        self.random_state = random_state\n",
    "\n",
    "        np.random.seed(self.random_state)\n",
    "\n",
    "    # initial guesses for parameters\n",
    "    def init_params(self, data):\n",
    "        \"\"\"\n",
    "        Initialize distribution params\n",
    "        \"\"\"\n",
    "        # weights generation:\n",
    "        self.weights = np.random.dirichlet(np.ones(self.k))\n",
    "        \n",
    "        # Need to make sure that data is per feature cause otherwise the calculation for the mean is not correct\n",
    "        # because it calculates for all the features.\n",
    "        # mus and sigmas initial guesses:\n",
    "        data_split = np.split(data,self.k)\n",
    "        for i in range(self.k):\n",
    "            self.mus.append(np.mean(data_split[i]))\n",
    "            self.sigmas.append(np.std(data_split[i]))        \n",
    "        \n",
    "        \n",
    "    def expectation(self, data):\n",
    "        \"\"\"\n",
    "        E step - calculating responsibilities\n",
    "        \"\"\"\n",
    "        probs = []\n",
    "        self.responsibilties = []\n",
    "\n",
    "        for i in range(self.k):\n",
    "            prob = self.weights[i]*norm_pdf(data, self.mus[i], self.sigmas[i])\n",
    "            probs.append(prob)\n",
    "            \n",
    "        sum_of_probs = sum(probs)\n",
    "        \n",
    "        for i in range(self.k): \n",
    "            self.responsibilties.append(probs[i]/sum_of_probs)\n",
    "\n",
    "\n",
    "    def maximization(self, data):\n",
    "        \"\"\"\n",
    "        M step - updating distribution params\n",
    "        \"\"\"\n",
    "        # Update weights:\n",
    "        number_of_values = data.shape[0]\n",
    "        for i in range(self.k):\n",
    "            self.weights[i] = np.sum(self.responsibilties[i])/number_of_values\n",
    "        \n",
    "        # Calculate the mu:\n",
    "        for i in range(self.k):\n",
    "            self.mus[i] = np.sum(self.responsibilties[i]*data)/(self.weights[i]*number_of_values)\n",
    "            \n",
    "        # Calculate the sigma:\n",
    "        for i in range(self.k):\n",
    "            sig = (data-self.mus[i])**2\n",
    "            self.sigmas[i] = np.sqrt(np.sum(self.responsibilties[i]*(sig)/(self.weights[i]*number_of_values))) \n",
    "    \n",
    "    def compute_cost(self,data):\n",
    "        \n",
    "        J = 0\n",
    "        for i in range(self.k):\n",
    "            norm = norm_pdf(data, self.mus[i], self.sigmas[i])\n",
    "            J += np.sum(-np.log(self.weights[i]*norm))\n",
    "                                     \n",
    "        return J\n",
    "        \n",
    "        \n",
    "\n",
    "    def fit(self, data):\n",
    "        \"\"\" \n",
    "        Fit training data (the learning phase).\n",
    "        Use init_params and then expectation and maximization function in order to find params \n",
    "        for the distribution. \n",
    "        Store the params in attributes of the EM object.\n",
    "        Stop the function when the difference between the previous cost and the current is less than eps\n",
    "        or when you reach n_iter.\n",
    "        \"\"\"\n",
    "        \n",
    "        self.init_params(data)\n",
    "        \n",
    "        for i in range(self.n_iter):\n",
    "            self.expectation(data)\n",
    "            self.maximization(data)\n",
    "                                     \n",
    "            J=self.compute_cost(data)\n",
    "            self.J_history.append(J)\n",
    "            \n",
    "            if (self.J_history[i-1]-J<self.eps) and (i>0):\n",
    "                break\n",
    "                                     \n",
    "\n",
    "    def get_dist_params(self):\n",
    "        return self.weights, self.mus, self.sigmas\n",
    "    "
   ]
  },
  {
   "cell_type": "code",
   "execution_count": 71,
   "metadata": {},
   "outputs": [
    {
     "name": "stdout",
     "output_type": "stream",
     "text": [
      "(array([1.]), [0.8446083154439268], [4.050886389300576])\n",
      "(array([1.]), [5.86406060844271], [2.593017165920511])\n",
      "(array([1.]), [0.8446083154439268], [4.050886389300576])\n",
      "(array([1.]), [5.86406060844271], [2.593017165920511])\n"
     ]
    }
   ],
   "source": [
    "# Tests:\n",
    "feature_1 = X_training[:,0]\n",
    "em = EM(k=1)\n",
    "em.fit(feature_1)\n",
    "for label in np.unique(y_training):\n",
    "    for i in range(X_training.shape[1]):\n",
    "        feature_i = X_training[:,i]\n",
    "        em = EM()\n",
    "        em.fit(feature_i)\n",
    "        print(em.get_dist_params())"
   ]
  },
  {
   "cell_type": "markdown",
   "metadata": {},
   "source": [
    "## Naive Bayes\n",
    "\n",
    "(15 Points)\n",
    "\n",
    "Implement the Naive Bayes algorithm.\n",
    "\n",
    "For calculating the likelihood use the EM algorithm that you implemented above to find the distribution params. With these params you can calculate the likelihood probability.\n",
    "\n",
    "Calculate the prior probability directly from the training set.\n",
    "\n",
    "Your class should contain the following functions:\n",
    "1. fit - the learning function\n",
    "1. predict - the function for predicting an instance (or instances) after the fit function was executed\n",
    "\n",
    "\\* You can add more functions if you think this is necessary\n"
   ]
  },
  {
   "cell_type": "code",
   "execution_count": 21,
   "metadata": {},
   "outputs": [
    {
     "name": "stdout",
     "output_type": "stream",
     "text": [
      "0\n",
      "1\n"
     ]
    }
   ],
   "source": [
    "for i in np.unique(y_test):\n",
    "    print(i)"
   ]
  },
  {
   "cell_type": "code",
   "execution_count": 82,
   "metadata": {},
   "outputs": [],
   "source": [
    "# Check this class. \n",
    "\n",
    "class NaiveBayesGaussian(object):\n",
    "    \"\"\"\n",
    "    Naive Bayes Classifier using Gauusian Mixture Model (EM) for calculating the likelihood.\n",
    "\n",
    "    Parameters\n",
    "    ------------\n",
    "    k : int\n",
    "      Number of gaussians in each dimension\n",
    "    random_state : int\n",
    "      Random number generator seed for random params initialization.\n",
    "    \"\"\"\n",
    "    \n",
    "    def __init__(self, k=1, random_state=1):\n",
    "        self.k = k\n",
    "        self.params = {}\n",
    "        self.em = EM(k=self.k)\n",
    "        self.random_state = random_state\n",
    "        np.random.seed(self.random_state)\n",
    "\n",
    "    def fit(self, X, y):\n",
    "        \"\"\" \n",
    "        Fit training data.\n",
    "\n",
    "        Parameters\n",
    "        ----------\n",
    "        X : array-like, shape = [n_examples, n_features]\n",
    "          Training vectors, where n_examples is the number of examples and\n",
    "          n_features is the number of features.\n",
    "        y : array-like, shape = [n_examples]\n",
    "          Target values.\n",
    "        \"\"\"\n",
    "        \n",
    "        for label in np.unique(y):\n",
    "            self.params[label] = {}\n",
    "            prior = len(y[y==label])/(y.shape[0])\n",
    "            self.params[label]['prior'] = prior\n",
    "            \n",
    "            weights = []\n",
    "            mus = []\n",
    "            stds = []\n",
    "            for i in range(X.shape[1]):\n",
    "                self.em.fit(X[:,i])\n",
    "                weight, mu, sigma = self.em.get_dist_params()\n",
    "                print(label)\n",
    "                print(mu)\n",
    "                weights.append(weight)\n",
    "                mus.append(mu)\n",
    "                stds.append(sigma)\n",
    "            \n",
    "            \n",
    "            self.params[label]['weights'] = weights\n",
    "            self.params[label]['mus'] = mus\n",
    "            self.params[label]['stds'] = stds\n",
    "\n",
    "    \n",
    "    def predict(self, X):\n",
    "        \"\"\"Return the predicted class label\"\"\"\n",
    "        labels = self.params.keys()\n",
    "        post = {}\n",
    "        pred = []\n",
    "        \n",
    "        for label in labels:\n",
    "            likelihood =1\n",
    "            for feature in range(X.shape[1]):\n",
    "                probs = np.zeros((self.k, len(X[:,feature])))\n",
    "                \n",
    "                for i in range(self.k):\n",
    "                    # calculating the mu, sigma and weights: \n",
    "                    weight = self.params[label]['weights'][feature][i]\n",
    "                    mu = self.params[label]['mus'][feature][i]\n",
    "                    sigma = self.params[label]['stds'][feature][i]\n",
    "                    \n",
    "                    probs[i]=weight*norm_pdf(X[:,feature], mu, sigma)\n",
    "                    \n",
    "                likelihood = likelihood*np.sum(probs, axis=0)\n",
    "                \n",
    "            post[label]= self.params[label]['prior']*likelihood\n",
    "        \n",
    "        for i in range(len(X)):\n",
    "            if post[0][i]>post[1][i]:\n",
    "                pred.append(0)\n",
    "            else:\n",
    "                pred.append(1)\n",
    "        return np.array(pred)        \n"
   ]
  },
  {
   "cell_type": "code",
   "execution_count": 83,
   "metadata": {},
   "outputs": [
    {
     "name": "stdout",
     "output_type": "stream",
     "text": [
      "0\n",
      "[0.8446083154439268]\n",
      "0\n",
      "[5.86406060844271, 5.86406060844271]\n",
      "1\n",
      "[0.8446083154439268, 5.86406060844271, 0.8446083154439268]\n",
      "1\n",
      "[5.86406060844271, 5.86406060844271, 0.8446083154439268, 5.86406060844271]\n"
     ]
    },
    {
     "data": {
      "text/plain": [
       "array([0])"
      ]
     },
     "execution_count": 83,
     "metadata": {},
     "output_type": "execute_result"
    }
   ],
   "source": [
    "nb = NaiveBayesGaussian()\n",
    "nb.fit(X_training, y_training)\n",
    "nb.predict(X_training)\n",
    "np.unique(nb.predict(X_training))"
   ]
  },
  {
   "cell_type": "code",
   "execution_count": null,
   "metadata": {},
   "outputs": [],
   "source": []
  },
  {
   "cell_type": "code",
   "execution_count": 84,
   "metadata": {},
   "outputs": [
    {
     "data": {
      "text/plain": [
       "{0: {'prior': 0.6,\n",
       "  'weights': [array([1.]), array([1.])],\n",
       "  'mus': [[5.86406060844271,\n",
       "    5.86406060844271,\n",
       "    0.8446083154439268,\n",
       "    5.86406060844271],\n",
       "   [5.86406060844271, 5.86406060844271, 0.8446083154439268, 5.86406060844271]],\n",
       "  'stds': [[2.593017165920511,\n",
       "    2.593017165920511,\n",
       "    4.050886389300575,\n",
       "    2.593017165920511],\n",
       "   [2.593017165920511,\n",
       "    2.593017165920511,\n",
       "    4.050886389300575,\n",
       "    2.593017165920511]]},\n",
       " 1: {'prior': 0.4,\n",
       "  'weights': [array([1.]), array([1.])],\n",
       "  'mus': [[5.86406060844271,\n",
       "    5.86406060844271,\n",
       "    0.8446083154439268,\n",
       "    5.86406060844271],\n",
       "   [5.86406060844271, 5.86406060844271, 0.8446083154439268, 5.86406060844271]],\n",
       "  'stds': [[2.593017165920511,\n",
       "    2.593017165920511,\n",
       "    4.050886389300575,\n",
       "    2.593017165920511],\n",
       "   [2.593017165920511,\n",
       "    2.593017165920511,\n",
       "    4.050886389300575,\n",
       "    2.593017165920511]]}}"
      ]
     },
     "execution_count": 84,
     "metadata": {},
     "output_type": "execute_result"
    }
   ],
   "source": [
    "nb.params"
   ]
  },
  {
   "cell_type": "code",
   "execution_count": null,
   "metadata": {},
   "outputs": [],
   "source": []
  },
  {
   "cell_type": "code",
   "execution_count": 191,
   "metadata": {
    "scrolled": true
   },
   "outputs": [
    {
     "data": {
      "text/plain": [
       "2"
      ]
     },
     "execution_count": 191,
     "metadata": {},
     "output_type": "execute_result"
    }
   ],
   "source": [
    "X_training.shape[1]"
   ]
  },
  {
   "cell_type": "code",
   "execution_count": 192,
   "metadata": {},
   "outputs": [
    {
     "data": {
      "text/plain": [
       "array([-1.38578869, -2.23690338, -2.3625238 , ...,  7.42420048,\n",
       "        6.67073987,  4.16906648])"
      ]
     },
     "execution_count": 192,
     "metadata": {},
     "output_type": "execute_result"
    }
   ],
   "source": [
    "X_training[:,0]"
   ]
  },
  {
   "cell_type": "code",
   "execution_count": 193,
   "metadata": {},
   "outputs": [
    {
     "data": {
      "text/plain": [
       "array([9.13146361, 5.56117803, 5.2159729 , ..., 1.77493117, 0.33570079,\n",
       "       1.64874303])"
      ]
     },
     "execution_count": 193,
     "metadata": {},
     "output_type": "execute_result"
    }
   ],
   "source": [
    "X_training[:,1]"
   ]
  },
  {
   "cell_type": "code",
   "execution_count": 194,
   "metadata": {},
   "outputs": [
    {
     "name": "stdout",
     "output_type": "stream",
     "text": [
      "0.6\n",
      "0.4\n"
     ]
    }
   ],
   "source": [
    "for i in np.unique(y_training):\n",
    "    print(len(y_training[y_training==i])/(y_training.shape[0]))"
   ]
  },
  {
   "cell_type": "code",
   "execution_count": 203,
   "metadata": {},
   "outputs": [
    {
     "data": {
      "text/plain": [
       "[array([1.]), array([1.])]"
      ]
     },
     "execution_count": 203,
     "metadata": {},
     "output_type": "execute_result"
    }
   ],
   "source": [
    "nb.params[0]['weights']"
   ]
  },
  {
   "cell_type": "code",
   "execution_count": 204,
   "metadata": {},
   "outputs": [
    {
     "data": {
      "text/plain": [
       "array([0])"
      ]
     },
     "execution_count": 204,
     "metadata": {},
     "output_type": "execute_result"
    }
   ],
   "source": [
    "np.unique(nb.predict(X_training))"
   ]
  },
  {
   "cell_type": "code",
   "execution_count": 197,
   "metadata": {},
   "outputs": [],
   "source": [
    "check_data = np.hstack((X_training, y_training.reshape(-1,1)))"
   ]
  },
  {
   "cell_type": "code",
   "execution_count": 199,
   "metadata": {},
   "outputs": [
    {
     "data": {
      "text/plain": [
       "0.6"
      ]
     },
     "execution_count": 199,
     "metadata": {},
     "output_type": "execute_result"
    }
   ],
   "source": [
    "len(check_data[check_data[:,-1]==0])/len(check_data)"
   ]
  },
  {
   "cell_type": "code",
   "execution_count": null,
   "metadata": {},
   "outputs": [],
   "source": []
  },
  {
   "cell_type": "markdown",
   "metadata": {},
   "source": [
    "## Model evaluation\n",
    "\n",
    "(20 points)\n",
    "\n",
    "In this section you will build 2 models and fit them to 2 datasets\n",
    "\n",
    "First 1000 training points and first 500 test points:\n",
    "1. Use the first 1000 points from the training set (take the first original 1000 points - before the shuffle) and the first 500 points from the test set.\n",
    "1. Fit Logistic Regression model with the best params you found earlier.\n",
    "1. Fit Naive Bayes model. Remember that you need to select the number of gaussians in the EM.\n",
    "1. Print the training and test accuracies for each model.\n",
    "1. Use the `plot_decision_regions` function to plot the decision boundaries for each model (for this you need to use the training set as the input)\n",
    "1. Plot the cost Vs the iteration number for the Logistic Regression model\n",
    "\n",
    "Use all the training set points:\n",
    "1. Repeat sections 2-6 for all the training set points\n",
    "1. Provide one or two sentences on each graph explaining what you observe in the graph.\n",
    "\n",
    "#### Don't forget to label your graphs ####"
   ]
  },
  {
   "cell_type": "code",
   "execution_count": null,
   "metadata": {},
   "outputs": [],
   "source": [
    "#### Your code here ####"
   ]
  },
  {
   "cell_type": "markdown",
   "metadata": {},
   "source": [
    "## Open question\n",
    "\n",
    "(20 points) \n",
    "\n",
    "1. In this homework we explored two types of models: Naive Bayes using EM, and Logistic regression.  \n",
    "   1. Generate a dataset, in 3 dimensions (3 features), with 2 classes, using **only** Multivariate-Gaussians (as many as you want) that you think **Naive Bayes will work better than Logisitc Regression**.\n",
    "   2. Generate another dataset, in 3 dimensions (3 features), with 2 classes, using **only** Multivariate-Gaussians (as many as you want) that you think **Logistic Regression will work better than Naive Bayes**.\n",
    "   \n",
    "   - Explain the reasoning behind each dataset.  \n",
    "\n",
    "2. Visualize the datasets.  \n",
    "   You can choose one of two options for the visualization:\n",
    "    1. Plot three 2d graphs of all the features against each other (feature1 vs feature2, feature1 vs feature3, feature2 vs feature3).\n",
    "    2. Plot one 3d graph.\n",
    "\n",
    "**Important Note**  \n",
    "For this question only, you may use:  \n",
    "```\n",
    "from scipy.stats import multivariate_normal\n",
    "```"
   ]
  },
  {
   "cell_type": "markdown",
   "metadata": {},
   "source": [
    "#### Your code and explanations here ####\n"
   ]
  },
  {
   "cell_type": "code",
   "execution_count": null,
   "metadata": {},
   "outputs": [],
   "source": []
  }
 ],
 "metadata": {
  "kernelspec": {
   "display_name": "Python 3",
   "language": "python",
   "name": "python3"
  },
  "language_info": {
   "codemirror_mode": {
    "name": "ipython",
    "version": 3
   },
   "file_extension": ".py",
   "mimetype": "text/x-python",
   "name": "python",
   "nbconvert_exporter": "python",
   "pygments_lexer": "ipython3",
   "version": "3.8.5"
  }
 },
 "nbformat": 4,
 "nbformat_minor": 4
}
