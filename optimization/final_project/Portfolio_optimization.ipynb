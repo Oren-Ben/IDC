{
 "cells": [
  {
   "cell_type": "code",
   "execution_count": null,
   "metadata": {},
   "outputs": [],
   "source": [
    "# REDUCE THE PROBLEM TO 10 ASSESTS\n",
    "# adterwards insert manualy the A array for both inequality constraints\n",
    "# make sure each constrint recive only x value \n",
    "# run the function. "
   ]
  },
  {
   "cell_type": "code",
   "execution_count": 1,
   "metadata": {},
   "outputs": [],
   "source": [
    "import numpy as np\n",
    "import pandas as pd\n",
    "import matplotlib.pyplot as plt\n",
    "from scipy import optimize "
   ]
  },
  {
   "cell_type": "code",
   "execution_count": 2,
   "metadata": {},
   "outputs": [],
   "source": [
    "df = pd.read_csv('data/all_stocks_5yr.csv')"
   ]
  },
  {
   "cell_type": "markdown",
   "metadata": {},
   "source": [
    "## First exploring: "
   ]
  },
  {
   "cell_type": "code",
   "execution_count": 3,
   "metadata": {},
   "outputs": [
    {
     "name": "stdout",
     "output_type": "stream",
     "text": [
      "(619040, 7)\n"
     ]
    },
    {
     "data": {
      "text/html": [
       "<div>\n",
       "<style scoped>\n",
       "    .dataframe tbody tr th:only-of-type {\n",
       "        vertical-align: middle;\n",
       "    }\n",
       "\n",
       "    .dataframe tbody tr th {\n",
       "        vertical-align: top;\n",
       "    }\n",
       "\n",
       "    .dataframe thead th {\n",
       "        text-align: right;\n",
       "    }\n",
       "</style>\n",
       "<table border=\"1\" class=\"dataframe\">\n",
       "  <thead>\n",
       "    <tr style=\"text-align: right;\">\n",
       "      <th></th>\n",
       "      <th>date</th>\n",
       "      <th>open</th>\n",
       "      <th>high</th>\n",
       "      <th>low</th>\n",
       "      <th>close</th>\n",
       "      <th>volume</th>\n",
       "      <th>Name</th>\n",
       "    </tr>\n",
       "  </thead>\n",
       "  <tbody>\n",
       "    <tr>\n",
       "      <th>0</th>\n",
       "      <td>2013-02-08</td>\n",
       "      <td>15.07</td>\n",
       "      <td>15.12</td>\n",
       "      <td>14.63</td>\n",
       "      <td>14.75</td>\n",
       "      <td>8407500</td>\n",
       "      <td>AAL</td>\n",
       "    </tr>\n",
       "    <tr>\n",
       "      <th>1</th>\n",
       "      <td>2013-02-11</td>\n",
       "      <td>14.89</td>\n",
       "      <td>15.01</td>\n",
       "      <td>14.26</td>\n",
       "      <td>14.46</td>\n",
       "      <td>8882000</td>\n",
       "      <td>AAL</td>\n",
       "    </tr>\n",
       "    <tr>\n",
       "      <th>2</th>\n",
       "      <td>2013-02-12</td>\n",
       "      <td>14.45</td>\n",
       "      <td>14.51</td>\n",
       "      <td>14.10</td>\n",
       "      <td>14.27</td>\n",
       "      <td>8126000</td>\n",
       "      <td>AAL</td>\n",
       "    </tr>\n",
       "    <tr>\n",
       "      <th>3</th>\n",
       "      <td>2013-02-13</td>\n",
       "      <td>14.30</td>\n",
       "      <td>14.94</td>\n",
       "      <td>14.25</td>\n",
       "      <td>14.66</td>\n",
       "      <td>10259500</td>\n",
       "      <td>AAL</td>\n",
       "    </tr>\n",
       "    <tr>\n",
       "      <th>4</th>\n",
       "      <td>2013-02-14</td>\n",
       "      <td>14.94</td>\n",
       "      <td>14.96</td>\n",
       "      <td>13.16</td>\n",
       "      <td>13.99</td>\n",
       "      <td>31879900</td>\n",
       "      <td>AAL</td>\n",
       "    </tr>\n",
       "  </tbody>\n",
       "</table>\n",
       "</div>"
      ],
      "text/plain": [
       "         date   open   high    low  close    volume Name\n",
       "0  2013-02-08  15.07  15.12  14.63  14.75   8407500  AAL\n",
       "1  2013-02-11  14.89  15.01  14.26  14.46   8882000  AAL\n",
       "2  2013-02-12  14.45  14.51  14.10  14.27   8126000  AAL\n",
       "3  2013-02-13  14.30  14.94  14.25  14.66  10259500  AAL\n",
       "4  2013-02-14  14.94  14.96  13.16  13.99  31879900  AAL"
      ]
     },
     "execution_count": 3,
     "metadata": {},
     "output_type": "execute_result"
    }
   ],
   "source": [
    "print(df.shape)\n",
    "\n",
    "df.head()"
   ]
  },
  {
   "cell_type": "code",
   "execution_count": 4,
   "metadata": {},
   "outputs": [
    {
     "data": {
      "text/html": [
       "<div>\n",
       "<style scoped>\n",
       "    .dataframe tbody tr th:only-of-type {\n",
       "        vertical-align: middle;\n",
       "    }\n",
       "\n",
       "    .dataframe tbody tr th {\n",
       "        vertical-align: top;\n",
       "    }\n",
       "\n",
       "    .dataframe thead th {\n",
       "        text-align: right;\n",
       "    }\n",
       "</style>\n",
       "<table border=\"1\" class=\"dataframe\">\n",
       "  <thead>\n",
       "    <tr style=\"text-align: right;\">\n",
       "      <th></th>\n",
       "      <th>open</th>\n",
       "      <th>high</th>\n",
       "      <th>low</th>\n",
       "      <th>close</th>\n",
       "      <th>volume</th>\n",
       "    </tr>\n",
       "  </thead>\n",
       "  <tbody>\n",
       "    <tr>\n",
       "      <th>count</th>\n",
       "      <td>619029.000000</td>\n",
       "      <td>619032.000000</td>\n",
       "      <td>619032.000000</td>\n",
       "      <td>619040.000000</td>\n",
       "      <td>6.190400e+05</td>\n",
       "    </tr>\n",
       "    <tr>\n",
       "      <th>mean</th>\n",
       "      <td>83.023334</td>\n",
       "      <td>83.778311</td>\n",
       "      <td>82.256096</td>\n",
       "      <td>83.043763</td>\n",
       "      <td>4.321823e+06</td>\n",
       "    </tr>\n",
       "    <tr>\n",
       "      <th>std</th>\n",
       "      <td>97.378769</td>\n",
       "      <td>98.207519</td>\n",
       "      <td>96.507421</td>\n",
       "      <td>97.389748</td>\n",
       "      <td>8.693610e+06</td>\n",
       "    </tr>\n",
       "    <tr>\n",
       "      <th>min</th>\n",
       "      <td>1.620000</td>\n",
       "      <td>1.690000</td>\n",
       "      <td>1.500000</td>\n",
       "      <td>1.590000</td>\n",
       "      <td>0.000000e+00</td>\n",
       "    </tr>\n",
       "    <tr>\n",
       "      <th>25%</th>\n",
       "      <td>40.220000</td>\n",
       "      <td>40.620000</td>\n",
       "      <td>39.830000</td>\n",
       "      <td>40.245000</td>\n",
       "      <td>1.070320e+06</td>\n",
       "    </tr>\n",
       "    <tr>\n",
       "      <th>50%</th>\n",
       "      <td>62.590000</td>\n",
       "      <td>63.150000</td>\n",
       "      <td>62.020000</td>\n",
       "      <td>62.620000</td>\n",
       "      <td>2.082094e+06</td>\n",
       "    </tr>\n",
       "    <tr>\n",
       "      <th>75%</th>\n",
       "      <td>94.370000</td>\n",
       "      <td>95.180000</td>\n",
       "      <td>93.540000</td>\n",
       "      <td>94.410000</td>\n",
       "      <td>4.284509e+06</td>\n",
       "    </tr>\n",
       "    <tr>\n",
       "      <th>max</th>\n",
       "      <td>2044.000000</td>\n",
       "      <td>2067.990000</td>\n",
       "      <td>2035.110000</td>\n",
       "      <td>2049.000000</td>\n",
       "      <td>6.182376e+08</td>\n",
       "    </tr>\n",
       "  </tbody>\n",
       "</table>\n",
       "</div>"
      ],
      "text/plain": [
       "                open           high            low          close  \\\n",
       "count  619029.000000  619032.000000  619032.000000  619040.000000   \n",
       "mean       83.023334      83.778311      82.256096      83.043763   \n",
       "std        97.378769      98.207519      96.507421      97.389748   \n",
       "min         1.620000       1.690000       1.500000       1.590000   \n",
       "25%        40.220000      40.620000      39.830000      40.245000   \n",
       "50%        62.590000      63.150000      62.020000      62.620000   \n",
       "75%        94.370000      95.180000      93.540000      94.410000   \n",
       "max      2044.000000    2067.990000    2035.110000    2049.000000   \n",
       "\n",
       "             volume  \n",
       "count  6.190400e+05  \n",
       "mean   4.321823e+06  \n",
       "std    8.693610e+06  \n",
       "min    0.000000e+00  \n",
       "25%    1.070320e+06  \n",
       "50%    2.082094e+06  \n",
       "75%    4.284509e+06  \n",
       "max    6.182376e+08  "
      ]
     },
     "execution_count": 4,
     "metadata": {},
     "output_type": "execute_result"
    }
   ],
   "source": [
    "df.describe()"
   ]
  },
  {
   "cell_type": "code",
   "execution_count": 5,
   "metadata": {
    "scrolled": false
   },
   "outputs": [
    {
     "data": {
      "text/plain": [
       "505"
      ]
     },
     "execution_count": 5,
     "metadata": {},
     "output_type": "execute_result"
    }
   ],
   "source": [
    "df['Name'].nunique()"
   ]
  },
  {
   "cell_type": "code",
   "execution_count": 6,
   "metadata": {},
   "outputs": [],
   "source": [
    "N = 100"
   ]
  },
  {
   "cell_type": "code",
   "execution_count": 7,
   "metadata": {
    "scrolled": true
   },
   "outputs": [],
   "source": [
    "# Choosing the top 100 assets based on mean volume:\n",
    "list_top_100_assets = df.groupby(['Name'])['volume'].mean().sort_values(ascending=False).head(N).reset_index()['Name'].tolist()\n"
   ]
  },
  {
   "cell_type": "code",
   "execution_count": 8,
   "metadata": {
    "scrolled": true
   },
   "outputs": [],
   "source": [
    "#list_top_100_assets"
   ]
  },
  {
   "cell_type": "code",
   "execution_count": 9,
   "metadata": {},
   "outputs": [],
   "source": [
    "df_top_100 = df[df['Name'].isin(list_top_100_assets)].reset_index(drop=True)"
   ]
  },
  {
   "cell_type": "code",
   "execution_count": 10,
   "metadata": {},
   "outputs": [
    {
     "data": {
      "text/html": [
       "<div>\n",
       "<style scoped>\n",
       "    .dataframe tbody tr th:only-of-type {\n",
       "        vertical-align: middle;\n",
       "    }\n",
       "\n",
       "    .dataframe tbody tr th {\n",
       "        vertical-align: top;\n",
       "    }\n",
       "\n",
       "    .dataframe thead th {\n",
       "        text-align: right;\n",
       "    }\n",
       "</style>\n",
       "<table border=\"1\" class=\"dataframe\">\n",
       "  <thead>\n",
       "    <tr style=\"text-align: right;\">\n",
       "      <th></th>\n",
       "      <th>date</th>\n",
       "      <th>open</th>\n",
       "      <th>high</th>\n",
       "      <th>low</th>\n",
       "      <th>close</th>\n",
       "      <th>volume</th>\n",
       "      <th>Name</th>\n",
       "    </tr>\n",
       "  </thead>\n",
       "  <tbody>\n",
       "    <tr>\n",
       "      <th>0</th>\n",
       "      <td>2013-02-08</td>\n",
       "      <td>15.07</td>\n",
       "      <td>15.12</td>\n",
       "      <td>14.63</td>\n",
       "      <td>14.75</td>\n",
       "      <td>8407500</td>\n",
       "      <td>AAL</td>\n",
       "    </tr>\n",
       "    <tr>\n",
       "      <th>1</th>\n",
       "      <td>2013-02-11</td>\n",
       "      <td>14.89</td>\n",
       "      <td>15.01</td>\n",
       "      <td>14.26</td>\n",
       "      <td>14.46</td>\n",
       "      <td>8882000</td>\n",
       "      <td>AAL</td>\n",
       "    </tr>\n",
       "    <tr>\n",
       "      <th>2</th>\n",
       "      <td>2013-02-12</td>\n",
       "      <td>14.45</td>\n",
       "      <td>14.51</td>\n",
       "      <td>14.10</td>\n",
       "      <td>14.27</td>\n",
       "      <td>8126000</td>\n",
       "      <td>AAL</td>\n",
       "    </tr>\n",
       "    <tr>\n",
       "      <th>3</th>\n",
       "      <td>2013-02-13</td>\n",
       "      <td>14.30</td>\n",
       "      <td>14.94</td>\n",
       "      <td>14.25</td>\n",
       "      <td>14.66</td>\n",
       "      <td>10259500</td>\n",
       "      <td>AAL</td>\n",
       "    </tr>\n",
       "    <tr>\n",
       "      <th>4</th>\n",
       "      <td>2013-02-14</td>\n",
       "      <td>14.94</td>\n",
       "      <td>14.96</td>\n",
       "      <td>13.16</td>\n",
       "      <td>13.99</td>\n",
       "      <td>31879900</td>\n",
       "      <td>AAL</td>\n",
       "    </tr>\n",
       "  </tbody>\n",
       "</table>\n",
       "</div>"
      ],
      "text/plain": [
       "         date   open   high    low  close    volume Name\n",
       "0  2013-02-08  15.07  15.12  14.63  14.75   8407500  AAL\n",
       "1  2013-02-11  14.89  15.01  14.26  14.46   8882000  AAL\n",
       "2  2013-02-12  14.45  14.51  14.10  14.27   8126000  AAL\n",
       "3  2013-02-13  14.30  14.94  14.25  14.66  10259500  AAL\n",
       "4  2013-02-14  14.94  14.96  13.16  13.99  31879900  AAL"
      ]
     },
     "execution_count": 10,
     "metadata": {},
     "output_type": "execute_result"
    }
   ],
   "source": [
    "df_top_100.head()"
   ]
  },
  {
   "cell_type": "code",
   "execution_count": 11,
   "metadata": {},
   "outputs": [
    {
     "data": {
      "text/plain": [
       "100"
      ]
     },
     "execution_count": 11,
     "metadata": {},
     "output_type": "execute_result"
    }
   ],
   "source": [
    "# Verifing that the data contains only 100 assests: \n",
    "df_top_100['Name'].nunique()"
   ]
  },
  {
   "cell_type": "code",
   "execution_count": 12,
   "metadata": {},
   "outputs": [],
   "source": [
    "# \"AAL\":{'beta':beta, 'return_stock':return value}"
   ]
  },
  {
   "cell_type": "code",
   "execution_count": 13,
   "metadata": {},
   "outputs": [],
   "source": [
    "# adding a column that contain the mean per day to detemine the market close per this day. \n",
    "df_top_100['market_close']=df_top_100.groupby('date')['close'].transform('mean')"
   ]
  },
  {
   "cell_type": "code",
   "execution_count": 14,
   "metadata": {},
   "outputs": [
    {
     "data": {
      "text/html": [
       "<div>\n",
       "<style scoped>\n",
       "    .dataframe tbody tr th:only-of-type {\n",
       "        vertical-align: middle;\n",
       "    }\n",
       "\n",
       "    .dataframe tbody tr th {\n",
       "        vertical-align: top;\n",
       "    }\n",
       "\n",
       "    .dataframe thead th {\n",
       "        text-align: right;\n",
       "    }\n",
       "</style>\n",
       "<table border=\"1\" class=\"dataframe\">\n",
       "  <thead>\n",
       "    <tr style=\"text-align: right;\">\n",
       "      <th></th>\n",
       "      <th>date</th>\n",
       "      <th>open</th>\n",
       "      <th>high</th>\n",
       "      <th>low</th>\n",
       "      <th>close</th>\n",
       "      <th>volume</th>\n",
       "      <th>Name</th>\n",
       "      <th>market_close</th>\n",
       "    </tr>\n",
       "  </thead>\n",
       "  <tbody>\n",
       "    <tr>\n",
       "      <th>0</th>\n",
       "      <td>2013-02-08</td>\n",
       "      <td>15.07</td>\n",
       "      <td>15.12</td>\n",
       "      <td>14.6300</td>\n",
       "      <td>14.75</td>\n",
       "      <td>8407500</td>\n",
       "      <td>AAL</td>\n",
       "      <td>34.107894</td>\n",
       "    </tr>\n",
       "    <tr>\n",
       "      <th>1</th>\n",
       "      <td>2013-02-11</td>\n",
       "      <td>14.89</td>\n",
       "      <td>15.01</td>\n",
       "      <td>14.2600</td>\n",
       "      <td>14.46</td>\n",
       "      <td>8882000</td>\n",
       "      <td>AAL</td>\n",
       "      <td>34.075976</td>\n",
       "    </tr>\n",
       "    <tr>\n",
       "      <th>2</th>\n",
       "      <td>2013-02-12</td>\n",
       "      <td>14.45</td>\n",
       "      <td>14.51</td>\n",
       "      <td>14.1000</td>\n",
       "      <td>14.27</td>\n",
       "      <td>8126000</td>\n",
       "      <td>AAL</td>\n",
       "      <td>34.168396</td>\n",
       "    </tr>\n",
       "    <tr>\n",
       "      <th>3</th>\n",
       "      <td>2013-02-13</td>\n",
       "      <td>14.30</td>\n",
       "      <td>14.94</td>\n",
       "      <td>14.2500</td>\n",
       "      <td>14.66</td>\n",
       "      <td>10259500</td>\n",
       "      <td>AAL</td>\n",
       "      <td>34.169845</td>\n",
       "    </tr>\n",
       "    <tr>\n",
       "      <th>4</th>\n",
       "      <td>2013-02-14</td>\n",
       "      <td>14.94</td>\n",
       "      <td>14.96</td>\n",
       "      <td>13.1600</td>\n",
       "      <td>13.99</td>\n",
       "      <td>31879900</td>\n",
       "      <td>AAL</td>\n",
       "      <td>34.144170</td>\n",
       "    </tr>\n",
       "    <tr>\n",
       "      <th>...</th>\n",
       "      <td>...</td>\n",
       "      <td>...</td>\n",
       "      <td>...</td>\n",
       "      <td>...</td>\n",
       "      <td>...</td>\n",
       "      <td>...</td>\n",
       "      <td>...</td>\n",
       "      <td>...</td>\n",
       "    </tr>\n",
       "    <tr>\n",
       "      <th>122320</th>\n",
       "      <td>2018-02-01</td>\n",
       "      <td>87.50</td>\n",
       "      <td>89.25</td>\n",
       "      <td>87.3500</td>\n",
       "      <td>89.07</td>\n",
       "      <td>17971012</td>\n",
       "      <td>XOM</td>\n",
       "      <td>62.705800</td>\n",
       "    </tr>\n",
       "    <tr>\n",
       "      <th>122321</th>\n",
       "      <td>2018-02-02</td>\n",
       "      <td>85.13</td>\n",
       "      <td>86.01</td>\n",
       "      <td>82.9978</td>\n",
       "      <td>84.53</td>\n",
       "      <td>29822144</td>\n",
       "      <td>XOM</td>\n",
       "      <td>61.241900</td>\n",
       "    </tr>\n",
       "    <tr>\n",
       "      <th>122322</th>\n",
       "      <td>2018-02-05</td>\n",
       "      <td>83.28</td>\n",
       "      <td>83.99</td>\n",
       "      <td>78.1300</td>\n",
       "      <td>79.72</td>\n",
       "      <td>30452693</td>\n",
       "      <td>XOM</td>\n",
       "      <td>58.534050</td>\n",
       "    </tr>\n",
       "    <tr>\n",
       "      <th>122323</th>\n",
       "      <td>2018-02-06</td>\n",
       "      <td>78.51</td>\n",
       "      <td>80.35</td>\n",
       "      <td>76.9000</td>\n",
       "      <td>78.35</td>\n",
       "      <td>36262761</td>\n",
       "      <td>XOM</td>\n",
       "      <td>59.817900</td>\n",
       "    </tr>\n",
       "    <tr>\n",
       "      <th>122324</th>\n",
       "      <td>2018-02-07</td>\n",
       "      <td>78.44</td>\n",
       "      <td>79.41</td>\n",
       "      <td>76.9200</td>\n",
       "      <td>76.94</td>\n",
       "      <td>21994450</td>\n",
       "      <td>XOM</td>\n",
       "      <td>59.565300</td>\n",
       "    </tr>\n",
       "  </tbody>\n",
       "</table>\n",
       "<p>122325 rows × 8 columns</p>\n",
       "</div>"
      ],
      "text/plain": [
       "              date   open   high      low  close    volume Name  market_close\n",
       "0       2013-02-08  15.07  15.12  14.6300  14.75   8407500  AAL     34.107894\n",
       "1       2013-02-11  14.89  15.01  14.2600  14.46   8882000  AAL     34.075976\n",
       "2       2013-02-12  14.45  14.51  14.1000  14.27   8126000  AAL     34.168396\n",
       "3       2013-02-13  14.30  14.94  14.2500  14.66  10259500  AAL     34.169845\n",
       "4       2013-02-14  14.94  14.96  13.1600  13.99  31879900  AAL     34.144170\n",
       "...            ...    ...    ...      ...    ...       ...  ...           ...\n",
       "122320  2018-02-01  87.50  89.25  87.3500  89.07  17971012  XOM     62.705800\n",
       "122321  2018-02-02  85.13  86.01  82.9978  84.53  29822144  XOM     61.241900\n",
       "122322  2018-02-05  83.28  83.99  78.1300  79.72  30452693  XOM     58.534050\n",
       "122323  2018-02-06  78.51  80.35  76.9000  78.35  36262761  XOM     59.817900\n",
       "122324  2018-02-07  78.44  79.41  76.9200  76.94  21994450  XOM     59.565300\n",
       "\n",
       "[122325 rows x 8 columns]"
      ]
     },
     "execution_count": 14,
     "metadata": {},
     "output_type": "execute_result"
    }
   ],
   "source": [
    "df_top_100"
   ]
  },
  {
   "cell_type": "code",
   "execution_count": 15,
   "metadata": {},
   "outputs": [],
   "source": [
    "df_1 = df_top_100[['date','close','Name']]"
   ]
  },
  {
   "cell_type": "code",
   "execution_count": 16,
   "metadata": {},
   "outputs": [],
   "source": [
    "df_2 = pd.DataFrame()\n",
    "df_2 = df_top_100[['date','market_close']].drop_duplicates()\n",
    "df_2['Name'] = 'market'\n",
    "df_2.rename(columns={'market_close':'close'},inplace=True)"
   ]
  },
  {
   "cell_type": "code",
   "execution_count": 17,
   "metadata": {},
   "outputs": [],
   "source": [
    "df_all = pd.concat([df_1,df_2])"
   ]
  },
  {
   "cell_type": "code",
   "execution_count": 18,
   "metadata": {},
   "outputs": [
    {
     "data": {
      "text/plain": [
       "101"
      ]
     },
     "execution_count": 18,
     "metadata": {},
     "output_type": "execute_result"
    }
   ],
   "source": [
    "df_all['Name'].nunique()"
   ]
  },
  {
   "cell_type": "code",
   "execution_count": 19,
   "metadata": {},
   "outputs": [],
   "source": [
    "df_all.rename(columns={'Name':'name'},inplace=True)\n",
    "df_all = df_all.reset_index(drop=True)\n",
    "df_all = df_all[['date','name','close']]"
   ]
  },
  {
   "cell_type": "code",
   "execution_count": 20,
   "metadata": {},
   "outputs": [],
   "source": [
    "data = df_all.pivot(index='date',columns='name',values='close')#.sort_values(by='date', ascending=False)"
   ]
  },
  {
   "cell_type": "code",
   "execution_count": 21,
   "metadata": {
    "scrolled": true
   },
   "outputs": [],
   "source": [
    "#data"
   ]
  },
  {
   "cell_type": "code",
   "execution_count": 23,
   "metadata": {},
   "outputs": [],
   "source": [
    "returns = (data/data.shift())-1\n",
    "#returns"
   ]
  },
  {
   "cell_type": "code",
   "execution_count": 24,
   "metadata": {},
   "outputs": [],
   "source": [
    "# calculation for beta:\n",
    "cov = returns.cov()\n",
    "var = returns['market'].var()"
   ]
  },
  {
   "cell_type": "code",
   "execution_count": null,
   "metadata": {},
   "outputs": [],
   "source": []
  },
  {
   "cell_type": "code",
   "execution_count": 25,
   "metadata": {},
   "outputs": [],
   "source": [
    "beta = cov/var"
   ]
  },
  {
   "cell_type": "code",
   "execution_count": 26,
   "metadata": {},
   "outputs": [
    {
     "data": {
      "text/html": [
       "<div>\n",
       "<style scoped>\n",
       "    .dataframe tbody tr th:only-of-type {\n",
       "        vertical-align: middle;\n",
       "    }\n",
       "\n",
       "    .dataframe tbody tr th {\n",
       "        vertical-align: top;\n",
       "    }\n",
       "\n",
       "    .dataframe thead th {\n",
       "        text-align: right;\n",
       "    }\n",
       "</style>\n",
       "<table border=\"1\" class=\"dataframe\">\n",
       "  <thead>\n",
       "    <tr style=\"text-align: right;\">\n",
       "      <th>name</th>\n",
       "      <th>AAL</th>\n",
       "      <th>AAPL</th>\n",
       "      <th>ABBV</th>\n",
       "      <th>ABT</th>\n",
       "      <th>AES</th>\n",
       "      <th>AIG</th>\n",
       "      <th>AMAT</th>\n",
       "      <th>AMD</th>\n",
       "      <th>ARNC</th>\n",
       "      <th>ATVI</th>\n",
       "      <th>...</th>\n",
       "      <th>V</th>\n",
       "      <th>VLO</th>\n",
       "      <th>VZ</th>\n",
       "      <th>WBA</th>\n",
       "      <th>WFC</th>\n",
       "      <th>WMB</th>\n",
       "      <th>WMT</th>\n",
       "      <th>WU</th>\n",
       "      <th>XOM</th>\n",
       "      <th>market</th>\n",
       "    </tr>\n",
       "    <tr>\n",
       "      <th>name</th>\n",
       "      <th></th>\n",
       "      <th></th>\n",
       "      <th></th>\n",
       "      <th></th>\n",
       "      <th></th>\n",
       "      <th></th>\n",
       "      <th></th>\n",
       "      <th></th>\n",
       "      <th></th>\n",
       "      <th></th>\n",
       "      <th></th>\n",
       "      <th></th>\n",
       "      <th></th>\n",
       "      <th></th>\n",
       "      <th></th>\n",
       "      <th></th>\n",
       "      <th></th>\n",
       "      <th></th>\n",
       "      <th></th>\n",
       "      <th></th>\n",
       "      <th></th>\n",
       "    </tr>\n",
       "  </thead>\n",
       "  <tbody>\n",
       "    <tr>\n",
       "      <th>AAL</th>\n",
       "      <td>7.431826</td>\n",
       "      <td>1.014209</td>\n",
       "      <td>1.256612</td>\n",
       "      <td>1.183731</td>\n",
       "      <td>0.999178</td>\n",
       "      <td>1.314003</td>\n",
       "      <td>1.847715</td>\n",
       "      <td>1.547542</td>\n",
       "      <td>2.122149</td>\n",
       "      <td>1.429104</td>\n",
       "      <td>...</td>\n",
       "      <td>1.443675</td>\n",
       "      <td>1.647406</td>\n",
       "      <td>0.589157</td>\n",
       "      <td>1.318253</td>\n",
       "      <td>1.331871</td>\n",
       "      <td>1.899674</td>\n",
       "      <td>0.626937</td>\n",
       "      <td>1.212076</td>\n",
       "      <td>0.638297</td>\n",
       "      <td>1.369293</td>\n",
       "    </tr>\n",
       "    <tr>\n",
       "      <th>AAPL</th>\n",
       "      <td>1.014209</td>\n",
       "      <td>3.138383</td>\n",
       "      <td>0.659508</td>\n",
       "      <td>0.705832</td>\n",
       "      <td>0.627705</td>\n",
       "      <td>0.814492</td>\n",
       "      <td>1.416043</td>\n",
       "      <td>1.521809</td>\n",
       "      <td>1.299941</td>\n",
       "      <td>1.178252</td>\n",
       "      <td>...</td>\n",
       "      <td>0.894127</td>\n",
       "      <td>0.864660</td>\n",
       "      <td>0.415884</td>\n",
       "      <td>0.764299</td>\n",
       "      <td>0.717059</td>\n",
       "      <td>1.362832</td>\n",
       "      <td>0.437141</td>\n",
       "      <td>0.769475</td>\n",
       "      <td>0.607898</td>\n",
       "      <td>0.880072</td>\n",
       "    </tr>\n",
       "    <tr>\n",
       "      <th>ABBV</th>\n",
       "      <td>1.256612</td>\n",
       "      <td>0.659508</td>\n",
       "      <td>4.187366</td>\n",
       "      <td>1.321152</td>\n",
       "      <td>0.851681</td>\n",
       "      <td>0.963635</td>\n",
       "      <td>1.212469</td>\n",
       "      <td>1.089881</td>\n",
       "      <td>1.089251</td>\n",
       "      <td>0.997606</td>\n",
       "      <td>...</td>\n",
       "      <td>0.983831</td>\n",
       "      <td>1.290963</td>\n",
       "      <td>0.575051</td>\n",
       "      <td>1.116817</td>\n",
       "      <td>0.996656</td>\n",
       "      <td>1.774325</td>\n",
       "      <td>0.525932</td>\n",
       "      <td>0.915982</td>\n",
       "      <td>0.812545</td>\n",
       "      <td>1.030664</td>\n",
       "    </tr>\n",
       "    <tr>\n",
       "      <th>ABT</th>\n",
       "      <td>1.183731</td>\n",
       "      <td>0.705832</td>\n",
       "      <td>1.321152</td>\n",
       "      <td>2.237585</td>\n",
       "      <td>0.881178</td>\n",
       "      <td>0.969509</td>\n",
       "      <td>1.121065</td>\n",
       "      <td>1.377815</td>\n",
       "      <td>1.167698</td>\n",
       "      <td>1.006621</td>\n",
       "      <td>...</td>\n",
       "      <td>1.058769</td>\n",
       "      <td>1.064817</td>\n",
       "      <td>0.636820</td>\n",
       "      <td>1.027508</td>\n",
       "      <td>1.000974</td>\n",
       "      <td>1.247276</td>\n",
       "      <td>0.631613</td>\n",
       "      <td>0.911345</td>\n",
       "      <td>0.734844</td>\n",
       "      <td>0.940310</td>\n",
       "    </tr>\n",
       "    <tr>\n",
       "      <th>AES</th>\n",
       "      <td>0.999178</td>\n",
       "      <td>0.627705</td>\n",
       "      <td>0.851681</td>\n",
       "      <td>0.881178</td>\n",
       "      <td>3.710526</td>\n",
       "      <td>0.918692</td>\n",
       "      <td>1.134641</td>\n",
       "      <td>1.604417</td>\n",
       "      <td>1.691995</td>\n",
       "      <td>1.016396</td>\n",
       "      <td>...</td>\n",
       "      <td>0.898669</td>\n",
       "      <td>1.101919</td>\n",
       "      <td>0.741979</td>\n",
       "      <td>0.889235</td>\n",
       "      <td>0.743012</td>\n",
       "      <td>2.297273</td>\n",
       "      <td>0.560844</td>\n",
       "      <td>0.953205</td>\n",
       "      <td>1.018535</td>\n",
       "      <td>0.931860</td>\n",
       "    </tr>\n",
       "    <tr>\n",
       "      <th>...</th>\n",
       "      <td>...</td>\n",
       "      <td>...</td>\n",
       "      <td>...</td>\n",
       "      <td>...</td>\n",
       "      <td>...</td>\n",
       "      <td>...</td>\n",
       "      <td>...</td>\n",
       "      <td>...</td>\n",
       "      <td>...</td>\n",
       "      <td>...</td>\n",
       "      <td>...</td>\n",
       "      <td>...</td>\n",
       "      <td>...</td>\n",
       "      <td>...</td>\n",
       "      <td>...</td>\n",
       "      <td>...</td>\n",
       "      <td>...</td>\n",
       "      <td>...</td>\n",
       "      <td>...</td>\n",
       "      <td>...</td>\n",
       "      <td>...</td>\n",
       "    </tr>\n",
       "    <tr>\n",
       "      <th>WMB</th>\n",
       "      <td>1.899674</td>\n",
       "      <td>1.362832</td>\n",
       "      <td>1.774325</td>\n",
       "      <td>1.247276</td>\n",
       "      <td>2.297273</td>\n",
       "      <td>1.519244</td>\n",
       "      <td>2.031827</td>\n",
       "      <td>2.505013</td>\n",
       "      <td>2.760734</td>\n",
       "      <td>1.577068</td>\n",
       "      <td>...</td>\n",
       "      <td>1.455126</td>\n",
       "      <td>2.452441</td>\n",
       "      <td>0.850176</td>\n",
       "      <td>1.209299</td>\n",
       "      <td>1.541541</td>\n",
       "      <td>12.876775</td>\n",
       "      <td>0.444106</td>\n",
       "      <td>1.636860</td>\n",
       "      <td>1.798275</td>\n",
       "      <td>1.644724</td>\n",
       "    </tr>\n",
       "    <tr>\n",
       "      <th>WMT</th>\n",
       "      <td>0.626937</td>\n",
       "      <td>0.437141</td>\n",
       "      <td>0.525932</td>\n",
       "      <td>0.631613</td>\n",
       "      <td>0.560844</td>\n",
       "      <td>0.462623</td>\n",
       "      <td>0.587556</td>\n",
       "      <td>0.500995</td>\n",
       "      <td>0.674705</td>\n",
       "      <td>0.434230</td>\n",
       "      <td>...</td>\n",
       "      <td>0.535029</td>\n",
       "      <td>0.538317</td>\n",
       "      <td>0.495140</td>\n",
       "      <td>0.700006</td>\n",
       "      <td>0.510307</td>\n",
       "      <td>0.444106</td>\n",
       "      <td>1.754636</td>\n",
       "      <td>0.578294</td>\n",
       "      <td>0.395796</td>\n",
       "      <td>0.550448</td>\n",
       "    </tr>\n",
       "    <tr>\n",
       "      <th>WU</th>\n",
       "      <td>1.212076</td>\n",
       "      <td>0.769475</td>\n",
       "      <td>0.915982</td>\n",
       "      <td>0.911345</td>\n",
       "      <td>0.953205</td>\n",
       "      <td>1.178912</td>\n",
       "      <td>1.212334</td>\n",
       "      <td>1.655975</td>\n",
       "      <td>1.505606</td>\n",
       "      <td>0.977046</td>\n",
       "      <td>...</td>\n",
       "      <td>1.104757</td>\n",
       "      <td>1.003246</td>\n",
       "      <td>0.615153</td>\n",
       "      <td>0.907147</td>\n",
       "      <td>1.070083</td>\n",
       "      <td>1.636860</td>\n",
       "      <td>0.578294</td>\n",
       "      <td>3.043964</td>\n",
       "      <td>0.780694</td>\n",
       "      <td>0.984163</td>\n",
       "    </tr>\n",
       "    <tr>\n",
       "      <th>XOM</th>\n",
       "      <td>0.638297</td>\n",
       "      <td>0.607898</td>\n",
       "      <td>0.812545</td>\n",
       "      <td>0.734844</td>\n",
       "      <td>1.018535</td>\n",
       "      <td>0.871779</td>\n",
       "      <td>0.843744</td>\n",
       "      <td>0.986480</td>\n",
       "      <td>1.422489</td>\n",
       "      <td>0.727368</td>\n",
       "      <td>...</td>\n",
       "      <td>0.736214</td>\n",
       "      <td>1.042302</td>\n",
       "      <td>0.602263</td>\n",
       "      <td>0.572174</td>\n",
       "      <td>0.936312</td>\n",
       "      <td>1.798275</td>\n",
       "      <td>0.395796</td>\n",
       "      <td>0.780694</td>\n",
       "      <td>1.791712</td>\n",
       "      <td>0.859924</td>\n",
       "    </tr>\n",
       "    <tr>\n",
       "      <th>market</th>\n",
       "      <td>1.369293</td>\n",
       "      <td>0.880072</td>\n",
       "      <td>1.030664</td>\n",
       "      <td>0.940310</td>\n",
       "      <td>0.931860</td>\n",
       "      <td>1.051080</td>\n",
       "      <td>1.243386</td>\n",
       "      <td>1.496518</td>\n",
       "      <td>1.431339</td>\n",
       "      <td>1.062656</td>\n",
       "      <td>...</td>\n",
       "      <td>1.020284</td>\n",
       "      <td>1.183805</td>\n",
       "      <td>0.580887</td>\n",
       "      <td>0.916384</td>\n",
       "      <td>1.039624</td>\n",
       "      <td>1.644724</td>\n",
       "      <td>0.550448</td>\n",
       "      <td>0.984163</td>\n",
       "      <td>0.859924</td>\n",
       "      <td>1.000000</td>\n",
       "    </tr>\n",
       "  </tbody>\n",
       "</table>\n",
       "<p>101 rows × 101 columns</p>\n",
       "</div>"
      ],
      "text/plain": [
       "name         AAL      AAPL      ABBV       ABT       AES       AIG      AMAT  \\\n",
       "name                                                                           \n",
       "AAL     7.431826  1.014209  1.256612  1.183731  0.999178  1.314003  1.847715   \n",
       "AAPL    1.014209  3.138383  0.659508  0.705832  0.627705  0.814492  1.416043   \n",
       "ABBV    1.256612  0.659508  4.187366  1.321152  0.851681  0.963635  1.212469   \n",
       "ABT     1.183731  0.705832  1.321152  2.237585  0.881178  0.969509  1.121065   \n",
       "AES     0.999178  0.627705  0.851681  0.881178  3.710526  0.918692  1.134641   \n",
       "...          ...       ...       ...       ...       ...       ...       ...   \n",
       "WMB     1.899674  1.362832  1.774325  1.247276  2.297273  1.519244  2.031827   \n",
       "WMT     0.626937  0.437141  0.525932  0.631613  0.560844  0.462623  0.587556   \n",
       "WU      1.212076  0.769475  0.915982  0.911345  0.953205  1.178912  1.212334   \n",
       "XOM     0.638297  0.607898  0.812545  0.734844  1.018535  0.871779  0.843744   \n",
       "market  1.369293  0.880072  1.030664  0.940310  0.931860  1.051080  1.243386   \n",
       "\n",
       "name         AMD      ARNC      ATVI  ...         V       VLO        VZ  \\\n",
       "name                                  ...                                 \n",
       "AAL     1.547542  2.122149  1.429104  ...  1.443675  1.647406  0.589157   \n",
       "AAPL    1.521809  1.299941  1.178252  ...  0.894127  0.864660  0.415884   \n",
       "ABBV    1.089881  1.089251  0.997606  ...  0.983831  1.290963  0.575051   \n",
       "ABT     1.377815  1.167698  1.006621  ...  1.058769  1.064817  0.636820   \n",
       "AES     1.604417  1.691995  1.016396  ...  0.898669  1.101919  0.741979   \n",
       "...          ...       ...       ...  ...       ...       ...       ...   \n",
       "WMB     2.505013  2.760734  1.577068  ...  1.455126  2.452441  0.850176   \n",
       "WMT     0.500995  0.674705  0.434230  ...  0.535029  0.538317  0.495140   \n",
       "WU      1.655975  1.505606  0.977046  ...  1.104757  1.003246  0.615153   \n",
       "XOM     0.986480  1.422489  0.727368  ...  0.736214  1.042302  0.602263   \n",
       "market  1.496518  1.431339  1.062656  ...  1.020284  1.183805  0.580887   \n",
       "\n",
       "name         WBA       WFC        WMB       WMT        WU       XOM    market  \n",
       "name                                                                           \n",
       "AAL     1.318253  1.331871   1.899674  0.626937  1.212076  0.638297  1.369293  \n",
       "AAPL    0.764299  0.717059   1.362832  0.437141  0.769475  0.607898  0.880072  \n",
       "ABBV    1.116817  0.996656   1.774325  0.525932  0.915982  0.812545  1.030664  \n",
       "ABT     1.027508  1.000974   1.247276  0.631613  0.911345  0.734844  0.940310  \n",
       "AES     0.889235  0.743012   2.297273  0.560844  0.953205  1.018535  0.931860  \n",
       "...          ...       ...        ...       ...       ...       ...       ...  \n",
       "WMB     1.209299  1.541541  12.876775  0.444106  1.636860  1.798275  1.644724  \n",
       "WMT     0.700006  0.510307   0.444106  1.754636  0.578294  0.395796  0.550448  \n",
       "WU      0.907147  1.070083   1.636860  0.578294  3.043964  0.780694  0.984163  \n",
       "XOM     0.572174  0.936312   1.798275  0.395796  0.780694  1.791712  0.859924  \n",
       "market  0.916384  1.039624   1.644724  0.550448  0.984163  0.859924  1.000000  \n",
       "\n",
       "[101 rows x 101 columns]"
      ]
     },
     "execution_count": 26,
     "metadata": {},
     "output_type": "execute_result"
    }
   ],
   "source": [
    "# only last row relevent: \n",
    "beta"
   ]
  },
  {
   "cell_type": "code",
   "execution_count": 27,
   "metadata": {},
   "outputs": [],
   "source": [
    "# Validating the beta using linear regression: \n",
    "# x=log_returns['market'].iloc[1:].to_numpy().reshape(-1,1)\n",
    "# y=log_returns['ABBV'].iloc[1:].to_numpy().reshape(-1,1)"
   ]
  },
  {
   "cell_type": "code",
   "execution_count": 28,
   "metadata": {},
   "outputs": [],
   "source": [
    "# linalg = LinearRegression()\n",
    "# linalg.fit(x,y)\n",
    "# linalg.coef_"
   ]
  },
  {
   "cell_type": "code",
   "execution_count": 29,
   "metadata": {},
   "outputs": [],
   "source": [
    "#log_returns = np.log(data/data.shift())"
   ]
  },
  {
   "cell_type": "code",
   "execution_count": 30,
   "metadata": {},
   "outputs": [],
   "source": [
    "df_beta = pd.DataFrame(beta.iloc[-1])"
   ]
  },
  {
   "cell_type": "code",
   "execution_count": 31,
   "metadata": {},
   "outputs": [],
   "source": [
    "df_beta.reset_index(inplace=True)\n",
    "df_beta = df_beta.rename(columns={'market':'beta'})"
   ]
  },
  {
   "cell_type": "code",
   "execution_count": 32,
   "metadata": {},
   "outputs": [],
   "source": [
    "df_beta = df_beta.iloc[:100]"
   ]
  },
  {
   "cell_type": "code",
   "execution_count": 33,
   "metadata": {},
   "outputs": [],
   "source": [
    "# determine the assets that are high voliatality: \n",
    "high_vol = df_beta[df_beta['beta']>1]['name'].tolist()"
   ]
  },
  {
   "cell_type": "code",
   "execution_count": 34,
   "metadata": {},
   "outputs": [
    {
     "data": {
      "text/plain": [
       "57"
      ]
     },
     "execution_count": 34,
     "metadata": {},
     "output_type": "execute_result"
    }
   ],
   "source": [
    "len(high_vol)"
   ]
  },
  {
   "cell_type": "code",
   "execution_count": 35,
   "metadata": {},
   "outputs": [],
   "source": [
    "# determine the assets that are low voliatality: \n",
    "low_vol = df_beta[df_beta['beta']<=1]['name'].tolist()"
   ]
  },
  {
   "cell_type": "code",
   "execution_count": 36,
   "metadata": {},
   "outputs": [
    {
     "data": {
      "text/plain": [
       "array([0, 1, 0, 1, 1, 0, 0, 0, 0, 0, 0, 0, 1, 1, 0, 0, 0, 0, 1, 0, 0, 1,\n",
       "       0, 1, 1, 0, 0, 0, 1, 1, 0, 1, 0, 0, 0, 0, 1, 1, 0, 0, 0, 0, 0, 1,\n",
       "       0, 0, 0, 1, 1, 1, 0, 0, 0, 1, 1, 1, 0, 1, 1, 1, 0, 0, 1, 0, 1, 0,\n",
       "       0, 1, 0, 0, 1, 0, 1, 0, 1, 1, 1, 0, 0, 1, 0, 1, 0, 0, 0, 1, 1, 1,\n",
       "       0, 0, 1, 0, 0, 1, 1, 0, 0, 1, 1, 1])"
      ]
     },
     "execution_count": 36,
     "metadata": {},
     "output_type": "execute_result"
    }
   ],
   "source": [
    "np.where(df_beta['beta']<=1,1,0)"
   ]
  },
  {
   "cell_type": "code",
   "execution_count": 37,
   "metadata": {},
   "outputs": [
    {
     "data": {
      "text/plain": [
       "43"
      ]
     },
     "execution_count": 37,
     "metadata": {},
     "output_type": "execute_result"
    }
   ],
   "source": [
    "len(low_vol)"
   ]
  },
  {
   "cell_type": "code",
   "execution_count": 38,
   "metadata": {},
   "outputs": [],
   "source": [
    "# len(high_vol)\n",
    "# len(low_vol)"
   ]
  },
  {
   "cell_type": "code",
   "execution_count": 39,
   "metadata": {},
   "outputs": [],
   "source": [
    "# calculating the mean for each asset: \n",
    "df_means = pd.DataFrame(np.mean(returns, axis=0))\n",
    "df_means.reset_index(inplace=True)\n",
    "df_means = df_means.rename(columns={0:'mean_return'})\n",
    "df_means = df_means.iloc[0:100]"
   ]
  },
  {
   "cell_type": "code",
   "execution_count": 40,
   "metadata": {},
   "outputs": [
    {
     "data": {
      "text/html": [
       "<div>\n",
       "<style scoped>\n",
       "    .dataframe tbody tr th:only-of-type {\n",
       "        vertical-align: middle;\n",
       "    }\n",
       "\n",
       "    .dataframe tbody tr th {\n",
       "        vertical-align: top;\n",
       "    }\n",
       "\n",
       "    .dataframe thead th {\n",
       "        text-align: right;\n",
       "    }\n",
       "</style>\n",
       "<table border=\"1\" class=\"dataframe\">\n",
       "  <thead>\n",
       "    <tr style=\"text-align: right;\">\n",
       "      <th></th>\n",
       "      <th>name</th>\n",
       "      <th>mean_return</th>\n",
       "    </tr>\n",
       "  </thead>\n",
       "  <tbody>\n",
       "    <tr>\n",
       "      <th>0</th>\n",
       "      <td>AAL</td>\n",
       "      <td>0.001245</td>\n",
       "    </tr>\n",
       "    <tr>\n",
       "      <th>1</th>\n",
       "      <td>AAPL</td>\n",
       "      <td>0.000786</td>\n",
       "    </tr>\n",
       "    <tr>\n",
       "      <th>2</th>\n",
       "      <td>ABBV</td>\n",
       "      <td>0.001050</td>\n",
       "    </tr>\n",
       "    <tr>\n",
       "      <th>3</th>\n",
       "      <td>ABT</td>\n",
       "      <td>0.000501</td>\n",
       "    </tr>\n",
       "    <tr>\n",
       "      <th>4</th>\n",
       "      <td>AES</td>\n",
       "      <td>0.000082</td>\n",
       "    </tr>\n",
       "  </tbody>\n",
       "</table>\n",
       "</div>"
      ],
      "text/plain": [
       "   name  mean_return\n",
       "0   AAL     0.001245\n",
       "1  AAPL     0.000786\n",
       "2  ABBV     0.001050\n",
       "3   ABT     0.000501\n",
       "4   AES     0.000082"
      ]
     },
     "execution_count": 40,
     "metadata": {},
     "output_type": "execute_result"
    }
   ],
   "source": [
    "df_means.head()"
   ]
  },
  {
   "cell_type": "code",
   "execution_count": 41,
   "metadata": {},
   "outputs": [],
   "source": [
    "# mean return:\n",
    "mean_return = np.mean(returns, axis=0).values[0:100]"
   ]
  },
  {
   "cell_type": "code",
   "execution_count": 42,
   "metadata": {},
   "outputs": [],
   "source": [
    "# cov return:\n",
    "cov_returns=cov.values[0:100,0:100]"
   ]
  },
  {
   "cell_type": "code",
   "execution_count": 59,
   "metadata": {},
   "outputs": [],
   "source": [
    "class Constraints():\n",
    "    \n",
    "    def __init__(self, w, df_beta):\n",
    "        self.w = w\n",
    "        self.df_beta = df_beta\n",
    "    \n",
    "    @staticmethod\n",
    "    def constraint_eq(self):\n",
    "        A=np.ones(self.w.shape)\n",
    "        b=1\n",
    "        const_val = A@self.w.T-b\n",
    "        return const_val\n",
    "    \n",
    "    def constraint_ineq_upper_bound(self):\n",
    "        A = [np.where(self.df_beta['beta']<=1,1,0), np.where(self.df_beta['beta']>1,0,1)]\n",
    "        upper_bound = np.array([0.6,0.4]).T\n",
    "        contraint_upper = upper_bound-(A@self.w.T)\n",
    "        return contraint_upper\n",
    "    \n",
    "    def constraint_ineq_lower_bound(self):\n",
    "        A = [np.where(self.df_beta['beta']<=1,1,0), np.where(self.df_beta['beta']>1,0,1)]\n",
    "        lower_bound = np.array([0.01,0.01]).T\n",
    "        contraint_lower = (A@self.w.T)-lower_bound\n",
    "        return contraint_lower\n",
    "    \n",
    "    def bound(self):\n",
    "        return self.df_beta['beta'].apply(lambda x: (0,1) if x<=1 else (0,0.1)).values\n",
    "        "
   ]
  },
  {
   "cell_type": "code",
   "execution_count": 60,
   "metadata": {},
   "outputs": [],
   "source": [
    "class ObjectiveFunction():\n",
    "\n",
    "    def __init__(self, w):\n",
    "        self.w = w\n",
    "\n",
    "    def f(self, mean_return, cov_return, gamma, portfolio_size):\n",
    "        port_var = (self.w@cov_return)@self.w.T\n",
    "        port_exp_return = np.array(mean_return)@self.w.T\n",
    "        obj_func = gamma*port_var-(1-gamma)*port_exp_return\n",
    "        return obj_func"
   ]
  },
  {
   "cell_type": "code",
   "execution_count": 61,
   "metadata": {},
   "outputs": [],
   "source": [
    "# # validation:\n",
    "# A=np.ones(w_init.shape)\n",
    "# b=1\n",
    "# A@w_init.T-b\n",
    "\n",
    "# A = [np.where(df_beta['beta']<=1,1,0), np.where(df_beta['beta']>1,0,1)]\n",
    "# upper_bound = np.array([0.6,0.4]).T\n",
    "# upper_bound-(A@w_init.T)\n",
    "\n",
    "# A = [np.where(df_beta['beta']<=1,1,0), np.where(df_beta['beta']>1,0,1)]\n",
    "# lower_bound = np.array([0.01,0.01]).T\n",
    "# (A@w_init.T)-lower_bound \n",
    "\n",
    "# obj_func.f(mean_return,cov_returns,gamma,portfolio_size)\n",
    "\n",
    "# # validation:\n",
    "# gamma =0.3\n",
    "# port_var = (w_init@cov_returns)@w_init.T\n",
    "# port_exp_return = np.array(mean_return)@w_init.T\n",
    "# gamma*port_var-(1-gamma)*port_exp_return"
   ]
  },
  {
   "cell_type": "code",
   "execution_count": 62,
   "metadata": {},
   "outputs": [],
   "source": [
    "#df_beta['beta_tuple'] = df_beta['beta'].apply(lambda x: (0,1) if x<=1 else (0,0.1))"
   ]
  },
  {
   "cell_type": "code",
   "execution_count": 63,
   "metadata": {},
   "outputs": [],
   "source": [
    "portfolio_size = df_beta.shape[0]"
   ]
  },
  {
   "cell_type": "code",
   "execution_count": 64,
   "metadata": {},
   "outputs": [],
   "source": [
    "# since this is the lower bound we will start by generating this weight for each asset:\n",
    "w_init=np.repeat(0.01, portfolio_size)\n",
    "# generating the cons class:\n",
    "constr = Constraints(w_init,df_beta)"
   ]
  },
  {
   "cell_type": "code",
   "execution_count": 65,
   "metadata": {},
   "outputs": [],
   "source": [
    "cons = ({'type': 'eq', 'fun':constr.constraint_eq},\n",
    "        {'type':'ineq', 'fun': constr.constraint_ineq_upper_bound},\n",
    "        {'type':'ineq', 'fun': constr.constraint_ineq_lower_bound})"
   ]
  },
  {
   "cell_type": "code",
   "execution_count": 66,
   "metadata": {},
   "outputs": [
    {
     "data": {
      "text/plain": [
       "({'type': 'eq', 'fun': <function __main__.Constraints.constraint_eq(self)>},\n",
       " {'type': 'ineq',\n",
       "  'fun': <bound method Constraints.constraint_ineq_upper_bound of <__main__.Constraints object at 0x7f9899a2fc10>>},\n",
       " {'type': 'ineq',\n",
       "  'fun': <bound method Constraints.constraint_ineq_lower_bound of <__main__.Constraints object at 0x7f9899a2fc10>>})"
      ]
     },
     "execution_count": 66,
     "metadata": {},
     "output_type": "execute_result"
    }
   ],
   "source": [
    "cons"
   ]
  },
  {
   "cell_type": "code",
   "execution_count": 67,
   "metadata": {},
   "outputs": [],
   "source": [
    "bnd = constr.bound()"
   ]
  },
  {
   "cell_type": "code",
   "execution_count": 68,
   "metadata": {},
   "outputs": [],
   "source": [
    "obj_func = ObjectiveFunction(w_init)"
   ]
  },
  {
   "cell_type": "code",
   "execution_count": 69,
   "metadata": {},
   "outputs": [],
   "source": [
    "#obj_func.f(mean_return,cov_returns,gamma,portfolio_size)"
   ]
  },
  {
   "cell_type": "code",
   "execution_count": 70,
   "metadata": {},
   "outputs": [],
   "source": [
    "# -----------------------------------------"
   ]
  },
  {
   "cell_type": "code",
   "execution_count": 92,
   "metadata": {},
   "outputs": [],
   "source": [
    "\n",
    "def bi_function_optimization(mean_return,cov_return, gamma, portfolio_size):\n",
    "    \n",
    "    \n",
    "    def f(w, mean_return, cov_return, gamma, portfolio_size):\n",
    "        port_var = (w@cov_return)@w.T\n",
    "        port_exp_return = np.array(mean_return)@w.T\n",
    "        obj_func = gamma*port_var-(1-gamma)*port_exp_return\n",
    "        return obj_func\n",
    "    \n",
    "    def constraint_eq(w):\n",
    "        A=np.ones(w.shape)\n",
    "        b=1\n",
    "        const_val = A@w.T-b\n",
    "        return const_val\n",
    "\n",
    "    def constraint_ineq_upper_bound(df_beta, w):\n",
    "        A = np.where(df_beta['beta']<=1,1,0) # , np.where(df_beta['beta']>1,0,1)]\n",
    "        upper_bound = 0.6 #np.array([0.6,0.4]).T\n",
    "        contraint_upper = upper_bound-(A@w.T)\n",
    "        return contraint_upper\n",
    "\n",
    "    def constraint_ineq_lower_bound(df_beta, w):\n",
    "        A = np.where(df_beta['beta']<=1,1,0)#, np.where(df_beta['beta']>1,0,1)]\n",
    "        lower_bound = 0.01 #np.array([0.01,0.01]).T\n",
    "        contraint_lower = (A@w.T)-lower_bound \n",
    "        return contraint_lower\n",
    "\n",
    "    bnd = tuple(df_beta['beta'].apply(lambda x: (0,1) if x<=1 else (0,0.1)).values)\n",
    "\n",
    "    w=np.repeat(0.01, portfolio_size)\n",
    "        \n",
    "    cons = ({'type': 'eq', 'fun':constraint_eq},\n",
    "        {'type':'ineq', 'fun': constraint_ineq_upper_bound},\n",
    "        {'type':'ineq', 'fun': constraint_ineq_lower_bound})\n",
    "    \n",
    "    \n",
    "    \n",
    "    obj_func = optimize.minimize(f, \n",
    "                                x0=w,\n",
    "                                args =(mean_return,cov_return, gamma, portfolio_size),\n",
    "                                method='SLSQP',\n",
    "                                bounds=bnd,\n",
    "                                constraints=cons,\n",
    "                                tol=10**-3)\n",
    "    \n",
    "    print(obj_func)\n",
    "    return obj_func\n",
    "    \n",
    "    "
   ]
  },
  {
   "cell_type": "code",
   "execution_count": null,
   "metadata": {},
   "outputs": [],
   "source": []
  },
  {
   "cell_type": "code",
   "execution_count": 93,
   "metadata": {},
   "outputs": [
    {
     "name": "stdout",
     "output_type": "stream",
     "text": [
      "     fun: -0.0005785587385458863\n",
      "     jac: array([-1.24536122e-03, -7.86196695e-04, -1.05022386e-03, -5.00546084e-04,\n",
      "       -8.24425151e-05, -4.38579336e-04, -1.16256914e-03, -1.88166254e-03,\n",
      "       -2.53368744e-04, -1.48056175e-03, -9.01188854e-04, -1.53554442e-03,\n",
      "       -5.41659821e-04, -1.10269676e-03, -5.61304798e-04, -4.72024323e-04,\n",
      "       -2.86285052e-04,  6.84405852e-04, -6.53848125e-04, -1.07748172e-04,\n",
      "       -1.44946331e-04, -6.00653802e-04, -8.32520447e-04,  5.28288489e-04,\n",
      "       -3.73980009e-04, -8.13023071e-05, -1.23783816e-03, -7.35607755e-04,\n",
      "       -5.84726484e-04, -5.46619609e-04, -1.17055075e-04, -2.06542849e-04,\n",
      "        5.27155134e-05, -1.66042167e-03, -2.69637530e-05, -6.36343910e-04,\n",
      "       -3.17825419e-04,  2.36585009e-04, -7.17664610e-04, -8.11083693e-04,\n",
      "       -4.28988460e-04, -3.34327138e-04, -7.28390987e-04, -8.96989819e-04,\n",
      "       -2.24272742e-04, -1.10063685e-03, -2.25947479e-04, -7.06364983e-04,\n",
      "       -4.81434567e-04, -2.84023721e-04, -7.51915031e-04, -7.48969782e-04,\n",
      "        4.35745940e-04, -1.50187829e-04, -6.93235314e-04, -8.38454376e-04,\n",
      "       -1.42870154e-03,  1.67219237e-04, -4.53604225e-04, -4.99703783e-04,\n",
      "       -3.08539784e-04, -9.47471679e-04, -5.73830475e-04, -6.14539073e-04,\n",
      "       -3.35461176e-04,  1.58693125e-04, -8.09951955e-04, -1.03887413e-03,\n",
      "       -1.71955744e-03, -4.99616544e-04, -1.62869015e-04, -2.21706968e-03,\n",
      "       -7.91851780e-04, -2.56265543e-03, -3.30036855e-04, -2.67583964e-04,\n",
      "       -1.01525933e-04, -5.10644539e-04, -1.25870953e-03, -1.09740569e-04,\n",
      "       -8.29181408e-04, -6.00233216e-04, -1.05162582e-03, -5.18470915e-06,\n",
      "       -6.97546304e-04, -2.66750612e-04, -8.69693249e-05, -2.30899524e-04,\n",
      "       -9.59369354e-04, -3.59307545e-04, -4.44298144e-04, -9.63363469e-04,\n",
      "       -7.00187455e-04, -1.65056990e-04, -5.54127379e-04, -4.70731327e-04,\n",
      "       -2.95141690e-04, -3.48593865e-04, -3.29825598e-04,  5.14529311e-05])\n",
      " message: 'Optimization terminated successfully'\n",
      "    nfev: 101\n",
      "     nit: 1\n",
      "    njev: 1\n",
      "  status: 0\n",
      " success: True\n",
      "       x: array([0.01, 0.01, 0.01, 0.01, 0.01, 0.01, 0.01, 0.01, 0.01, 0.01, 0.01,\n",
      "       0.01, 0.01, 0.01, 0.01, 0.01, 0.01, 0.01, 0.01, 0.01, 0.01, 0.01,\n",
      "       0.01, 0.01, 0.01, 0.01, 0.01, 0.01, 0.01, 0.01, 0.01, 0.01, 0.01,\n",
      "       0.01, 0.01, 0.01, 0.01, 0.01, 0.01, 0.01, 0.01, 0.01, 0.01, 0.01,\n",
      "       0.01, 0.01, 0.01, 0.01, 0.01, 0.01, 0.01, 0.01, 0.01, 0.01, 0.01,\n",
      "       0.01, 0.01, 0.01, 0.01, 0.01, 0.01, 0.01, 0.01, 0.01, 0.01, 0.01,\n",
      "       0.01, 0.01, 0.01, 0.01, 0.01, 0.01, 0.01, 0.01, 0.01, 0.01, 0.01,\n",
      "       0.01, 0.01, 0.01, 0.01, 0.01, 0.01, 0.01, 0.01, 0.01, 0.01, 0.01,\n",
      "       0.01, 0.01, 0.01, 0.01, 0.01, 0.01, 0.01, 0.01, 0.01, 0.01, 0.01,\n",
      "       0.01])\n"
     ]
    },
    {
     "ename": "AttributeError",
     "evalue": "w",
     "output_type": "error",
     "traceback": [
      "\u001b[0;31m---------------------------------------------------------------------------\u001b[0m",
      "\u001b[0;31mKeyError\u001b[0m                                  Traceback (most recent call last)",
      "\u001b[0;32m~/opt/anaconda3/envs/yb1/lib/python3.8/site-packages/scipy/optimize/optimize.py\u001b[0m in \u001b[0;36m__getattr__\u001b[0;34m(self, name)\u001b[0m\n\u001b[1;32m    121\u001b[0m         \u001b[0;32mtry\u001b[0m\u001b[0;34m:\u001b[0m\u001b[0;34m\u001b[0m\u001b[0;34m\u001b[0m\u001b[0m\n\u001b[0;32m--> 122\u001b[0;31m             \u001b[0;32mreturn\u001b[0m \u001b[0mself\u001b[0m\u001b[0;34m[\u001b[0m\u001b[0mname\u001b[0m\u001b[0;34m]\u001b[0m\u001b[0;34m\u001b[0m\u001b[0;34m\u001b[0m\u001b[0m\n\u001b[0m\u001b[1;32m    123\u001b[0m         \u001b[0;32mexcept\u001b[0m \u001b[0mKeyError\u001b[0m\u001b[0;34m:\u001b[0m\u001b[0;34m\u001b[0m\u001b[0;34m\u001b[0m\u001b[0m\n",
      "\u001b[0;31mKeyError\u001b[0m: 'w'",
      "\nDuring handling of the above exception, another exception occurred:\n",
      "\u001b[0;31mAttributeError\u001b[0m                            Traceback (most recent call last)",
      "\u001b[0;32m<ipython-input-93-914465439a9f>\u001b[0m in \u001b[0;36m<module>\u001b[0;34m\u001b[0m\n\u001b[1;32m      9\u001b[0m     \u001b[0mgama\u001b[0m \u001b[0;34m=\u001b[0m \u001b[0mpoints\u001b[0m\u001b[0;34m/\u001b[0m\u001b[0;36m60.0\u001b[0m\u001b[0;34m\u001b[0m\u001b[0;34m\u001b[0m\u001b[0m\n\u001b[1;32m     10\u001b[0m     \u001b[0mresult\u001b[0m \u001b[0;34m=\u001b[0m \u001b[0mbi_function_optimization\u001b[0m\u001b[0;34m(\u001b[0m\u001b[0mmean_return\u001b[0m\u001b[0;34m,\u001b[0m \u001b[0mcov_returns\u001b[0m\u001b[0;34m,\u001b[0m \u001b[0mgama\u001b[0m\u001b[0;34m,\u001b[0m\u001b[0mportfolioSize\u001b[0m\u001b[0;34m)\u001b[0m\u001b[0;34m\u001b[0m\u001b[0;34m\u001b[0m\u001b[0m\n\u001b[0;32m---> 11\u001b[0;31m     \u001b[0mxOptimal\u001b[0m\u001b[0;34m.\u001b[0m\u001b[0mappend\u001b[0m\u001b[0;34m(\u001b[0m\u001b[0mresult\u001b[0m\u001b[0;34m.\u001b[0m\u001b[0mw\u001b[0m\u001b[0;34m)\u001b[0m\u001b[0;34m\u001b[0m\u001b[0;34m\u001b[0m\u001b[0m\n\u001b[0m",
      "\u001b[0;32m~/opt/anaconda3/envs/yb1/lib/python3.8/site-packages/scipy/optimize/optimize.py\u001b[0m in \u001b[0;36m__getattr__\u001b[0;34m(self, name)\u001b[0m\n\u001b[1;32m    122\u001b[0m             \u001b[0;32mreturn\u001b[0m \u001b[0mself\u001b[0m\u001b[0;34m[\u001b[0m\u001b[0mname\u001b[0m\u001b[0;34m]\u001b[0m\u001b[0;34m\u001b[0m\u001b[0;34m\u001b[0m\u001b[0m\n\u001b[1;32m    123\u001b[0m         \u001b[0;32mexcept\u001b[0m \u001b[0mKeyError\u001b[0m\u001b[0;34m:\u001b[0m\u001b[0;34m\u001b[0m\u001b[0;34m\u001b[0m\u001b[0m\n\u001b[0;32m--> 124\u001b[0;31m             \u001b[0;32mraise\u001b[0m \u001b[0mAttributeError\u001b[0m\u001b[0;34m(\u001b[0m\u001b[0mname\u001b[0m\u001b[0;34m)\u001b[0m\u001b[0;34m\u001b[0m\u001b[0;34m\u001b[0m\u001b[0m\n\u001b[0m\u001b[1;32m    125\u001b[0m \u001b[0;34m\u001b[0m\u001b[0m\n\u001b[1;32m    126\u001b[0m     \u001b[0m__setattr__\u001b[0m \u001b[0;34m=\u001b[0m \u001b[0mdict\u001b[0m\u001b[0;34m.\u001b[0m\u001b[0m__setitem__\u001b[0m\u001b[0;34m\u001b[0m\u001b[0;34m\u001b[0m\u001b[0m\n",
      "\u001b[0;31mAttributeError\u001b[0m: w"
     ]
    }
   ],
   "source": [
    "portfolioSize = df_beta.shape[0]\n",
    "\n",
    "#initialization\n",
    "xOptimal =[]\n",
    "minRiskPoint = []\n",
    "expPortfolioReturnPoint =[]\n",
    "\n",
    "for points in range(0,60):\n",
    "    gama = points/60.0\n",
    "    result = bi_function_optimization(mean_return, cov_returns, gama,portfolioSize)\n",
    "    xOptimal.append(result.w)"
   ]
  },
  {
   "cell_type": "code",
   "execution_count": 77,
   "metadata": {},
   "outputs": [
    {
     "ename": "TypeError",
     "evalue": "constraint_ineq_upper_bound() missing 1 required positional argument: 'w'",
     "output_type": "error",
     "traceback": [
      "\u001b[0;31m---------------------------------------------------------------------------\u001b[0m",
      "\u001b[0;31mTypeError\u001b[0m                                 Traceback (most recent call last)",
      "\u001b[0;32m<ipython-input-77-0969550d26a8>\u001b[0m in \u001b[0;36m<module>\u001b[0;34m\u001b[0m\n\u001b[1;32m      3\u001b[0m \u001b[0;32mfor\u001b[0m \u001b[0mi\u001b[0m \u001b[0;32min\u001b[0m \u001b[0mrange\u001b[0m\u001b[0;34m(\u001b[0m\u001b[0;36m0\u001b[0m\u001b[0;34m,\u001b[0m\u001b[0;36m2\u001b[0m\u001b[0;34m)\u001b[0m\u001b[0;34m:\u001b[0m\u001b[0;34m\u001b[0m\u001b[0;34m\u001b[0m\u001b[0m\n\u001b[1;32m      4\u001b[0m     \u001b[0mgam\u001b[0m \u001b[0;34m=\u001b[0m \u001b[0mfloat\u001b[0m\u001b[0;34m(\u001b[0m\u001b[0mi\u001b[0m\u001b[0;34m/\u001b[0m\u001b[0;36m2\u001b[0m\u001b[0;34m)\u001b[0m\u001b[0;34m\u001b[0m\u001b[0;34m\u001b[0m\u001b[0m\n\u001b[0;32m----> 5\u001b[0;31m     obj_func = optimize.minimize(f(w_init,mean_return,cov_returns,gam,portfolio_size), \n\u001b[0m\u001b[1;32m      6\u001b[0m                                  \u001b[0mx0\u001b[0m\u001b[0;34m=\u001b[0m\u001b[0mw_init\u001b[0m\u001b[0;34m,\u001b[0m\u001b[0;34m\u001b[0m\u001b[0;34m\u001b[0m\u001b[0m\n\u001b[1;32m      7\u001b[0m                                  \u001b[0;31m#args=(mean_return,cov_returns,gamma,portfolio_size),\u001b[0m\u001b[0;34m\u001b[0m\u001b[0;34m\u001b[0m\u001b[0;34m\u001b[0m\u001b[0m\n",
      "\u001b[0;32m~/opt/anaconda3/envs/yb1/lib/python3.8/site-packages/scipy/optimize/_minimize.py\u001b[0m in \u001b[0;36mminimize\u001b[0;34m(fun, x0, args, method, jac, hess, hessp, bounds, constraints, tol, callback, options)\u001b[0m\n\u001b[1;32m    623\u001b[0m         \u001b[0;32mreturn\u001b[0m \u001b[0m_minimize_cobyla\u001b[0m\u001b[0;34m(\u001b[0m\u001b[0mfun\u001b[0m\u001b[0;34m,\u001b[0m \u001b[0mx0\u001b[0m\u001b[0;34m,\u001b[0m \u001b[0margs\u001b[0m\u001b[0;34m,\u001b[0m \u001b[0mconstraints\u001b[0m\u001b[0;34m,\u001b[0m \u001b[0;34m**\u001b[0m\u001b[0moptions\u001b[0m\u001b[0;34m)\u001b[0m\u001b[0;34m\u001b[0m\u001b[0;34m\u001b[0m\u001b[0m\n\u001b[1;32m    624\u001b[0m     \u001b[0;32melif\u001b[0m \u001b[0mmeth\u001b[0m \u001b[0;34m==\u001b[0m \u001b[0;34m'slsqp'\u001b[0m\u001b[0;34m:\u001b[0m\u001b[0;34m\u001b[0m\u001b[0;34m\u001b[0m\u001b[0m\n\u001b[0;32m--> 625\u001b[0;31m         return _minimize_slsqp(fun, x0, args, jac, bounds,\n\u001b[0m\u001b[1;32m    626\u001b[0m                                constraints, callback=callback, **options)\n\u001b[1;32m    627\u001b[0m     \u001b[0;32melif\u001b[0m \u001b[0mmeth\u001b[0m \u001b[0;34m==\u001b[0m \u001b[0;34m'trust-constr'\u001b[0m\u001b[0;34m:\u001b[0m\u001b[0;34m\u001b[0m\u001b[0;34m\u001b[0m\u001b[0m\n",
      "\u001b[0;32m~/opt/anaconda3/envs/yb1/lib/python3.8/site-packages/scipy/optimize/slsqp.py\u001b[0m in \u001b[0;36m_minimize_slsqp\u001b[0;34m(func, x0, args, jac, bounds, constraints, maxiter, ftol, iprint, disp, eps, callback, finite_diff_rel_step, **unknown_options)\u001b[0m\n\u001b[1;32m    322\u001b[0m     meq = sum(map(len, [atleast_1d(c['fun'](x, *c['args']))\n\u001b[1;32m    323\u001b[0m               for c in cons['eq']]))\n\u001b[0;32m--> 324\u001b[0;31m     mieq = sum(map(len, [atleast_1d(c['fun'](x, *c['args']))\n\u001b[0m\u001b[1;32m    325\u001b[0m                for c in cons['ineq']]))\n\u001b[1;32m    326\u001b[0m     \u001b[0;31m# m = The total number of constraints\u001b[0m\u001b[0;34m\u001b[0m\u001b[0;34m\u001b[0m\u001b[0;34m\u001b[0m\u001b[0m\n",
      "\u001b[0;32m~/opt/anaconda3/envs/yb1/lib/python3.8/site-packages/scipy/optimize/slsqp.py\u001b[0m in \u001b[0;36m<listcomp>\u001b[0;34m(.0)\u001b[0m\n\u001b[1;32m    322\u001b[0m     meq = sum(map(len, [atleast_1d(c['fun'](x, *c['args']))\n\u001b[1;32m    323\u001b[0m               for c in cons['eq']]))\n\u001b[0;32m--> 324\u001b[0;31m     mieq = sum(map(len, [atleast_1d(c['fun'](x, *c['args']))\n\u001b[0m\u001b[1;32m    325\u001b[0m                for c in cons['ineq']]))\n\u001b[1;32m    326\u001b[0m     \u001b[0;31m# m = The total number of constraints\u001b[0m\u001b[0;34m\u001b[0m\u001b[0;34m\u001b[0m\u001b[0;34m\u001b[0m\u001b[0m\n",
      "\u001b[0;31mTypeError\u001b[0m: constraint_ineq_upper_bound() missing 1 required positional argument: 'w'"
     ]
    }
   ],
   "source": [
    "gamma =0.3\n",
    "\n",
    "for i in range(0,2):\n",
    "    gam = float(i/2)\n",
    "    obj_func = optimize.minimize(f(w_init,mean_return,cov_returns,gam,portfolio_size), \n",
    "                                 x0=w_init, \n",
    "                                 #args=(mean_return,cov_returns,gamma,portfolio_size), \n",
    "                                 #method='SLSQP',\n",
    "                                 #bounds=tuple(bnd), #bnd.tolist(), \n",
    "                                 constraints=cons_1, \n",
    "                                 tol=10**-3)\n"
   ]
  },
  {
   "cell_type": "code",
   "execution_count": null,
   "metadata": {},
   "outputs": [],
   "source": []
  },
  {
   "cell_type": "code",
   "execution_count": null,
   "metadata": {},
   "outputs": [],
   "source": []
  },
  {
   "cell_type": "code",
   "execution_count": null,
   "metadata": {},
   "outputs": [],
   "source": []
  },
  {
   "cell_type": "code",
   "execution_count": null,
   "metadata": {},
   "outputs": [],
   "source": []
  },
  {
   "cell_type": "code",
   "execution_count": null,
   "metadata": {},
   "outputs": [],
   "source": []
  }
 ],
 "metadata": {
  "kernelspec": {
   "display_name": "Python 3",
   "language": "python",
   "name": "python3"
  },
  "language_info": {
   "codemirror_mode": {
    "name": "ipython",
    "version": 3
   },
   "file_extension": ".py",
   "mimetype": "text/x-python",
   "name": "python",
   "nbconvert_exporter": "python",
   "pygments_lexer": "ipython3",
   "version": "3.8.5"
  }
 },
 "nbformat": 4,
 "nbformat_minor": 4
}
