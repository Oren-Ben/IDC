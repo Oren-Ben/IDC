{
 "cells": [
  {
   "cell_type": "markdown",
   "metadata": {},
   "source": [
    "# Big Data Platform\n",
    "## Assignment 3: ServerLess"
   ]
  },
  {
   "cell_type": "markdown",
   "metadata": {},
   "source": [
    "**By:**  \n",
    "\n",
    "John Doe, 300123123  \n",
    "Jane Doe, 200123123\n",
    "\n",
    "<br><br>"
   ]
  },
  {
   "cell_type": "markdown",
   "metadata": {},
   "source": [
    "**The goal of this assignment is to:**\n",
    "- Understand and practice the details of Serverless\n",
    "\n",
    "**Instructions:**\n",
    "- Students will form teams of two people each, and submit a single homework for each team.\n",
    "- The same score for the homework will be given to each member of your team.\n",
    "- Your solution is in the form of a Jupyter notebook file (with extension ipynb).\n",
    "- Images/Graphs/Tables should be submitted inside the notebook.\n",
    "- The notebook should be runnable and properly documented. \n",
    "- Please answer all the questions and include all your code.\n",
    "- You are expected to submit a clear and pythonic code.\n",
    "- You can change functions signatures/definitions.\n",
    "\n",
    "**Submission:**\n",
    "- Submission of the homework will be done via Moodle by uploading (not Zip):\n",
    "    - Jupyter Notebook\n",
    "    - 2 Log files\n",
    "    - Additional local scripts\n",
    "- The homework needs to be entirely in English.\n",
    "- The deadline for submission is on Moodle.\n",
    "- Late submission won't be allowed.\n",
    "\n",
    "  \n",
    "- In case of identical code submissions - both groups will get a Zero. \n",
    "- Some groups might be selected randomly to present their code.\n",
    "\n",
    "**Requirements:**  \n",
    "- Python 3.6 should be used.  \n",
    "- You should implement the algorithms by yourself using only basic Python libraries (such as numpy,pandas,etc.)\n",
    "\n",
    "<br><br><br><br>"
   ]
  },
  {
   "cell_type": "markdown",
   "metadata": {},
   "source": [
    "**Grading:**\n",
    "- Q0 - 10 points - Setup\n",
    "- Q1 - 40 points - Serverless MapReduceEngine\n",
    "- Q2 - 20 points - MapReduce job to calculate inverted index\n",
    "- Q3 - 30 points - Shuffle\n",
    "\n",
    "`Total: 100`"
   ]
  },
  {
   "cell_type": "markdown",
   "metadata": {},
   "source": [
    "<br><br>"
   ]
  },
  {
   "cell_type": "markdown",
   "metadata": {},
   "source": [
    "# Question 0\n",
    "## Setup\n",
    "\n",
    "1. Navigate to IBM Cloud and open a trial account. No need to provide a credit card\n",
    "2. Choose IBM Cloud Object Storage service from the catalog\n",
    "3. Create a new bucket in IBM Cloud Object Storage\n",
    "4. Create credentials for the bucket with HMAC (access key and secret key)\n",
    "5. Choose IBM Cloud Functions service from the catalog and create a service\n",
    "\n",
    "\n",
    "#### Lithops setup\n",
    "1. By using “git” tool, install master branch of the Lithops project from\n",
    "https://github.com/lithops-cloud/lithops\n",
    "2. Follow Lithops documentation and configure Lithops against IBM Cloud Functions and IBM Cloud Object Storage\n",
    "3. Configure Lithops log level to be in DEBUG mode\n",
    "4. Run Hello World example by using Futures API and verify all is working properly.\n",
    "\n",
    "\n",
    "#### IBM Cloud Object Storage setup\n",
    "1. Upload all the input CSV files that you used in homework 2 into the bucket you created in IBM Cloud Object Storage\n",
    "\n",
    "\n",
    "<br><br><br>"
   ]
  },
  {
   "cell_type": "code",
   "execution_count": 1,
   "metadata": {},
   "outputs": [
    {
     "name": "stdout",
     "output_type": "stream",
     "text": [
      "Collecting git+https://github.com/lithops-cloud/lithops.git\n",
      "  Cloning https://github.com/lithops-cloud/lithops.git to /private/var/folders/lg/pbb4ypp52kx1shc2q76nnnlc0000gn/T/pip-req-build-rm8ibuza\n",
      "Requirement already satisfied (use --upgrade to upgrade): lithops==2.5.9.dev0 from git+https://github.com/lithops-cloud/lithops.git in /Users/ah11500/opt/anaconda3/envs/yb1/lib/python3.8/site-packages\n",
      "Requirement already satisfied: Click in /Users/ah11500/opt/anaconda3/envs/yb1/lib/python3.8/site-packages (from lithops==2.5.9.dev0) (7.1.2)\n",
      "Requirement already satisfied: pandas in /Users/ah11500/opt/anaconda3/envs/yb1/lib/python3.8/site-packages (from lithops==2.5.9.dev0) (1.1.3)\n",
      "Requirement already satisfied: PyYAML in /Users/ah11500/opt/anaconda3/envs/yb1/lib/python3.8/site-packages (from lithops==2.5.9.dev0) (5.3.1)\n",
      "Requirement already satisfied: python-dateutil in /Users/ah11500/opt/anaconda3/envs/yb1/lib/python3.8/site-packages (from lithops==2.5.9.dev0) (2.8.1)\n",
      "Requirement already satisfied: pika in /Users/ah11500/opt/anaconda3/envs/yb1/lib/python3.8/site-packages (from lithops==2.5.9.dev0) (1.2.0)\n",
      "Requirement already satisfied: tqdm in /Users/ah11500/opt/anaconda3/envs/yb1/lib/python3.8/site-packages (from lithops==2.5.9.dev0) (4.50.2)\n",
      "Requirement already satisfied: lxml in /Users/ah11500/opt/anaconda3/envs/yb1/lib/python3.8/site-packages (from lithops==2.5.9.dev0) (4.6.1)\n",
      "Requirement already satisfied: tblib in /Users/ah11500/opt/anaconda3/envs/yb1/lib/python3.8/site-packages (from lithops==2.5.9.dev0) (1.7.0)\n",
      "Requirement already satisfied: docker in /Users/ah11500/opt/anaconda3/envs/yb1/lib/python3.8/site-packages (from lithops==2.5.9.dev0) (5.0.3)\n",
      "Requirement already satisfied: requests in /Users/ah11500/opt/anaconda3/envs/yb1/lib/python3.8/site-packages (from lithops==2.5.9.dev0) (2.24.0)\n",
      "Requirement already satisfied: seaborn in /Users/ah11500/opt/anaconda3/envs/yb1/lib/python3.8/site-packages (from lithops==2.5.9.dev0) (0.11.0)\n",
      "Requirement already satisfied: paramiko in /Users/ah11500/opt/anaconda3/envs/yb1/lib/python3.8/site-packages (from lithops==2.5.9.dev0) (2.9.1)\n",
      "Requirement already satisfied: matplotlib in /Users/ah11500/opt/anaconda3/envs/yb1/lib/python3.8/site-packages (from lithops==2.5.9.dev0) (3.3.2)\n",
      "Requirement already satisfied: kubernetes in /Users/ah11500/opt/anaconda3/envs/yb1/lib/python3.8/site-packages (from lithops==2.5.9.dev0) (21.7.0)\n",
      "Requirement already satisfied: ibm-cos-sdk in /Users/ah11500/opt/anaconda3/envs/yb1/lib/python3.8/site-packages (from lithops==2.5.9.dev0) (2.11.0)\n",
      "Requirement already satisfied: redis in /Users/ah11500/opt/anaconda3/envs/yb1/lib/python3.8/site-packages (from lithops==2.5.9.dev0) (4.1.0)\n",
      "Requirement already satisfied: ibm-vpc in /Users/ah11500/opt/anaconda3/envs/yb1/lib/python3.8/site-packages (from lithops==2.5.9.dev0) (0.9.0)\n",
      "Requirement already satisfied: cloudpickle in /Users/ah11500/opt/anaconda3/envs/yb1/lib/python3.8/site-packages (from lithops==2.5.9.dev0) (1.6.0)\n",
      "Requirement already satisfied: ps-mem in /Users/ah11500/opt/anaconda3/envs/yb1/lib/python3.8/site-packages (from lithops==2.5.9.dev0) (3.12)\n",
      "Requirement already satisfied: numpy>=1.15.4 in /Users/ah11500/opt/anaconda3/envs/yb1/lib/python3.8/site-packages (from pandas->lithops==2.5.9.dev0) (1.19.2)\n",
      "Requirement already satisfied: pytz>=2017.2 in /Users/ah11500/opt/anaconda3/envs/yb1/lib/python3.8/site-packages (from pandas->lithops==2.5.9.dev0) (2020.1)\n",
      "Requirement already satisfied: six>=1.5 in /Users/ah11500/opt/anaconda3/envs/yb1/lib/python3.8/site-packages (from python-dateutil->lithops==2.5.9.dev0) (1.15.0)\n",
      "Requirement already satisfied: websocket-client>=0.32.0 in /Users/ah11500/opt/anaconda3/envs/yb1/lib/python3.8/site-packages (from docker->lithops==2.5.9.dev0) (1.2.3)\n",
      "Requirement already satisfied: chardet<4,>=3.0.2 in /Users/ah11500/opt/anaconda3/envs/yb1/lib/python3.8/site-packages (from requests->lithops==2.5.9.dev0) (3.0.4)\n",
      "Requirement already satisfied: urllib3!=1.25.0,!=1.25.1,<1.26,>=1.21.1 in /Users/ah11500/opt/anaconda3/envs/yb1/lib/python3.8/site-packages (from requests->lithops==2.5.9.dev0) (1.25.11)\n",
      "Requirement already satisfied: certifi>=2017.4.17 in /Users/ah11500/opt/anaconda3/envs/yb1/lib/python3.8/site-packages (from requests->lithops==2.5.9.dev0) (2020.6.20)\n",
      "Requirement already satisfied: idna<3,>=2.5 in /Users/ah11500/opt/anaconda3/envs/yb1/lib/python3.8/site-packages (from requests->lithops==2.5.9.dev0) (2.10)\n",
      "Requirement already satisfied: scipy>=1.0 in /Users/ah11500/opt/anaconda3/envs/yb1/lib/python3.8/site-packages (from seaborn->lithops==2.5.9.dev0) (1.5.2)\n",
      "Requirement already satisfied: cryptography>=2.5 in /Users/ah11500/opt/anaconda3/envs/yb1/lib/python3.8/site-packages (from paramiko->lithops==2.5.9.dev0) (3.1.1)\n",
      "Requirement already satisfied: bcrypt>=3.1.3 in /Users/ah11500/opt/anaconda3/envs/yb1/lib/python3.8/site-packages (from paramiko->lithops==2.5.9.dev0) (3.2.0)\n",
      "Requirement already satisfied: pynacl>=1.0.1 in /Users/ah11500/opt/anaconda3/envs/yb1/lib/python3.8/site-packages (from paramiko->lithops==2.5.9.dev0) (1.4.0)\n",
      "Requirement already satisfied: kiwisolver>=1.0.1 in /Users/ah11500/opt/anaconda3/envs/yb1/lib/python3.8/site-packages (from matplotlib->lithops==2.5.9.dev0) (1.3.0)\n",
      "Requirement already satisfied: pyparsing!=2.0.4,!=2.1.2,!=2.1.6,>=2.0.3 in /Users/ah11500/opt/anaconda3/envs/yb1/lib/python3.8/site-packages (from matplotlib->lithops==2.5.9.dev0) (2.4.7)\n",
      "Requirement already satisfied: pillow>=6.2.0 in /Users/ah11500/opt/anaconda3/envs/yb1/lib/python3.8/site-packages (from matplotlib->lithops==2.5.9.dev0) (8.0.1)\n",
      "Requirement already satisfied: cycler>=0.10 in /Users/ah11500/opt/anaconda3/envs/yb1/lib/python3.8/site-packages (from matplotlib->lithops==2.5.9.dev0) (0.10.0)\n",
      "Requirement already satisfied: google-auth>=1.0.1 in /Users/ah11500/opt/anaconda3/envs/yb1/lib/python3.8/site-packages (from kubernetes->lithops==2.5.9.dev0) (2.3.3)\n",
      "Requirement already satisfied: requests-oauthlib in /Users/ah11500/opt/anaconda3/envs/yb1/lib/python3.8/site-packages (from kubernetes->lithops==2.5.9.dev0) (1.3.0)\n",
      "Requirement already satisfied: setuptools>=21.0.0 in /Users/ah11500/opt/anaconda3/envs/yb1/lib/python3.8/site-packages (from kubernetes->lithops==2.5.9.dev0) (50.3.1.post20201107)\n",
      "Requirement already satisfied: ibm-cos-sdk-core==2.11.0 in /Users/ah11500/opt/anaconda3/envs/yb1/lib/python3.8/site-packages (from ibm-cos-sdk->lithops==2.5.9.dev0) (2.11.0)\n",
      "Requirement already satisfied: jmespath<1.0.0,>=0.7.1 in /Users/ah11500/opt/anaconda3/envs/yb1/lib/python3.8/site-packages (from ibm-cos-sdk->lithops==2.5.9.dev0) (0.10.0)\n",
      "Requirement already satisfied: ibm-cos-sdk-s3transfer==2.11.0 in /Users/ah11500/opt/anaconda3/envs/yb1/lib/python3.8/site-packages (from ibm-cos-sdk->lithops==2.5.9.dev0) (2.11.0)\n",
      "Requirement already satisfied: deprecated>=1.2.3 in /Users/ah11500/opt/anaconda3/envs/yb1/lib/python3.8/site-packages (from redis->lithops==2.5.9.dev0) (1.2.13)\n",
      "Requirement already satisfied: packaging>=21.3 in /Users/ah11500/opt/anaconda3/envs/yb1/lib/python3.8/site-packages (from redis->lithops==2.5.9.dev0) (21.3)\n",
      "Requirement already satisfied: ibm-cloud-sdk-core>=3.13.2 in /Users/ah11500/opt/anaconda3/envs/yb1/lib/python3.8/site-packages (from ibm-vpc->lithops==2.5.9.dev0) (3.13.2)\n",
      "Requirement already satisfied: cffi!=1.11.3,>=1.8 in /Users/ah11500/opt/anaconda3/envs/yb1/lib/python3.8/site-packages (from cryptography>=2.5->paramiko->lithops==2.5.9.dev0) (1.14.3)\n",
      "Requirement already satisfied: rsa<5,>=3.1.4; python_version >= \"3.6\" in /Users/ah11500/opt/anaconda3/envs/yb1/lib/python3.8/site-packages (from google-auth>=1.0.1->kubernetes->lithops==2.5.9.dev0) (4.8)\n",
      "Requirement already satisfied: cachetools<5.0,>=2.0.0 in /Users/ah11500/opt/anaconda3/envs/yb1/lib/python3.8/site-packages (from google-auth>=1.0.1->kubernetes->lithops==2.5.9.dev0) (4.2.4)\n",
      "Requirement already satisfied: pyasn1-modules>=0.2.1 in /Users/ah11500/opt/anaconda3/envs/yb1/lib/python3.8/site-packages (from google-auth>=1.0.1->kubernetes->lithops==2.5.9.dev0) (0.2.8)\n",
      "Requirement already satisfied: oauthlib>=3.0.0 in /Users/ah11500/opt/anaconda3/envs/yb1/lib/python3.8/site-packages (from requests-oauthlib->kubernetes->lithops==2.5.9.dev0) (3.1.1)\n",
      "Requirement already satisfied: wrapt<2,>=1.10 in /Users/ah11500/opt/anaconda3/envs/yb1/lib/python3.8/site-packages (from deprecated>=1.2.3->redis->lithops==2.5.9.dev0) (1.11.2)\n"
     ]
    },
    {
     "name": "stdout",
     "output_type": "stream",
     "text": [
      "Requirement already satisfied: PyJWT<3.0.0,>=2.0.1 in /Users/ah11500/opt/anaconda3/envs/yb1/lib/python3.8/site-packages (from ibm-cloud-sdk-core>=3.13.2->ibm-vpc->lithops==2.5.9.dev0) (2.3.0)\n",
      "Requirement already satisfied: pycparser in /Users/ah11500/opt/anaconda3/envs/yb1/lib/python3.8/site-packages (from cffi!=1.11.3,>=1.8->cryptography>=2.5->paramiko->lithops==2.5.9.dev0) (2.20)\n",
      "Requirement already satisfied: pyasn1>=0.1.3 in /Users/ah11500/opt/anaconda3/envs/yb1/lib/python3.8/site-packages (from rsa<5,>=3.1.4; python_version >= \"3.6\"->google-auth>=1.0.1->kubernetes->lithops==2.5.9.dev0) (0.4.8)\n",
      "Building wheels for collected packages: lithops\n",
      "  Building wheel for lithops (setup.py) ... \u001b[?25ldone\n",
      "\u001b[?25h  Created wheel for lithops: filename=lithops-2.5.9.dev0-py3-none-any.whl size=313590 sha256=d96265e9efcb28e84435f2a70d1831d82667feacc2e6ae5e63620180b529cc53\n",
      "  Stored in directory: /private/var/folders/lg/pbb4ypp52kx1shc2q76nnnlc0000gn/T/pip-ephem-wheel-cache-byx_yd6t/wheels/f2/7a/47/12c1c1acee8bccb6b8e4b06ee26d13fe6f304831832bb2a33d\n",
      "Successfully built lithops\n"
     ]
    }
   ],
   "source": [
    "!pip install git+https://github.com/lithops-cloud/lithops.git"
   ]
  },
  {
   "cell_type": "code",
   "execution_count": 2,
   "metadata": {
    "scrolled": true
   },
   "outputs": [
    {
     "name": "stdout",
     "output_type": "stream",
     "text": [
      "2022-01-04 21:31:41,616 [INFO] lithops.config -- Lithops v2.5.9.dev0\n",
      "2022-01-04 21:31:41,618 [INFO] lithops.storage.backends.localhost.localhost -- Localhost storage client created\n",
      "2022-01-04 21:31:41,618 [INFO] lithops.localhost.localhost -- Localhost compute client created\n",
      "2022-01-04 21:31:41,618 [INFO] lithops.invokers -- ExecutorID 98ffac-0 | JobID A000 - Selected Runtime: python \n",
      "2022-01-04 21:31:41,620 [INFO] lithops.invokers -- ExecutorID 98ffac-0 | JobID A000 - Starting function invocation: hello() - Total: 1 activations\n",
      "2022-01-04 21:31:41,930 [INFO] lithops.invokers -- ExecutorID 98ffac-0 | JobID A000 - View execution logs at /private/var/folders/lg/pbb4ypp52kx1shc2q76nnnlc0000gn/T/lithops/logs/98ffac-0-A000.log\n",
      "2022-01-04 21:31:41,931 [INFO] lithops.wait -- ExecutorID 98ffac-0 - Getting results from functions\n",
      "\n",
      "  100%|██████████████████████████████████████████████████████████████████| 1/1  \n",
      "\n",
      "2022-01-04 21:31:43,964 [INFO] lithops.executors -- ExecutorID 98ffac-0 - Cleaning temporary data\n",
      "\n",
      "Hello ah11500! Lithops is working as expected :)\n",
      "\n"
     ]
    }
   ],
   "source": [
    "!lithops test"
   ]
  },
  {
   "cell_type": "code",
   "execution_count": 17,
   "metadata": {},
   "outputs": [
    {
     "name": "stdout",
     "output_type": "stream",
     "text": [
      "Requirement already satisfied: lithops in /Users/ah11500/opt/anaconda3/envs/yb1/lib/python3.8/site-packages (2.5.9.dev0)\n",
      "Collecting aws\n",
      "  Downloading aws-0.2.5.tar.gz (5.6 kB)\n",
      "Requirement already satisfied: PyYAML in /Users/ah11500/opt/anaconda3/envs/yb1/lib/python3.8/site-packages (from lithops) (5.3.1)\n",
      "Requirement already satisfied: ps-mem in /Users/ah11500/opt/anaconda3/envs/yb1/lib/python3.8/site-packages (from lithops) (3.12)\n",
      "Requirement already satisfied: seaborn in /Users/ah11500/opt/anaconda3/envs/yb1/lib/python3.8/site-packages (from lithops) (0.11.0)\n",
      "Requirement already satisfied: pandas in /Users/ah11500/opt/anaconda3/envs/yb1/lib/python3.8/site-packages (from lithops) (1.1.3)\n",
      "Requirement already satisfied: tblib in /Users/ah11500/opt/anaconda3/envs/yb1/lib/python3.8/site-packages (from lithops) (1.7.0)\n",
      "Requirement already satisfied: ibm-cos-sdk in /Users/ah11500/opt/anaconda3/envs/yb1/lib/python3.8/site-packages (from lithops) (2.11.0)\n",
      "Requirement already satisfied: tqdm in /Users/ah11500/opt/anaconda3/envs/yb1/lib/python3.8/site-packages (from lithops) (4.50.2)\n",
      "Requirement already satisfied: docker in /Users/ah11500/opt/anaconda3/envs/yb1/lib/python3.8/site-packages (from lithops) (5.0.3)\n",
      "Requirement already satisfied: requests in /Users/ah11500/opt/anaconda3/envs/yb1/lib/python3.8/site-packages (from lithops) (2.24.0)\n",
      "Requirement already satisfied: ibm-vpc in /Users/ah11500/opt/anaconda3/envs/yb1/lib/python3.8/site-packages (from lithops) (0.9.0)\n",
      "Requirement already satisfied: kubernetes in /Users/ah11500/opt/anaconda3/envs/yb1/lib/python3.8/site-packages (from lithops) (21.7.0)\n",
      "Requirement already satisfied: python-dateutil in /Users/ah11500/opt/anaconda3/envs/yb1/lib/python3.8/site-packages (from lithops) (2.8.1)\n",
      "Requirement already satisfied: cloudpickle in /Users/ah11500/opt/anaconda3/envs/yb1/lib/python3.8/site-packages (from lithops) (1.6.0)\n",
      "Requirement already satisfied: redis in /Users/ah11500/opt/anaconda3/envs/yb1/lib/python3.8/site-packages (from lithops) (4.1.0)\n",
      "Requirement already satisfied: matplotlib in /Users/ah11500/opt/anaconda3/envs/yb1/lib/python3.8/site-packages (from lithops) (3.3.2)\n",
      "Requirement already satisfied: lxml in /Users/ah11500/opt/anaconda3/envs/yb1/lib/python3.8/site-packages (from lithops) (4.6.1)\n",
      "Requirement already satisfied: pika in /Users/ah11500/opt/anaconda3/envs/yb1/lib/python3.8/site-packages (from lithops) (1.2.0)\n",
      "Requirement already satisfied: paramiko in /Users/ah11500/opt/anaconda3/envs/yb1/lib/python3.8/site-packages (from lithops) (2.9.1)\n",
      "Requirement already satisfied: Click in /Users/ah11500/opt/anaconda3/envs/yb1/lib/python3.8/site-packages (from lithops) (7.1.2)\n",
      "Requirement already satisfied: boto in /Users/ah11500/opt/anaconda3/envs/yb1/lib/python3.8/site-packages (from aws) (2.49.0)\n",
      "Collecting fabric>=1.6\n",
      "  Downloading fabric-2.6.0-py2.py3-none-any.whl (53 kB)\n",
      "\u001b[K     |████████████████████████████████| 53 kB 690 kB/s eta 0:00:01\n",
      "\u001b[?25hCollecting prettytable>=0.7\n",
      "  Downloading prettytable-2.5.0-py3-none-any.whl (24 kB)\n",
      "Requirement already satisfied: numpy>=1.15 in /Users/ah11500/opt/anaconda3/envs/yb1/lib/python3.8/site-packages (from seaborn->lithops) (1.19.2)\n",
      "Requirement already satisfied: scipy>=1.0 in /Users/ah11500/opt/anaconda3/envs/yb1/lib/python3.8/site-packages (from seaborn->lithops) (1.5.2)\n",
      "Requirement already satisfied: pytz>=2017.2 in /Users/ah11500/opt/anaconda3/envs/yb1/lib/python3.8/site-packages (from pandas->lithops) (2020.1)\n",
      "Requirement already satisfied: ibm-cos-sdk-core==2.11.0 in /Users/ah11500/opt/anaconda3/envs/yb1/lib/python3.8/site-packages (from ibm-cos-sdk->lithops) (2.11.0)\n",
      "Requirement already satisfied: jmespath<1.0.0,>=0.7.1 in /Users/ah11500/opt/anaconda3/envs/yb1/lib/python3.8/site-packages (from ibm-cos-sdk->lithops) (0.10.0)\n",
      "Requirement already satisfied: ibm-cos-sdk-s3transfer==2.11.0 in /Users/ah11500/opt/anaconda3/envs/yb1/lib/python3.8/site-packages (from ibm-cos-sdk->lithops) (2.11.0)\n",
      "Requirement already satisfied: websocket-client>=0.32.0 in /Users/ah11500/opt/anaconda3/envs/yb1/lib/python3.8/site-packages (from docker->lithops) (1.2.3)\n",
      "Requirement already satisfied: chardet<4,>=3.0.2 in /Users/ah11500/opt/anaconda3/envs/yb1/lib/python3.8/site-packages (from requests->lithops) (3.0.4)\n",
      "Requirement already satisfied: idna<3,>=2.5 in /Users/ah11500/opt/anaconda3/envs/yb1/lib/python3.8/site-packages (from requests->lithops) (2.10)\n",
      "Requirement already satisfied: urllib3!=1.25.0,!=1.25.1,<1.26,>=1.21.1 in /Users/ah11500/opt/anaconda3/envs/yb1/lib/python3.8/site-packages (from requests->lithops) (1.25.11)\n",
      "Requirement already satisfied: certifi>=2017.4.17 in /Users/ah11500/opt/anaconda3/envs/yb1/lib/python3.8/site-packages (from requests->lithops) (2020.6.20)\n",
      "Requirement already satisfied: ibm-cloud-sdk-core>=3.13.2 in /Users/ah11500/opt/anaconda3/envs/yb1/lib/python3.8/site-packages (from ibm-vpc->lithops) (3.13.2)\n",
      "Requirement already satisfied: google-auth>=1.0.1 in /Users/ah11500/opt/anaconda3/envs/yb1/lib/python3.8/site-packages (from kubernetes->lithops) (2.3.3)\n",
      "Requirement already satisfied: setuptools>=21.0.0 in /Users/ah11500/opt/anaconda3/envs/yb1/lib/python3.8/site-packages (from kubernetes->lithops) (50.3.1.post20201107)\n",
      "Requirement already satisfied: requests-oauthlib in /Users/ah11500/opt/anaconda3/envs/yb1/lib/python3.8/site-packages (from kubernetes->lithops) (1.3.0)\n",
      "Requirement already satisfied: six>=1.9.0 in /Users/ah11500/opt/anaconda3/envs/yb1/lib/python3.8/site-packages (from kubernetes->lithops) (1.15.0)\n",
      "Requirement already satisfied: deprecated>=1.2.3 in /Users/ah11500/opt/anaconda3/envs/yb1/lib/python3.8/site-packages (from redis->lithops) (1.2.13)\n",
      "Requirement already satisfied: packaging>=21.3 in /Users/ah11500/opt/anaconda3/envs/yb1/lib/python3.8/site-packages (from redis->lithops) (21.3)\n",
      "Requirement already satisfied: pillow>=6.2.0 in /Users/ah11500/opt/anaconda3/envs/yb1/lib/python3.8/site-packages (from matplotlib->lithops) (8.0.1)\n",
      "Requirement already satisfied: pyparsing!=2.0.4,!=2.1.2,!=2.1.6,>=2.0.3 in /Users/ah11500/opt/anaconda3/envs/yb1/lib/python3.8/site-packages (from matplotlib->lithops) (2.4.7)\n",
      "Requirement already satisfied: kiwisolver>=1.0.1 in /Users/ah11500/opt/anaconda3/envs/yb1/lib/python3.8/site-packages (from matplotlib->lithops) (1.3.0)\n",
      "Requirement already satisfied: cycler>=0.10 in /Users/ah11500/opt/anaconda3/envs/yb1/lib/python3.8/site-packages (from matplotlib->lithops) (0.10.0)\n",
      "Requirement already satisfied: bcrypt>=3.1.3 in /Users/ah11500/opt/anaconda3/envs/yb1/lib/python3.8/site-packages (from paramiko->lithops) (3.2.0)\n",
      "Requirement already satisfied: pynacl>=1.0.1 in /Users/ah11500/opt/anaconda3/envs/yb1/lib/python3.8/site-packages (from paramiko->lithops) (1.4.0)\n",
      "Requirement already satisfied: cryptography>=2.5 in /Users/ah11500/opt/anaconda3/envs/yb1/lib/python3.8/site-packages (from paramiko->lithops) (3.1.1)\n",
      "Requirement already satisfied: pathlib2 in /Users/ah11500/opt/anaconda3/envs/yb1/lib/python3.8/site-packages (from fabric>=1.6->aws) (2.3.5)\n",
      "Collecting invoke<2.0,>=1.3\n",
      "  Downloading invoke-1.6.0-py3-none-any.whl (212 kB)\n",
      "\u001b[K     |████████████████████████████████| 212 kB 2.0 MB/s eta 0:00:01\n",
      "\u001b[?25hRequirement already satisfied: wcwidth in /Users/ah11500/opt/anaconda3/envs/yb1/lib/python3.8/site-packages (from prettytable>=0.7->aws) (0.2.5)\n",
      "Requirement already satisfied: PyJWT<3.0.0,>=2.0.1 in /Users/ah11500/opt/anaconda3/envs/yb1/lib/python3.8/site-packages (from ibm-cloud-sdk-core>=3.13.2->ibm-vpc->lithops) (2.3.0)\n",
      "Requirement already satisfied: rsa<5,>=3.1.4; python_version >= \"3.6\" in /Users/ah11500/opt/anaconda3/envs/yb1/lib/python3.8/site-packages (from google-auth>=1.0.1->kubernetes->lithops) (4.8)\n",
      "Requirement already satisfied: cachetools<5.0,>=2.0.0 in /Users/ah11500/opt/anaconda3/envs/yb1/lib/python3.8/site-packages (from google-auth>=1.0.1->kubernetes->lithops) (4.2.4)\n",
      "Requirement already satisfied: pyasn1-modules>=0.2.1 in /Users/ah11500/opt/anaconda3/envs/yb1/lib/python3.8/site-packages (from google-auth>=1.0.1->kubernetes->lithops) (0.2.8)\n",
      "Requirement already satisfied: oauthlib>=3.0.0 in /Users/ah11500/opt/anaconda3/envs/yb1/lib/python3.8/site-packages (from requests-oauthlib->kubernetes->lithops) (3.1.1)\n",
      "Requirement already satisfied: wrapt<2,>=1.10 in /Users/ah11500/opt/anaconda3/envs/yb1/lib/python3.8/site-packages (from deprecated>=1.2.3->redis->lithops) (1.11.2)\n",
      "Requirement already satisfied: cffi>=1.1 in /Users/ah11500/opt/anaconda3/envs/yb1/lib/python3.8/site-packages (from bcrypt>=3.1.3->paramiko->lithops) (1.14.3)\n",
      "Requirement already satisfied: pyasn1>=0.1.3 in /Users/ah11500/opt/anaconda3/envs/yb1/lib/python3.8/site-packages (from rsa<5,>=3.1.4; python_version >= \"3.6\"->google-auth>=1.0.1->kubernetes->lithops) (0.4.8)\n",
      "Requirement already satisfied: pycparser in /Users/ah11500/opt/anaconda3/envs/yb1/lib/python3.8/site-packages (from cffi>=1.1->bcrypt>=3.1.3->paramiko->lithops) (2.20)\n",
      "Building wheels for collected packages: aws\n"
     ]
    },
    {
     "name": "stdout",
     "output_type": "stream",
     "text": [
      "  Building wheel for aws (setup.py) ... \u001b[?25ldone\n",
      "\u001b[?25h  Created wheel for aws: filename=aws-0.2.5-py3-none-any.whl size=7461 sha256=b5baff69bc74dfc513f83fd0da1c4bd7cd7145f5e6cb78f8480487213f703f54\n",
      "  Stored in directory: /Users/ah11500/Library/Caches/pip/wheels/bc/92/fb/ee4b27c55c4e55e43d3fbb1f89699aeda162d3bf700fbba01a\n",
      "Successfully built aws\n",
      "Installing collected packages: invoke, fabric, prettytable, aws\n",
      "Successfully installed aws-0.2.5 fabric-2.6.0 invoke-1.6.0 prettytable-2.5.0\n"
     ]
    }
   ],
   "source": [
    "!pip install lithops aws"
   ]
  },
  {
   "cell_type": "code",
   "execution_count": 24,
   "metadata": {},
   "outputs": [
    {
     "name": "stdout",
     "output_type": "stream",
     "text": [
      "Collecting boto3\n",
      "  Downloading boto3-1.20.27-py3-none-any.whl (131 kB)\n",
      "\u001b[K     |████████████████████████████████| 131 kB 636 kB/s eta 0:00:01\n",
      "\u001b[?25hRequirement already satisfied: jmespath<1.0.0,>=0.7.1 in /Users/ah11500/opt/anaconda3/envs/yb1/lib/python3.8/site-packages (from boto3) (0.10.0)\n",
      "Collecting botocore<1.24.0,>=1.23.27\n",
      "  Downloading botocore-1.23.27-py3-none-any.whl (8.5 MB)\n",
      "\u001b[K     |████████████████████████████████| 8.5 MB 571 kB/s eta 0:00:01\n",
      "\u001b[?25hCollecting s3transfer<0.6.0,>=0.5.0\n",
      "  Downloading s3transfer-0.5.0-py3-none-any.whl (79 kB)\n",
      "\u001b[K     |████████████████████████████████| 79 kB 4.5 MB/s eta 0:00:01\n",
      "\u001b[?25hRequirement already satisfied: python-dateutil<3.0.0,>=2.1 in /Users/ah11500/opt/anaconda3/envs/yb1/lib/python3.8/site-packages (from botocore<1.24.0,>=1.23.27->boto3) (2.8.1)\n",
      "Requirement already satisfied: urllib3<1.27,>=1.25.4 in /Users/ah11500/opt/anaconda3/envs/yb1/lib/python3.8/site-packages (from botocore<1.24.0,>=1.23.27->boto3) (1.25.11)\n",
      "Requirement already satisfied: six>=1.5 in /Users/ah11500/opt/anaconda3/envs/yb1/lib/python3.8/site-packages (from python-dateutil<3.0.0,>=2.1->botocore<1.24.0,>=1.23.27->boto3) (1.15.0)\n",
      "Installing collected packages: botocore, s3transfer, boto3\n",
      "Successfully installed boto3-1.20.27 botocore-1.23.27 s3transfer-0.5.0\n"
     ]
    }
   ],
   "source": [
    "!pip install boto3"
   ]
  },
  {
   "cell_type": "code",
   "execution_count": 25,
   "metadata": {},
   "outputs": [],
   "source": [
    "import lithops\n",
    "import os"
   ]
  },
  {
   "cell_type": "code",
   "execution_count": 26,
   "metadata": {},
   "outputs": [],
   "source": [
    "AWSAccessKeyId = os.environ.get(\"AWSAccessKeyId\")\n",
    "AWSSecretKey = os.environ.get(\"AWSSecretKey\")"
   ]
  },
  {
   "cell_type": "code",
   "execution_count": 40,
   "metadata": {},
   "outputs": [],
   "source": [
    "config = {'lithops': {'backend': 'aws_lambda', 'storage': 'aws_s3', 'log_level':'DEBUG'},\n",
    "\n",
    "          'aws':  {'access_key_id': AWSAccessKeyId,\n",
    "                   'secret_access_key': AWSSecretKey},\n",
    "\n",
    "          'aws_s3': {'storage_bucket': 'idc-big-data',\n",
    "                     'region_name': 'eu-central-1'},\n",
    "          \n",
    "          'aws_lambda': {'execution_role': 'arn:aws:iam::981299761374:role/lithops-execution-role',\n",
    "                     'region_name': 'eu-central-1'}}"
   ]
  },
  {
   "cell_type": "code",
   "execution_count": 41,
   "metadata": {},
   "outputs": [
    {
     "name": "stderr",
     "output_type": "stream",
     "text": [
      "2022-01-04 22:43:12,259 [INFO] lithops.config -- Lithops v2.5.9.dev0\n",
      "2022-01-04 22:43:12,264 [INFO] lithops.storage.backends.aws_s3.aws_s3 -- S3 client created - Region: eu-central-1\n",
      "2022-01-04 22:43:13,070 [INFO] lithops.serverless.backends.aws_lambda.aws_lambda -- AWS Lambda client created - Region: eu-central-1\n",
      "2022-01-04 22:43:13,071 [INFO] lithops.invokers -- ExecutorID 9f2ec3-11 | JobID A000 - Selected Runtime: python38 - 256MB\n",
      "2022-01-04 22:43:13,869 [INFO] lithops.invokers -- ExecutorID 9f2ec3-11 | JobID A000 - Starting function invocation: hello() - Total: 1 activations\n",
      "2022-01-04 22:43:13,872 [INFO] lithops.invokers -- ExecutorID 9f2ec3-11 | JobID A000 - View execution logs at /private/var/folders/lg/pbb4ypp52kx1shc2q76nnnlc0000gn/T/lithops/logs/9f2ec3-11-A000.log\n",
      "2022-01-04 22:43:13,879 [INFO] lithops.storage.backends.aws_s3.aws_s3 -- S3 client created - Region: eu-central-1\n"
     ]
    },
    {
     "name": "stdout",
     "output_type": "stream",
     "text": [
      "Hello World!\n"
     ]
    }
   ],
   "source": [
    "def hello(name):\n",
    "    return 'Hello {}!'.format(name)\n",
    "\n",
    "with lithops.FunctionExecutor(config=config) as fexec:\n",
    "    fut = fexec.call_async(hello, 'World')\n",
    "    print(fut.result())"
   ]
  },
  {
   "cell_type": "markdown",
   "metadata": {},
   "source": [
    "# Question 1\n",
    "## Serverless MapReduceEngine\n",
    "\n",
    "Modify MapReduceEngine from homework 2 into the MapReduceServerlessEngine where map and reduce tasks executed as a serverless actions, instead of local threads. In particular:\n",
    "1. Deploy all map tasks as a serverless actions by using Lithops against IBM Cloud Functions.\n",
    "2. Collect results from all map tasks and store them in the same SQLite as you used in MapReduceEngine and use the same code for the sort and shuffle phase.\n",
    "3. Deploy reduce tasks by using Lithops against IBM Cloud Functions. Instead of persisting results from reduce tasks, return results back to the MapReduceServerlessEngine and proceed with the same workflow as in MapReduceEngine\n",
    "4. Return results of reduce tasks to the user\n",
    "\n",
    "**Please attach:**  \n",
    "Text file with all log messages Lithops printed to console during the execution. Make\n",
    "sure log level is set to DEBUG mode.\n",
    "\n",
    "#### Code:"
   ]
  },
  {
   "cell_type": "code",
   "execution_count": 35,
   "metadata": {},
   "outputs": [],
   "source": [
    "def create_connection(db_data):\n",
    "    try:\n",
    "        conn = sqlite3.connect(db_data)\n",
    "        print(\"Establish connection\")\n",
    "    except Error as e:\n",
    "        print(e)\n",
    "    finally:\n",
    "        return conn\n",
    "\n",
    "\n",
    "def create_table(conn, create_table_query):\n",
    "    try:\n",
    "        c = conn.cursor()\n",
    "        c.execute(create_table_query)\n",
    "    except Error as e:\n",
    "        print(e)\n",
    "        \n",
    "def query(conn, select_query):\n",
    "    try:\n",
    "        c = conn.cursor()\n",
    "        select_all = select_query\n",
    "        rows = c.execute(select_all).fetchall()\n",
    "        # Output to the console screen\n",
    "        return rows\n",
    "    \n",
    "    except Error as e:\n",
    "        print(e)"
   ]
  },
  {
   "cell_type": "code",
   "execution_count": 51,
   "metadata": {
    "scrolled": true
   },
   "outputs": [],
   "source": [
    "# import boto3 \n",
    "# from boto.s3.connection import S3Connection\n",
    "# s3 = S3Connection(AWSAccessKeyId, AWSSecretKey)\n",
    "# bucket = s3.get_bucket('s3://idc-big-data')\n",
    "# print(bucket)"
   ]
  },
  {
   "cell_type": "code",
   "execution_count": 52,
   "metadata": {},
   "outputs": [],
   "source": [
    "MYDATA_DB = 'file:s3://idc-big-data/db/temp_results.db'\n",
    "\n",
    "create_table_temp_results = '''CREATE TABLE IF NOT EXISTS temp_results(\n",
    "                                key TEXT,\n",
    "                                value TEXT)\n",
    "                            '''"
   ]
  },
  {
   "cell_type": "code",
   "execution_count": 53,
   "metadata": {},
   "outputs": [
    {
     "name": "stderr",
     "output_type": "stream",
     "text": [
      "2022-01-04 23:01:33,968 [INFO] lithops.invokers -- ExecutorID 9f2ec3-11 | JobID A003 - Selected Runtime: python38 - 256MB\n",
      "2022-01-04 23:01:33,969 [INFO] lithops.invokers -- ExecutorID 9f2ec3-11 | JobID A003 - Starting function invocation: create_connection() - Total: 1 activations\n",
      "2022-01-04 23:01:33,970 [INFO] lithops.invokers -- ExecutorID 9f2ec3-11 | JobID A003 - View execution logs at /private/var/folders/lg/pbb4ypp52kx1shc2q76nnnlc0000gn/T/lithops/logs/9f2ec3-11-A003.log\n"
     ]
    },
    {
     "data": {
      "text/plain": [
       "<lithops.future.ResponseFuture at 0x7f83298b1f70>"
      ]
     },
     "execution_count": 53,
     "metadata": {},
     "output_type": "execute_result"
    }
   ],
   "source": [
    "fexec.call_async(create_connection, MYDATA_DB)\n",
    "\n",
    "# conn = create_connection(MYDATA_DB)\n",
    "# create_table(conn,create_table_temp_results)"
   ]
  },
  {
   "cell_type": "code",
   "execution_count": null,
   "metadata": {},
   "outputs": [],
   "source": [
    "import concurrent.futures as cf\n",
    "\n",
    "class MapReduceEngine():\n",
    "    \n",
    "    def execute(self, input_data, map_function, reduce_function, params):\n",
    "                        \n",
    "        # map function\n",
    "        threads = []\n",
    "        \n",
    "        for count, csv_file in enumerate(input_data):\n",
    "            with cf.ThreadPoolExecutor() as executor:\n",
    "                t = executor.submit(map_function, csv_file, params)             \n",
    "                df = t.result()\n",
    "                df.to_csv(f'mapreducetemp/part-tmp-{count+1}.csv', index=False)\n",
    "                threads.append(t)\n",
    "                \n",
    "        # Check if all threads are completed:   \n",
    "        if len(threads) != len(input_data):\n",
    "            print(\"MapReduce Failed\")\n",
    "            return\n",
    "\n",
    "            \n",
    "        threads.clear()\n",
    "\n",
    "        # Load contect of all CSV files into the temp_results table\n",
    "        for i in range(len(input_data)):\n",
    "            data = pd.read_csv(f'mapreducetemp/part-tmp-{i+1}.csv')\n",
    "            data.to_sql('temp_results',conn, if_exists='append',index=False)\n",
    "        \n",
    "        # SQL statements:\n",
    "        grouping_query = \"SELECT key, GROUP_CONCAT(value,',') FROM temp_results GROUP BY key\"\n",
    "        reduce_input_values = query(conn,grouping_query)\n",
    "        \n",
    "        unique_keys = \"SELECT  count(distinct key) FROM temp_results\"\n",
    "        reduce_threads = query(conn,unique_keys)[0][0]\n",
    "        \n",
    "        # reduce function\n",
    "        threads = []\n",
    "        \n",
    "        for i in range(reduce_threads):\n",
    "            with cf.ThreadPoolExecutor() as executor:\n",
    "                key = reduce_input_values[i][0]\n",
    "                values = reduce_input_values[i][1].split(',')\n",
    "                \n",
    "                t = executor.submit(reduce_function, key, values)             \n",
    "                df = t.result()\n",
    "                df.to_csv(f'mapreducefinal/part-{i+1}-final.csv', index=False)\n",
    "                threads.append(t)\n",
    "        \n",
    "        # Check if all threads are completed:   \n",
    "        if len(threads) != reduce_threads:\n",
    "            print(\"MapReduce Failed\")\n",
    "            return\n",
    "        \n",
    "        else:\n",
    "            print(\"MapReduce Completed\")         "
   ]
  },
  {
   "cell_type": "code",
   "execution_count": null,
   "metadata": {},
   "outputs": [],
   "source": [
    "# The goal of map function is to create csv files. \n",
    "# Therfore we chose to optimize the process and not create unnecessary variables (such as list) and return a data frame. \n",
    "\n",
    "def inverted_map(document_name:str, column_index:dict):\n",
    "    csv_dir = f'csv_files/{document_name}'\n",
    "    file = pd.read_csv(csv_dir)\n",
    "    df = pd.DataFrame({'key':file.iloc[:,column_index['column']],'value':csv_dir})\n",
    "    return df \n"
   ]
  },
  {
   "cell_type": "code",
   "execution_count": null,
   "metadata": {},
   "outputs": [],
   "source": [
    "# The goal of reduce function is to create csv files. \n",
    "# Therfore we chose to optimize the process and not create unnecessary variables (such as list) and return a data frame. \n",
    "\n",
    "def inverted_reduce(key,documents):\n",
    "    df = pd.DataFrame({'key':key,'value':list(set(documents))})\n",
    "    return df\n",
    "\n"
   ]
  },
  {
   "cell_type": "code",
   "execution_count": null,
   "metadata": {},
   "outputs": [],
   "source": [
    "from os import listdir\n",
    "\n",
    "def find_csv_filenames(path_to_dir, suffix=\".csv\" ):\n",
    "    filenames = listdir(path_to_dir)\n",
    "    return [ filename for filename in filenames if filename.endswith( suffix ) ]"
   ]
  },
  {
   "cell_type": "code",
   "execution_count": null,
   "metadata": {},
   "outputs": [],
   "source": [
    "input_data = find_csv_filenames('csv_files/')"
   ]
  },
  {
   "cell_type": "code",
   "execution_count": null,
   "metadata": {},
   "outputs": [],
   "source": [
    "mapreduce = MapReduceEngine()\n",
    "params = {'column':2}\n",
    "status = mapreduce.execute(input_data, inverted_map, inverted_reduce, params)"
   ]
  },
  {
   "cell_type": "code",
   "execution_count": null,
   "metadata": {},
   "outputs": [],
   "source": []
  },
  {
   "cell_type": "code",
   "execution_count": null,
   "metadata": {},
   "outputs": [],
   "source": []
  },
  {
   "cell_type": "markdown",
   "metadata": {},
   "source": [
    "# Task 2\n",
    "## Submit MapReduce job to calculate inverted index\n",
    "1. Use input_data: `cos://bucket/<path to CSV data>`\n",
    "2. Submit MapReduce job with reduce and map functions as you used in homework 2, as follows\n",
    "\n",
    "    `mapreduce = MapReduceServerlessEngine()`  \n",
    "    `results = mapreduce.execute(input_data, inverted_map, inverted_index)`   \n",
    "    `print(results)`\n",
    "\n",
    "**Please attach:**  \n",
    "Text file with all log messages Lithops printed to console during the execution. Make\n",
    "sure log level is set to DEBUG mode.\n",
    "\n",
    "#### Code:"
   ]
  },
  {
   "cell_type": "code",
   "execution_count": null,
   "metadata": {},
   "outputs": [],
   "source": []
  },
  {
   "cell_type": "code",
   "execution_count": null,
   "metadata": {},
   "outputs": [],
   "source": []
  },
  {
   "cell_type": "code",
   "execution_count": null,
   "metadata": {},
   "outputs": [],
   "source": []
  },
  {
   "cell_type": "code",
   "execution_count": null,
   "metadata": {},
   "outputs": [],
   "source": []
  },
  {
   "cell_type": "markdown",
   "metadata": {},
   "source": [
    "# Question 3\n",
    "## Shuffle\n",
    "\n",
    "MapReduceServerlessEngine deploys both map and reduce tasks as serverless invocations.   \n",
    "However, once map stage completed, the result are transferred from the map tasks to the SQLite database located on the client machine (laptop in your case), then performed local shuffle and then invoked reduce tasks passing them relevant parameters.\n",
    "\n",
    "(To support your answers, feel free to use examples, Images, etc.)\n",
    "<br><br>"
   ]
  },
  {
   "cell_type": "markdown",
   "metadata": {},
   "source": [
    "**1. Explain why this approach is not efficient and what are cons and pros of such architecture in general. In broader scope you may assume that MapReduceServerlessEngine executed in some powerful machine and not just laptop.**"
   ]
  },
  {
   "cell_type": "markdown",
   "metadata": {},
   "source": [
    "\\<your answer here>"
   ]
  },
  {
   "cell_type": "markdown",
   "metadata": {},
   "source": [
    "<br><br>\n",
    "**2. Suggest how can you improve shuffle so intermediate data will not be downloaded to the client at all and shuffle performed in the cloud as well. Explain pros and cons of the approaches you suggest.**\n"
   ]
  },
  {
   "cell_type": "markdown",
   "metadata": {},
   "source": [
    "\\<your answer here>"
   ]
  },
  {
   "cell_type": "markdown",
   "metadata": {},
   "source": [
    "<br><br>\n",
    "**3. Can you make serverless shuffle?**\n"
   ]
  },
  {
   "cell_type": "markdown",
   "metadata": {},
   "source": [
    "\\<your answer here>"
   ]
  },
  {
   "cell_type": "markdown",
   "metadata": {},
   "source": [
    "<br><br><br><br>\n",
    "Good Luck :) "
   ]
  }
 ],
 "metadata": {
  "kernelspec": {
   "display_name": "Python 3",
   "language": "python",
   "name": "python3"
  },
  "language_info": {
   "codemirror_mode": {
    "name": "ipython",
    "version": 3
   },
   "file_extension": ".py",
   "mimetype": "text/x-python",
   "name": "python",
   "nbconvert_exporter": "python",
   "pygments_lexer": "ipython3",
   "version": "3.8.5"
  }
 },
 "nbformat": 4,
 "nbformat_minor": 4
}
